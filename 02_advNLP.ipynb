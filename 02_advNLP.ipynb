{
  "nbformat": 4,
  "nbformat_minor": 0,
  "metadata": {
    "colab": {
      "name": "02_advNLP.ipynb",
      "version": "0.3.2",
      "provenance": []
    },
    "kernelspec": {
      "name": "python3",
      "display_name": "Python 3"
    },
    "accelerator": "GPU"
  },
  "cells": [
    {
      "cell_type": "code",
      "metadata": {
        "id": "asIIW2dAReOd",
        "colab_type": "code",
        "colab": {
          "base_uri": "https://localhost:8080/",
          "height": 387
        },
        "outputId": "6a799f21-a466-4cf5-eb34-47d7c84507f0"
      },
      "source": [
        "!wget http://nlp.stanford.edu/data/glove.6B.zip"
      ],
      "execution_count": 1,
      "outputs": [
        {
          "output_type": "stream",
          "text": [
            "--2019-08-08 12:50:26--  http://nlp.stanford.edu/data/glove.6B.zip\n",
            "Resolving nlp.stanford.edu (nlp.stanford.edu)... 171.64.67.140\n",
            "Connecting to nlp.stanford.edu (nlp.stanford.edu)|171.64.67.140|:80... connected.\n",
            "HTTP request sent, awaiting response... 302 Found\n",
            "Location: https://nlp.stanford.edu/data/glove.6B.zip [following]\n",
            "--2019-08-08 12:50:26--  https://nlp.stanford.edu/data/glove.6B.zip\n",
            "Connecting to nlp.stanford.edu (nlp.stanford.edu)|171.64.67.140|:443... connected.\n",
            "HTTP request sent, awaiting response... 301 Moved Permanently\n",
            "Location: http://downloads.cs.stanford.edu/nlp/data/glove.6B.zip [following]\n",
            "--2019-08-08 12:50:27--  http://downloads.cs.stanford.edu/nlp/data/glove.6B.zip\n",
            "Resolving downloads.cs.stanford.edu (downloads.cs.stanford.edu)... 171.64.64.22\n",
            "Connecting to downloads.cs.stanford.edu (downloads.cs.stanford.edu)|171.64.64.22|:80... connected.\n",
            "HTTP request sent, awaiting response... 200 OK\n",
            "Length: 862182613 (822M) [application/zip]\n",
            "Saving to: ‘glove.6B.zip’\n",
            "\n",
            "glove.6B.zip        100%[===================>] 822.24M  19.0MB/s    in 46s     \n",
            "\n",
            "2019-08-08 12:51:13 (18.0 MB/s) - ‘glove.6B.zip’ saved [862182613/862182613]\n",
            "\n"
          ],
          "name": "stdout"
        }
      ]
    },
    {
      "cell_type": "code",
      "metadata": {
        "id": "bQOW3XF-R0lK",
        "colab_type": "code",
        "colab": {
          "base_uri": "https://localhost:8080/",
          "height": 109
        },
        "outputId": "4f0297c2-55ed-42e1-9c2e-a169f31b3b6f"
      },
      "source": [
        "!unzip glove.6B.zip"
      ],
      "execution_count": 2,
      "outputs": [
        {
          "output_type": "stream",
          "text": [
            "Archive:  glove.6B.zip\n",
            "  inflating: glove.6B.50d.txt        \n",
            "  inflating: glove.6B.100d.txt       \n",
            "  inflating: glove.6B.200d.txt       \n",
            "  inflating: glove.6B.300d.txt       \n"
          ],
          "name": "stdout"
        }
      ]
    },
    {
      "cell_type": "code",
      "metadata": {
        "id": "sgjJ8AB_SbmR",
        "colab_type": "code",
        "colab": {
          "base_uri": "https://localhost:8080/",
          "height": 109
        },
        "outputId": "3f17ebcc-d7f1-42fd-8578-7e40234b8cdb"
      },
      "source": [
        "!unzip jigsaw-toxic-comment-classification-challenge.zip"
      ],
      "execution_count": 3,
      "outputs": [
        {
          "output_type": "stream",
          "text": [
            "Archive:  jigsaw-toxic-comment-classification-challenge.zip\n",
            "  inflating: test_labels.csv         \n",
            "  inflating: sample_submission.csv   \n",
            "  inflating: test.csv                \n",
            "  inflating: train.csv               \n"
          ],
          "name": "stdout"
        }
      ]
    },
    {
      "cell_type": "code",
      "metadata": {
        "id": "oxVjEwMnVyDM",
        "colab_type": "code",
        "colab": {}
      },
      "source": [
        "import os\n",
        "import sys\n",
        "import numpy as np\n",
        "import pandas as pd\n",
        "import matplotlib.pyplot as plt"
      ],
      "execution_count": 0,
      "outputs": []
    },
    {
      "cell_type": "code",
      "metadata": {
        "id": "A1Sr_hGKWEXY",
        "colab_type": "code",
        "colab": {
          "base_uri": "https://localhost:8080/",
          "height": 35
        },
        "outputId": "24a8eebc-ce22-4083-8f83-c07e52f44abf"
      },
      "source": [
        "from keras.models import Model\n",
        "from keras.layers import (Dense,Embedding,Input,LSTM,Bidirectional,\n",
        "                          GlobalMaxPooling1D,Dropout)\n",
        "from keras.preprocessing.text import Tokenizer\n",
        "from keras.preprocessing.sequence import pad_sequences\n",
        "from keras.optimizers import Adam\n",
        "from sklearn.metrics import roc_auc_score"
      ],
      "execution_count": 4,
      "outputs": [
        {
          "output_type": "stream",
          "text": [
            "Using TensorFlow backend.\n"
          ],
          "name": "stderr"
        }
      ]
    },
    {
      "cell_type": "code",
      "metadata": {
        "id": "yUD8PAZDW9Dh",
        "colab_type": "code",
        "colab": {}
      },
      "source": [
        "MAX_SEQUENCE_LENGTH = 100\n",
        "MAX_VOCAB_SIZE = 20000\n",
        "EMBEDDING_DIM = 100\n",
        "VALIDATION_SPLIT = 0.2\n",
        "BATCH_SIZE = 128\n",
        "EPOCHS = 10"
      ],
      "execution_count": 0,
      "outputs": []
    },
    {
      "cell_type": "code",
      "metadata": {
        "id": "CsXAKZsbXb3F",
        "colab_type": "code",
        "colab": {
          "base_uri": "https://localhost:8080/",
          "height": 54
        },
        "outputId": "18e8c049-b480-48f6-a439-ea3386848068"
      },
      "source": [
        "# load in pre-trained word vectors\n",
        "print('Loading word vectors...')\n",
        "word2vec = {}\n",
        "with open('glove.6B.%sd.txt'%EMBEDDING_DIM) as f:\n",
        "  for line in f:\n",
        "    values = line.split()\n",
        "    word = values[0]\n",
        "    vec = np.asarray(values[1:],dtype='float32')\n",
        "    word2vec[word] = vec\n",
        "  print('Found %s word vectors.'%len(word2vec))"
      ],
      "execution_count": 9,
      "outputs": [
        {
          "output_type": "stream",
          "text": [
            "Loading word vectors...\n",
            "Found 400000 word vectors.\n"
          ],
          "name": "stdout"
        }
      ]
    },
    {
      "cell_type": "code",
      "metadata": {
        "id": "BmxAWyx1Xeko",
        "colab_type": "code",
        "colab": {
          "base_uri": "https://localhost:8080/",
          "height": 35
        },
        "outputId": "e9558e17-16bd-41b1-e07d-f024932fbf86"
      },
      "source": [
        "# prepare text samples and their labels\n",
        "print('Loading in comments...')\n",
        "train = pd.read_csv('train.csv')\n",
        "sentences = train['comment_text'].values\n",
        "possible_labels = ['toxic','severe_toxic','obscene',\n",
        "                   'threat','insult','identity_hate']\n",
        "targets = train[possible_labels].values"
      ],
      "execution_count": 10,
      "outputs": [
        {
          "output_type": "stream",
          "text": [
            "Loading in comments...\n"
          ],
          "name": "stdout"
        }
      ]
    },
    {
      "cell_type": "code",
      "metadata": {
        "id": "FZExSHT2Xo0Z",
        "colab_type": "code",
        "colab": {}
      },
      "source": [
        "# convert the sentences (strings) into integers\n",
        "tokenizer = Tokenizer(num_words=MAX_VOCAB_SIZE)\n",
        "tokenizer.fit_on_texts(sentences)\n",
        "sequences = tokenizer.texts_to_sequences(sentences)"
      ],
      "execution_count": 0,
      "outputs": []
    },
    {
      "cell_type": "code",
      "metadata": {
        "id": "UY4DmWtOXsPs",
        "colab_type": "code",
        "colab": {
          "base_uri": "https://localhost:8080/",
          "height": 35
        },
        "outputId": "8a88d676-880f-4782-8157-d9a102b47693"
      },
      "source": [
        "# get word -> integer mapping\n",
        "word2idx = tokenizer.word_index\n",
        "print('Found %s unique tokens.'%len(word2idx))"
      ],
      "execution_count": 12,
      "outputs": [
        {
          "output_type": "stream",
          "text": [
            "Found 210337 unique tokens.\n"
          ],
          "name": "stdout"
        }
      ]
    },
    {
      "cell_type": "code",
      "metadata": {
        "id": "_9UjenHxXvB6",
        "colab_type": "code",
        "colab": {
          "base_uri": "https://localhost:8080/",
          "height": 35
        },
        "outputId": "db69f35f-f202-4234-8a36-8352bcf449fc"
      },
      "source": [
        "# pad sequences\n",
        "data = pad_sequences(sequences, maxlen=MAX_SEQUENCE_LENGTH)\n",
        "print('Shape of data tensor:',data.shape)"
      ],
      "execution_count": 13,
      "outputs": [
        {
          "output_type": "stream",
          "text": [
            "Shape of data tensor: (159571, 100)\n"
          ],
          "name": "stdout"
        }
      ]
    },
    {
      "cell_type": "code",
      "metadata": {
        "id": "ixoc_kNPX0rI",
        "colab_type": "code",
        "colab": {
          "base_uri": "https://localhost:8080/",
          "height": 35
        },
        "outputId": "3ed5cf67-82d3-4e75-ca2f-7e58bc1347a3"
      },
      "source": [
        "# prepare embedding matrix\n",
        "print('Filling pre-trained embeddings...')\n",
        "num_words = min(MAX_VOCAB_SIZE, len(word2idx)+1)\n",
        "embedding_matrix = np.zeros((num_words, EMBEDDING_DIM))\n",
        "for word, i in word2idx.items():\n",
        "  if i < MAX_VOCAB_SIZE:\n",
        "    embedding_vector = word2vec.get(word)\n",
        "    if embedding_vector is not None:\n",
        "      embedding_matrix[i] = embedding_vector"
      ],
      "execution_count": 14,
      "outputs": [
        {
          "output_type": "stream",
          "text": [
            "Filling pre-trained embeddings...\n"
          ],
          "name": "stdout"
        }
      ]
    },
    {
      "cell_type": "code",
      "metadata": {
        "id": "1eXsAABKX2AP",
        "colab_type": "code",
        "colab": {}
      },
      "source": [
        "# loading pre-trained word embeddings into an Embedding Layer\n",
        "embedding_layer = Embedding(num_words,\n",
        "                            EMBEDDING_DIM,\n",
        "                            weights=[embedding_matrix],\n",
        "                            input_length=MAX_SEQUENCE_LENGTH,\n",
        "                            trainable=False)"
      ],
      "execution_count": 0,
      "outputs": []
    },
    {
      "cell_type": "code",
      "metadata": {
        "id": "6D96Oz4eX5vQ",
        "colab_type": "code",
        "colab": {}
      },
      "source": [
        "print('Building the model...')\n",
        "input_ = Input(shape=(MAX_SEQUENCE_LENGTH,))\n",
        "x = embedding_layer(input_)\n",
        "x = LSTM(15, return_sequences=True)(x)\n",
        "x = GlobalMaxPooling1D()(x)\n",
        "output = Dense(len(possible_labels),activation='sigmoid')(x)"
      ],
      "execution_count": 0,
      "outputs": []
    },
    {
      "cell_type": "code",
      "metadata": {
        "id": "nHRctuVKYl5r",
        "colab_type": "code",
        "colab": {}
      },
      "source": [
        "model = Model(input_,output)\n",
        "model.compile(loss='binary_crossentropy',optimizer=Adam(lr=0.01),metrics=['accuracy'])"
      ],
      "execution_count": 0,
      "outputs": []
    },
    {
      "cell_type": "code",
      "metadata": {
        "id": "CUy5qfdhYy4I",
        "colab_type": "code",
        "colab": {
          "base_uri": "https://localhost:8080/",
          "height": 424
        },
        "outputId": "dfcbc997-ea62-496e-e16f-ad986985b230"
      },
      "source": [
        "print('Training model..')\n",
        "r = model.fit(data, targets, batch_size=BATCH_SIZE,\n",
        "              epochs=EPOCHS, validation_split=VALIDATION_SPLIT)"
      ],
      "execution_count": 23,
      "outputs": [
        {
          "output_type": "stream",
          "text": [
            "Training model..\n",
            "Train on 127656 samples, validate on 31915 samples\n",
            "Epoch 1/10\n",
            "127656/127656 [==============================] - 212s 2ms/step - loss: 0.0809 - acc: 0.9748 - val_loss: 0.0588 - val_acc: 0.9799\n",
            "Epoch 2/10\n",
            "127656/127656 [==============================] - 212s 2ms/step - loss: 0.0564 - acc: 0.9804 - val_loss: 0.0569 - val_acc: 0.9801\n",
            "Epoch 3/10\n",
            "127656/127656 [==============================] - 212s 2ms/step - loss: 0.0545 - acc: 0.9808 - val_loss: 0.0561 - val_acc: 0.9802\n",
            "Epoch 4/10\n",
            "127656/127656 [==============================] - 210s 2ms/step - loss: 0.0538 - acc: 0.9808 - val_loss: 0.0544 - val_acc: 0.9808\n",
            "Epoch 5/10\n",
            "127656/127656 [==============================] - 209s 2ms/step - loss: 0.0517 - acc: 0.9813 - val_loss: 0.0551 - val_acc: 0.9805\n",
            "Epoch 6/10\n",
            "127656/127656 [==============================] - 212s 2ms/step - loss: 0.0513 - acc: 0.9814 - val_loss: 0.0541 - val_acc: 0.9805\n",
            "Epoch 7/10\n",
            "127656/127656 [==============================] - 212s 2ms/step - loss: 0.0504 - acc: 0.9816 - val_loss: 0.0539 - val_acc: 0.9804\n",
            "Epoch 8/10\n",
            "127656/127656 [==============================] - 214s 2ms/step - loss: 0.0499 - acc: 0.9819 - val_loss: 0.0534 - val_acc: 0.9807\n",
            "Epoch 9/10\n",
            "127656/127656 [==============================] - 213s 2ms/step - loss: 0.0495 - acc: 0.9820 - val_loss: 0.0539 - val_acc: 0.9807\n",
            "Epoch 10/10\n",
            "127656/127656 [==============================] - 216s 2ms/step - loss: 0.0493 - acc: 0.9821 - val_loss: 0.0529 - val_acc: 0.9811\n"
          ],
          "name": "stdout"
        }
      ]
    },
    {
      "cell_type": "code",
      "metadata": {
        "id": "9pJ_pMZOZJ0k",
        "colab_type": "code",
        "colab": {
          "base_uri": "https://localhost:8080/",
          "height": 269
        },
        "outputId": "4fe61af1-2a38-4c67-a85b-11917cf96a52"
      },
      "source": [
        "# plot the results\n",
        "plt.plot(r.history['loss'],label='loss')\n",
        "plt.plot(r.history['val_loss'],label='val_loss')\n",
        "plt.legend()\n",
        "plt.show()"
      ],
      "execution_count": 24,
      "outputs": [
        {
          "output_type": "display_data",
          "data": {
            "image/png": "[encoded data removed]",
            "text/plain": [
              "<Figure size 432x288 with 1 Axes>"
            ]
          },
          "metadata": {
            "tags": []
          }
        }
      ]
    },
    {
      "cell_type": "code",
      "metadata": {
        "id": "7ufZcM5AZUq-",
        "colab_type": "code",
        "colab": {
          "base_uri": "https://localhost:8080/",
          "height": 269
        },
        "outputId": "ce7912dd-d419-4ca7-c634-313552409c8f"
      },
      "source": [
        "# accuracies\n",
        "plt.plot(r.history['acc'],label='acc')\n",
        "plt.plot(r.history['val_acc'],label='val_acc')\n",
        "plt.legend()\n",
        "plt.show()"
      ],
      "execution_count": 25,
      "outputs": [
        {
          "output_type": "display_data",
          "data": {
            "image/png": "[encoded data removed]",
            "text/plain": [
              "<Figure size 432x288 with 1 Axes>"
            ]
          },
          "metadata": {
            "tags": []
          }
        }
      ]
    },
    {
      "cell_type": "markdown",
      "metadata": {
        "id": "nrzauvcFicjP",
        "colab_type": "text"
      },
      "source": [
        "## Using Bidirectional LSTM"
      ]
    },
    {
      "cell_type": "code",
      "metadata": {
        "id": "hwT096wshUNj",
        "colab_type": "code",
        "colab": {
          "base_uri": "https://localhost:8080/",
          "height": 35
        },
        "outputId": "ce4ee3c4-5103-463a-8ffc-bf5ecddcc758"
      },
      "source": [
        "print('Building the model...')\n",
        "input_ = Input(shape=(MAX_SEQUENCE_LENGTH,))\n",
        "x = embedding_layer(input_)\n",
        "x = Bidirectional(LSTM(15, return_sequences=True))(x)\n",
        "x = GlobalMaxPooling1D()(x)\n",
        "output = Dense(len(possible_labels),activation='sigmoid')(x)"
      ],
      "execution_count": 28,
      "outputs": [
        {
          "output_type": "stream",
          "text": [
            "Building the model...\n"
          ],
          "name": "stdout"
        }
      ]
    },
    {
      "cell_type": "code",
      "metadata": {
        "id": "gKbp18q3i2YM",
        "colab_type": "code",
        "colab": {}
      },
      "source": [
        "model = Model(input_,output)\n",
        "model.compile(loss='binary_crossentropy',optimizer=Adam(lr=0.01),metrics=['accuracy'])"
      ],
      "execution_count": 0,
      "outputs": []
    },
    {
      "cell_type": "code",
      "metadata": {
        "id": "FnTp0RWxi6zx",
        "colab_type": "code",
        "colab": {
          "base_uri": "https://localhost:8080/",
          "height": 424
        },
        "outputId": "d9e69920-a21f-47d3-bbbe-2b1bfc438389"
      },
      "source": [
        "print('Training model..')\n",
        "r = model.fit(data, targets, batch_size=BATCH_SIZE,\n",
        "              epochs=EPOCHS, validation_split=VALIDATION_SPLIT)"
      ],
      "execution_count": 30,
      "outputs": [
        {
          "output_type": "stream",
          "text": [
            "Training model..\n",
            "Train on 127656 samples, validate on 31915 samples\n",
            "Epoch 1/10\n",
            "127656/127656 [==============================] - 464s 4ms/step - loss: 0.0677 - acc: 0.9775 - val_loss: 0.0550 - val_acc: 0.9807\n",
            "Epoch 2/10\n",
            "127656/127656 [==============================] - 459s 4ms/step - loss: 0.0525 - acc: 0.9812 - val_loss: 0.0527 - val_acc: 0.9809\n",
            "Epoch 3/10\n",
            "127656/127656 [==============================] - 464s 4ms/step - loss: 0.0499 - acc: 0.9819 - val_loss: 0.0518 - val_acc: 0.9813\n",
            "Epoch 4/10\n",
            "127656/127656 [==============================] - 462s 4ms/step - loss: 0.0487 - acc: 0.9822 - val_loss: 0.0517 - val_acc: 0.9813\n",
            "Epoch 5/10\n",
            "127656/127656 [==============================] - 456s 4ms/step - loss: 0.0478 - acc: 0.9826 - val_loss: 0.0512 - val_acc: 0.9813\n",
            "Epoch 6/10\n",
            "127656/127656 [==============================] - 456s 4ms/step - loss: 0.0471 - acc: 0.9826 - val_loss: 0.0503 - val_acc: 0.9818\n",
            "Epoch 7/10\n",
            "127656/127656 [==============================] - 459s 4ms/step - loss: 0.0464 - acc: 0.9829 - val_loss: 0.0513 - val_acc: 0.9817\n",
            "Epoch 8/10\n",
            "127656/127656 [==============================] - 459s 4ms/step - loss: 0.0458 - acc: 0.9830 - val_loss: 0.0509 - val_acc: 0.9816\n",
            "Epoch 9/10\n",
            "127656/127656 [==============================] - 461s 4ms/step - loss: 0.0454 - acc: 0.9831 - val_loss: 0.0513 - val_acc: 0.9813\n",
            "Epoch 10/10\n",
            "127656/127656 [==============================] - 460s 4ms/step - loss: 0.0448 - acc: 0.9832 - val_loss: 0.0511 - val_acc: 0.9814\n"
          ],
          "name": "stdout"
        }
      ]
    },
    {
      "cell_type": "code",
      "metadata": {
        "id": "zQ16WhFxi-pY",
        "colab_type": "code",
        "colab": {
          "base_uri": "https://localhost:8080/",
          "height": 269
        },
        "outputId": "15154a20-ffe0-4148-d885-41004e611cd2"
      },
      "source": [
        "# plot the results\n",
        "plt.plot(r.history['loss'],label='loss')\n",
        "plt.plot(r.history['val_loss'],label='val_loss')\n",
        "plt.legend()\n",
        "plt.show()"
      ],
      "execution_count": 31,
      "outputs": [
        {
          "output_type": "display_data",
          "data": {
            "image/png": "[encoded data removed]",
            "text/plain": [
              "<Figure size 432x288 with 1 Axes>"
            ]
          },
          "metadata": {
            "tags": []
          }
        }
      ]
    },
    {
      "cell_type": "code",
      "metadata": {
        "id": "0jZKvMSh5JPb",
        "colab_type": "code",
        "colab": {
          "base_uri": "https://localhost:8080/",
          "height": 269
        },
        "outputId": "86507dd3-104a-44b8-fba5-03d92a513713"
      },
      "source": [
        "# accuracies\n",
        "plt.plot(r.history['acc'],label='acc')\n",
        "plt.plot(r.history['val_acc'],label='val_acc')\n",
        "plt.legend()\n",
        "plt.show()"
      ],
      "execution_count": 32,
      "outputs": [
        {
          "output_type": "display_data",
          "data": {
            "image/png": "[encoded data removed]",
            "text/plain": [
              "<Figure size 432x288 with 1 Axes>"
            ]
          },
          "metadata": {
            "tags": []
          }
        }
      ]
    },
    {
      "cell_type": "code",
      "metadata": {
        "id": "4OVNJ77l5PHi",
        "colab_type": "code",
        "colab": {}
      },
      "source": [
        ""
      ],
      "execution_count": 0,
      "outputs": []
    }
  ]
}