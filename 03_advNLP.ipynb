{
  "nbformat": 4,
  "nbformat_minor": 0,
  "metadata": {
    "colab": {
      "name": "03_advNLP.ipynb",
      "version": "0.3.2",
      "provenance": []
    },
    "kernelspec": {
      "name": "python3",
      "display_name": "Python 3"
    },
    "accelerator": "GPU"
  },
  "cells": [
    {
      "cell_type": "markdown",
      "metadata": {
        "id": "MRGopV36IR7N",
        "colab_type": "text"
      },
      "source": [
        "## Image Classification using Bidirectional LSTM"
      ]
    },
    {
      "cell_type": "code",
      "metadata": {
        "id": "ecJQECL3FF_1",
        "colab_type": "code",
        "colab": {}
      },
      "source": [
        "import os\n",
        "from keras.models import Model\n",
        "from keras.layers import (Input,LSTM,GRU,Bidirectional,\n",
        "                          GlobalMaxPooling1D,Lambda,Concatenate,Dense)\n",
        "import keras.backend as K\n",
        "import numpy as np\n",
        "import pandas as pd\n",
        "import matplotlib.pyplot as plt"
      ],
      "execution_count": 0,
      "outputs": []
    },
    {
      "cell_type": "code",
      "metadata": {
        "id": "aFivgA4_I4yT",
        "colab_type": "code",
        "colab": {}
      },
      "source": [
        "def get_mnist():\n",
        "  print('Reading and transforming data...')\n",
        "  df = pd.read_csv('train.csv')\n",
        "  data = df.values\n",
        "  np.random.shuffle(data)\n",
        "  X = data[:,1:].reshape(-1,28,28)/255\n",
        "  Y = data[:,0]\n",
        "  return X,Y"
      ],
      "execution_count": 0,
      "outputs": []
    },
    {
      "cell_type": "code",
      "metadata": {
        "id": "_4EDtEg-RIiF",
        "colab_type": "code",
        "colab": {
          "base_uri": "https://localhost:8080/",
          "height": 35
        },
        "outputId": "2f2cd616-96d6-4a2e-c9b0-fcadbd629d70"
      },
      "source": [
        "X,Y = get_mnist()"
      ],
      "execution_count": 22,
      "outputs": [
        {
          "output_type": "stream",
          "text": [
            "Reading and transforming data...\n"
          ],
          "name": "stdout"
        }
      ]
    },
    {
      "cell_type": "code",
      "metadata": {
        "id": "vHwOI3nQXeKz",
        "colab_type": "code",
        "colab": {}
      },
      "source": [
        "# config\n",
        "D = 28\n",
        "M = 15\n",
        "\n",
        "\n",
        "# input is an image of size 28x28\n",
        "input_ = Input(shape=(D, D))\n",
        "\n",
        "# up-down\n",
        "rnn1 = Bidirectional(LSTM(M, return_sequences=True))\n",
        "x1 = rnn1(input_) # output is N x D x 2M\n",
        "x1 = GlobalMaxPooling1D()(x1) # output is N x 2M\n",
        "\n",
        "# left-right\n",
        "rnn2 = Bidirectional(LSTM(M, return_sequences=True))\n",
        "\n",
        "# custom layer\n",
        "permutor = Lambda(lambda t: K.permute_dimensions(t, pattern=(0, 2, 1)))\n",
        "\n",
        "x2 = permutor(input_)\n",
        "x2 = rnn2(x2) # output is N x D x 2M\n",
        "x2 = GlobalMaxPooling1D()(x2) # output is N x 2M\n",
        "\n",
        "# put them together\n",
        "concatenator = Concatenate(axis=1)\n",
        "x = concatenator([x1, x2]) # output is N x 4M\n",
        "\n",
        "# final dense layer\n",
        "output = Dense(10, activation='softmax')(x)\n",
        "\n",
        "model = Model(inputs=input_, outputs=output)\n",
        "\n",
        "# testing\n",
        "# o = model.predict(X)\n",
        "# print(\"o.shape:\", o.shape)\n",
        "\n",
        "# compile\n",
        "model.compile(\n",
        "  loss='sparse_categorical_crossentropy',\n",
        "  optimizer='adam',\n",
        "  metrics=['accuracy']\n",
        ")"
      ],
      "execution_count": 0,
      "outputs": []
    },
    {
      "cell_type": "code",
      "metadata": {
        "id": "avmvMu2aXiXg",
        "colab_type": "code",
        "colab": {}
      },
      "source": [
        "# train\n",
        "print('Training model...')\n",
        "r = model.fit(X, Y, batch_size=32, epochs=10, validation_split=0.3)"
      ],
      "execution_count": 0,
      "outputs": []
    }
  ]
}