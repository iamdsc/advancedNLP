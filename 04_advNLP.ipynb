{
  "nbformat": 4,
  "nbformat_minor": 0,
  "metadata": {
    "colab": {
      "name": "04_advNLP.ipynb",
      "version": "0.3.2",
      "provenance": [],
      "collapsed_sections": []
    },
    "kernelspec": {
      "name": "python3",
      "display_name": "Python 3"
    },
    "accelerator": "GPU"
  },
  "cells": [
    {
      "cell_type": "markdown",
      "metadata": {
        "id": "wZY47VkwkJGf",
        "colab_type": "text"
      },
      "source": [
        "### Poetry generation using 'Teacher Forcing' Algorithm"
      ]
    },
    {
      "cell_type": "code",
      "metadata": {
        "id": "MGJr13UI68ab",
        "colab_type": "code",
        "colab": {}
      },
      "source": [
        "import os\n",
        "import sys\n",
        "import string\n",
        "import numpy as np\n",
        "import pandas as pd\n",
        "import matplotlib.pyplot as plt\n",
        "from keras.models import Model\n",
        "from keras.layers import Dense, Embedding, Input, LSTM\n",
        "from keras.preprocessing.text import Tokenizer\n",
        "from keras.preprocessing.sequence import pad_sequences\n",
        "from keras.optimizers import Adam, SGD"
      ],
      "execution_count": 0,
      "outputs": []
    },
    {
      "cell_type": "code",
      "metadata": {
        "id": "r8H8unQsyEaN",
        "colab_type": "code",
        "colab": {}
      },
      "source": [
        "# config variables\n",
        "MAX_SEQUENCE_LENGTH = 100\n",
        "MAX_VOCAB_SIZE = 5000\n",
        "EMBEDDING_DIM = 50\n",
        "VALIDATION_SPLIT = 0.2\n",
        "BATCH_SIZE = 128\n",
        "EPOCHS = 2000\n",
        "LATENT_DIM = 25"
      ],
      "execution_count": 0,
      "outputs": []
    },
    {
      "cell_type": "code",
      "metadata": {
        "id": "qgAOx-1wyXrK",
        "colab_type": "code",
        "colab": {}
      },
      "source": [
        "# loading in the data\n",
        "input_texts = []\n",
        "target_texts = []\n",
        "for line in open('robert_frost.txt'):\n",
        "  line = line.rstrip()\n",
        "  if not line:\n",
        "    continue\n",
        "  input_line = '<sos> '+line\n",
        "  target_line = line+' <eos>'\n",
        "  \n",
        "  input_texts.append(input_line)\n",
        "  target_texts.append(target_line)  "
      ],
      "execution_count": 0,
      "outputs": []
    },
    {
      "cell_type": "code",
      "metadata": {
        "id": "JSn68etoz18K",
        "colab_type": "code",
        "colab": {}
      },
      "source": [
        "all_lines = input_texts + target_texts\n",
        "\n",
        "tokenizer = Tokenizer(num_words=MAX_VOCAB_SIZE, filters='')\n",
        "tokenizer.fit_on_texts(all_lines)\n",
        "input_sequences = tokenizer.texts_to_sequences(input_texts)\n",
        "target_sequences = tokenizer.texts_to_sequences(target_texts)"
      ],
      "execution_count": 0,
      "outputs": []
    },
    {
      "cell_type": "code",
      "metadata": {
        "id": "6NttAbBz04ZN",
        "colab_type": "code",
        "outputId": "6fd77f18-8ba9-4441-ded0-3c1937ceaadc",
        "colab": {
          "base_uri": "https://localhost:8080/",
          "height": 35
        }
      },
      "source": [
        "# finding max_seq_len\n",
        "max_seq_len = max(len(s) for s in input_sequences)\n",
        "print('Max Sequences length:',max_seq_len)"
      ],
      "execution_count": 8,
      "outputs": [
        {
          "output_type": "stream",
          "text": [
            "Max Sequences length: 12\n"
          ],
          "name": "stdout"
        }
      ]
    },
    {
      "cell_type": "code",
      "metadata": {
        "id": "J1xAFyR11YCp",
        "colab_type": "code",
        "outputId": "f63f5cfe-add0-4e20-bb84-4ae7aba46346",
        "colab": {
          "base_uri": "https://localhost:8080/",
          "height": 72
        }
      },
      "source": [
        "word2idx = tokenizer.word_index\n",
        "print('Found %s unique tokens'%len(word2idx))\n",
        "print(word2idx['<sos>'])\n",
        "print(word2idx['<eos>'])"
      ],
      "execution_count": 9,
      "outputs": [
        {
          "output_type": "stream",
          "text": [
            "Found 3056 unique tokens\n",
            "1\n",
            "2\n"
          ],
          "name": "stdout"
        }
      ]
    },
    {
      "cell_type": "code",
      "metadata": {
        "id": "sonmEYgU1riG",
        "colab_type": "code",
        "outputId": "40a88df7-d991-449b-8a71-4ef3289f1a5f",
        "colab": {
          "base_uri": "https://localhost:8080/",
          "height": 35
        }
      },
      "source": [
        "# padding seq to get a NxT matrix\n",
        "max_seq_len = min(max_seq_len, MAX_SEQUENCE_LENGTH)\n",
        "input_sequences = pad_sequences(input_sequences, maxlen=max_seq_len, padding='post')\n",
        "output_sequences = pad_sequences(target_sequences, maxlen=max_seq_len, padding='post')\n",
        "print('Shape of data tensor:',input_sequences.shape)"
      ],
      "execution_count": 10,
      "outputs": [
        {
          "output_type": "stream",
          "text": [
            "Shape of data tensor: (1436, 12)\n"
          ],
          "name": "stdout"
        }
      ]
    },
    {
      "cell_type": "code",
      "metadata": {
        "id": "-AbkdFUs4DoN",
        "colab_type": "code",
        "outputId": "4cf4fabf-cfb7-4681-da7a-5bbe8a2d9216",
        "colab": {
          "base_uri": "https://localhost:8080/",
          "height": 387
        }
      },
      "source": [
        "!wget http://nlp.stanford.edu/data/glove.6B.zip"
      ],
      "execution_count": 11,
      "outputs": [
        {
          "output_type": "stream",
          "text": [
            "--2019-08-09 12:22:47--  http://nlp.stanford.edu/data/glove.6B.zip\n",
            "Resolving nlp.stanford.edu (nlp.stanford.edu)... 171.64.67.140\n",
            "Connecting to nlp.stanford.edu (nlp.stanford.edu)|171.64.67.140|:80... connected.\n",
            "HTTP request sent, awaiting response... 302 Found\n",
            "Location: https://nlp.stanford.edu/data/glove.6B.zip [following]\n",
            "--2019-08-09 12:22:47--  https://nlp.stanford.edu/data/glove.6B.zip\n",
            "Connecting to nlp.stanford.edu (nlp.stanford.edu)|171.64.67.140|:443... connected.\n",
            "HTTP request sent, awaiting response... 301 Moved Permanently\n",
            "Location: http://downloads.cs.stanford.edu/nlp/data/glove.6B.zip [following]\n",
            "--2019-08-09 12:22:47--  http://downloads.cs.stanford.edu/nlp/data/glove.6B.zip\n",
            "Resolving downloads.cs.stanford.edu (downloads.cs.stanford.edu)... 171.64.64.22\n",
            "Connecting to downloads.cs.stanford.edu (downloads.cs.stanford.edu)|171.64.64.22|:80... connected.\n",
            "HTTP request sent, awaiting response... 200 OK\n",
            "Length: 862182613 (822M) [application/zip]\n",
            "Saving to: ‘glove.6B.zip’\n",
            "\n",
            "glove.6B.zip        100%[===================>] 822.24M  17.4MB/s    in 54s     \n",
            "\n",
            "2019-08-09 12:23:42 (15.4 MB/s) - ‘glove.6B.zip’ saved [862182613/862182613]\n",
            "\n"
          ],
          "name": "stdout"
        }
      ]
    },
    {
      "cell_type": "code",
      "metadata": {
        "id": "EC8FKrnS4XZa",
        "colab_type": "code",
        "colab": {
          "base_uri": "https://localhost:8080/",
          "height": 109
        },
        "outputId": "df8d284e-7cb2-4774-f883-3379bdb9d9ff"
      },
      "source": [
        "!unzip glove.6B.zip"
      ],
      "execution_count": 12,
      "outputs": [
        {
          "output_type": "stream",
          "text": [
            "Archive:  glove.6B.zip\n",
            "  inflating: glove.6B.50d.txt        \n",
            "  inflating: glove.6B.100d.txt       \n",
            "  inflating: glove.6B.200d.txt       \n",
            "  inflating: glove.6B.300d.txt       \n"
          ],
          "name": "stdout"
        }
      ]
    },
    {
      "cell_type": "code",
      "metadata": {
        "id": "IY1o6nAi4cpS",
        "colab_type": "code",
        "colab": {
          "base_uri": "https://localhost:8080/",
          "height": 35
        },
        "outputId": "f9678a60-8a21-466b-efa6-0f21e130b7a2"
      },
      "source": [
        "# loading pre-trained word vectors\n",
        "word2vec = {}\n",
        "with open('glove.6B.%sd.txt'%EMBEDDING_DIM) as f:\n",
        "  for line in f:\n",
        "    values = line.split()\n",
        "    word = values[0]\n",
        "    vec = np.asarray(values[1:], dtype='float32')\n",
        "    word2vec[word] = vec\n",
        "print('Found %s word vectors:'%len(word2vec))\n",
        "\n",
        "# preparing embedding matrix\n",
        "num_words = min(MAX_VOCAB_SIZE,len(word2idx)+1)\n",
        "embedding_matrix = np.zeros((num_words, EMBEDDING_DIM))\n",
        "for word, i in word2idx.items():\n",
        "  if i<MAX_VOCAB_SIZE:\n",
        "    embedding_vector = word2vec.get(word)\n",
        "    if embedding_vector is not None:\n",
        "      embedding_matrix[i] = embedding_vector"
      ],
      "execution_count": 13,
      "outputs": [
        {
          "output_type": "stream",
          "text": [
            "Found 400000 word vectors:\n"
          ],
          "name": "stdout"
        }
      ]
    },
    {
      "cell_type": "code",
      "metadata": {
        "id": "KdgLsUNw5xQN",
        "colab_type": "code",
        "colab": {}
      },
      "source": [
        "# one-hot the targets\n",
        "one_hot_targets = np.zeros((len(input_sequences), max_seq_len, num_words))\n",
        "for i, target_sequence in enumerate(target_sequences):\n",
        "  for t, word in enumerate(target_sequence):\n",
        "    if word > 0:\n",
        "      one_hot_targets[i,t,word] = 1"
      ],
      "execution_count": 0,
      "outputs": []
    },
    {
      "cell_type": "code",
      "metadata": {
        "id": "OUzhoGNPNCvC",
        "colab_type": "code",
        "colab": {}
      },
      "source": [
        "# load pre-trained word embeddings into an Embedding layer\n",
        "embedding_layer = Embedding(num_words, EMBEDDING_DIM, weights=[embedding_matrix],trainable=False)"
      ],
      "execution_count": 0,
      "outputs": []
    },
    {
      "cell_type": "code",
      "metadata": {
        "id": "cVyrSHXPNk38",
        "colab_type": "code",
        "colab": {}
      },
      "source": [
        "print('Building the model')\n",
        "\n",
        "input_ = Input(shape=(max_seq_len,))\n",
        "initial_h = Input(shape=(LATENT_DIM,))\n",
        "initial_c = Input(shape=(LATENT_DIM,))\n",
        "x = embedding_layer(input_)\n",
        "lstm = LSTM(LATENT_DIM, return_sequences=True, return_state=True)\n",
        "x,_,_ = lstm(x, initial_state=[initial_h, initial_c])\n",
        "dense = Dense(num_words, activation='softmax')\n",
        "output = dense(x)"
      ],
      "execution_count": 0,
      "outputs": []
    },
    {
      "cell_type": "code",
      "metadata": {
        "id": "3N05TVZiPNKN",
        "colab_type": "code",
        "colab": {}
      },
      "source": [
        "model = Model([input_, initial_h, initial_c], output)\n",
        "model.compile(loss = 'categorical_crossentropy',\n",
        "              optimizer = Adam(lr=0.01),\n",
        "              metrics = ['accuracy'])"
      ],
      "execution_count": 0,
      "outputs": []
    },
    {
      "cell_type": "code",
      "metadata": {
        "id": "cAgDJAM8Po2g",
        "colab_type": "code",
        "colab": {}
      },
      "source": [
        "print('Training the model...')\n",
        "z = np.zeros((len(input_sequences), LATENT_DIM))\n",
        "r = model.fit([input_sequences,z,z],\n",
        "              one_hot_targets,batch_size=BATCH_SIZE,\n",
        "              epochs=EPOCHS, validation_split=VALIDATION_SPLIT)"
      ],
      "execution_count": 0,
      "outputs": []
    },
    {
      "cell_type": "code",
      "metadata": {
        "id": "GhozQMECQIRY",
        "colab_type": "code",
        "colab": {
          "base_uri": "https://localhost:8080/",
          "height": 521
        },
        "outputId": "9f74e61b-ce9a-47ba-d72c-2d45db5bdf63"
      },
      "source": [
        "#plotting the results\n",
        "plt.plot(r.history['loss'],label='loss')\n",
        "plt.plot(r.history['val_loss'],label='val_loss')\n",
        "plt.legend()\n",
        "plt.show()\n",
        "\n",
        "plt.plot(r.history['acc'],label='acc')\n",
        "plt.plot(r.history['val_acc'],label='val_acc')\n",
        "plt.legend()\n",
        "plt.show()"
      ],
      "execution_count": 19,
      "outputs": [
        {
          "output_type": "display_data",
          "data": {
            "image/png": "[encoded data removed]",
            "text/plain": [
              "<Figure size 432x288 with 1 Axes>"
            ]
          },
          "metadata": {
            "tags": []
          }
        },
        {
          "output_type": "display_data",
          "data": {
            "image/png": "[encoded data removed]",
            "text/plain": [
              "<Figure size 432x288 with 1 Axes>"
            ]
          },
          "metadata": {
            "tags": []
          }
        }
      ]
    },
    {
      "cell_type": "code",
      "metadata": {
        "id": "6Xlbp6Z5dVVI",
        "colab_type": "code",
        "colab": {}
      },
      "source": [
        "# make a sampling model for prediction\n",
        "input2 = Input(shape=(1,)) # we only input one word at a time\n",
        "# using the trained layers\n",
        "x = embedding_layer(input2)\n",
        "x, h, c = lstm(x, initial_state=[initial_h, initial_c])\n",
        "output2 = dense(x)\n",
        "sampling_model = Model([input2,initial_h,initial_c], [output2,h,c])"
      ],
      "execution_count": 0,
      "outputs": []
    },
    {
      "cell_type": "code",
      "metadata": {
        "id": "URBva8qRhPj6",
        "colab_type": "code",
        "colab": {}
      },
      "source": [
        "idx2word = {v:k for k,v in word2idx.items()}"
      ],
      "execution_count": 0,
      "outputs": []
    },
    {
      "cell_type": "code",
      "metadata": {
        "id": "16rXo79ihink",
        "colab_type": "code",
        "colab": {}
      },
      "source": [
        "def sample_line():\n",
        "  np_input = np.array([[word2idx['<sos>']]])\n",
        "  h = np.zeros((1, LATENT_DIM))\n",
        "  c = np.zeros((1, LATENT_DIM))\n",
        "  \n",
        "  eos = word2idx['<eos>']\n",
        "  \n",
        "  output_sentence = []\n",
        "  \n",
        "  for _ in range(max_seq_len):\n",
        "    o,h,c = sampling_model.predict([np_input,h,c])\n",
        "    probs = o[0,0]\n",
        "    probs[0] = 0\n",
        "    probs/=probs.sum()\n",
        "    idx = np.random.choice(len(probs),p=probs)\n",
        "    if idx == eos:\n",
        "      break\n",
        "    output_sentence.append(idx2word.get(idx))\n",
        "    np_input[0,0] = idx\n",
        "  return ' '.join(output_sentence)"
      ],
      "execution_count": 0,
      "outputs": []
    },
    {
      "cell_type": "code",
      "metadata": {
        "id": "MNCFMv35jbYl",
        "colab_type": "code",
        "colab": {
          "base_uri": "https://localhost:8080/",
          "height": 91
        },
        "outputId": "51750d0e-7905-410c-f9ce-7576ecb6f567"
      },
      "source": [
        "for _ in range(4):\n",
        "  print(sample_line())"
      ],
      "execution_count": 27,
      "outputs": [
        {
          "output_type": "stream",
          "text": [
            "of in going twice around the bed,\n",
            "she would last winter dwelling in the cold to the passing car\n",
            "a hole off away from trees,\n",
            "it's hoping the poetess's the voices. this was,\n"
          ],
          "name": "stdout"
        }
      ]
    },
    {
      "cell_type": "code",
      "metadata": {
        "id": "VabGDo8sjoWO",
        "colab_type": "code",
        "colab": {}
      },
      "source": [
        ""
      ],
      "execution_count": 0,
      "outputs": []
    }
  ]
}