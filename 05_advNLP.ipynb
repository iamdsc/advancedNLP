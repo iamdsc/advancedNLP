{
  "nbformat": 4,
  "nbformat_minor": 0,
  "metadata": {
    "colab": {
      "name": "05_advNLP.ipynb",
      "version": "0.3.2",
      "provenance": []
    },
    "kernelspec": {
      "name": "python3",
      "display_name": "Python 3"
    },
    "accelerator": "GPU"
  },
  "cells": [
    {
      "cell_type": "markdown",
      "metadata": {
        "id": "yFpGaqBdikIe",
        "colab_type": "text"
      },
      "source": [
        "### Neural Machine Translation using seq2seq"
      ]
    },
    {
      "cell_type": "code",
      "metadata": {
        "id": "Kk-JTjGnwUY9",
        "colab_type": "code",
        "colab": {}
      },
      "source": [
        "import os,sys\n",
        "import numpy as np\n",
        "import matplotlib.pyplot as plt\n",
        "\n",
        "from keras.models import Model\n",
        "from keras.layers import Input,LSTM,GRU,Dense,Embedding\n",
        "from keras.preprocessing.text import Tokenizer\n",
        "from keras.preprocessing.sequence import pad_sequences\n",
        "from keras.utils import to_categorical"
      ],
      "execution_count": 0,
      "outputs": []
    },
    {
      "cell_type": "code",
      "metadata": {
        "id": "JWfd2OX6xZCe",
        "colab_type": "code",
        "colab": {}
      },
      "source": [
        "# config variables\n",
        "BATCH_SIZE = 64\n",
        "EPOCHS = 100\n",
        "LATENT_DIM = 256\n",
        "NUM_SAMPLES = 10000\n",
        "MAX_SEQUENCE_LENGTH = 100\n",
        "MAX_NUM_WORDS = 20000\n",
        "EMBEDDING_DIM = 100"
      ],
      "execution_count": 0,
      "outputs": []
    },
    {
      "cell_type": "code",
      "metadata": {
        "id": "K1vJp3JUyfNs",
        "colab_type": "code",
        "colab": {}
      },
      "source": [
        "input_texts = [] # sentence in original language\n",
        "target_texts = [] # sentence in target language\n",
        "target_texts_inputs = [] # sentence in target language offset by 1"
      ],
      "execution_count": 0,
      "outputs": []
    },
    {
      "cell_type": "code",
      "metadata": {
        "id": "Z_gMxvx30UVB",
        "colab_type": "code",
        "colab": {
          "base_uri": "https://localhost:8080/",
          "height": 35
        },
        "outputId": "56857dbf-fc3b-49d2-ba07-f01d5a0e70b7"
      },
      "source": [
        "# load in the data\n",
        "t = 0\n",
        "for line in open('hin.txt'):\n",
        "  t+=1\n",
        "  if t>NUM_SAMPLES:\n",
        "    break\n",
        "  # input and target are seperated by '\\t'\n",
        "  if '\\t' not in line:\n",
        "    continue\n",
        "  input_text, translation = line.split('\\t')\n",
        "  target_text = translation + ' <eos>'\n",
        "  target_text_input = '<sos> ' + translation\n",
        "  input_texts.append(input_text)\n",
        "  target_texts.append(target_text)\n",
        "  target_texts_inputs.append(target_text_input)\n",
        "print('num samples:',len(input_texts))"
      ],
      "execution_count": 23,
      "outputs": [
        {
          "output_type": "stream",
          "text": [
            "num samples: 2808\n"
          ],
          "name": "stdout"
        }
      ]
    },
    {
      "cell_type": "code",
      "metadata": {
        "id": "ZY-dTR6C1TO2",
        "colab_type": "code",
        "colab": {}
      },
      "source": [
        "tokenizer_inputs = Tokenizer(num_words=MAX_NUM_WORDS)\n",
        "tokenizer_inputs.fit_on_texts(input_texts)\n",
        "input_sequences = tokenizer_inputs.texts_to_sequences(input_texts)"
      ],
      "execution_count": 0,
      "outputs": []
    },
    {
      "cell_type": "code",
      "metadata": {
        "id": "JPeFEEGk1zGD",
        "colab_type": "code",
        "colab": {
          "base_uri": "https://localhost:8080/",
          "height": 35
        },
        "outputId": "ecb688cd-6fb8-46a5-ac77-160da938a44f"
      },
      "source": [
        "# word to index mapping for input language\n",
        "word2idx_inputs = tokenizer_inputs.word_index\n",
        "print('Found %s unique input tokens.'%len(word2idx_inputs))"
      ],
      "execution_count": 25,
      "outputs": [
        {
          "output_type": "stream",
          "text": [
            "Found 2388 unique input tokens.\n"
          ],
          "name": "stdout"
        }
      ]
    },
    {
      "cell_type": "code",
      "metadata": {
        "id": "-k8QcdUu2LcM",
        "colab_type": "code",
        "colab": {}
      },
      "source": [
        "# max length input seq\n",
        "max_len_input = max(len(s) for s in input_sequences)"
      ],
      "execution_count": 0,
      "outputs": []
    },
    {
      "cell_type": "code",
      "metadata": {
        "id": "rmAa4ere2U_y",
        "colab_type": "code",
        "colab": {}
      },
      "source": [
        "# tokenize the outputs\n",
        "tokenizer_outputs = Tokenizer(num_words=MAX_NUM_WORDS, filters='')\n",
        "tokenizer_outputs.fit_on_texts(target_texts + target_texts_inputs)\n",
        "target_sequences = tokenizer_outputs.texts_to_sequences(target_texts)\n",
        "target_sequences_inputs = tokenizer_outputs.texts_to_sequences(target_texts_inputs)"
      ],
      "execution_count": 0,
      "outputs": []
    },
    {
      "cell_type": "code",
      "metadata": {
        "id": "U7XdErx-3Gbf",
        "colab_type": "code",
        "colab": {
          "base_uri": "https://localhost:8080/",
          "height": 35
        },
        "outputId": "a6063fee-9191-4d67-926b-9848f7c7c433"
      },
      "source": [
        "# word to index mapping for output language\n",
        "word2idx_outputs = tokenizer_outputs.word_index\n",
        "print('Found %s unique output tokens.'%len(word2idx_outputs))"
      ],
      "execution_count": 28,
      "outputs": [
        {
          "output_type": "stream",
          "text": [
            "Found 3150 unique output tokens.\n"
          ],
          "name": "stdout"
        }
      ]
    },
    {
      "cell_type": "code",
      "metadata": {
        "id": "rNXvoREu3e84",
        "colab_type": "code",
        "colab": {}
      },
      "source": [
        "num_words_output = len(word2idx_outputs)+1"
      ],
      "execution_count": 0,
      "outputs": []
    },
    {
      "cell_type": "code",
      "metadata": {
        "id": "FMzv8_ex3mMh",
        "colab_type": "code",
        "colab": {}
      },
      "source": [
        "# max length output seq\n",
        "max_len_target = max(len(s) for s in target_sequences)"
      ],
      "execution_count": 0,
      "outputs": []
    },
    {
      "cell_type": "code",
      "metadata": {
        "id": "F5Zb2Ekx4aYy",
        "colab_type": "code",
        "colab": {
          "base_uri": "https://localhost:8080/",
          "height": 54
        },
        "outputId": "2db4eee0-dff6-4203-93c3-729ec922b1ee"
      },
      "source": [
        "# padding the sequences\n",
        "encoder_inputs = pad_sequences(input_sequences, maxlen=max_len_input)\n",
        "print('Encoder data shape:',encoder_inputs.shape)\n",
        "\n",
        "decoder_inputs = pad_sequences(target_sequences_inputs, maxlen=max_len_target, padding='post')\n",
        "print('Decoder data shape:',decoder_inputs.shape)\n",
        "\n",
        "decoder_targets = pad_sequences(target_sequences, maxlen=max_len_target, padding='post')"
      ],
      "execution_count": 31,
      "outputs": [
        {
          "output_type": "stream",
          "text": [
            "Encoder data shape: (2808, 22)\n",
            "Decoder data shape: (2808, 26)\n"
          ],
          "name": "stdout"
        }
      ]
    },
    {
      "cell_type": "code",
      "metadata": {
        "id": "W-d1By795Q9w",
        "colab_type": "code",
        "colab": {}
      },
      "source": [
        "!wget http://nlp.stanford.edu/data/glove.6B.zip"
      ],
      "execution_count": 0,
      "outputs": []
    },
    {
      "cell_type": "code",
      "metadata": {
        "id": "yRr7o77u5vpZ",
        "colab_type": "code",
        "colab": {}
      },
      "source": [
        "!unzip glove.6B.zip"
      ],
      "execution_count": 0,
      "outputs": []
    },
    {
      "cell_type": "code",
      "metadata": {
        "id": "k0kgltID6FLB",
        "colab_type": "code",
        "colab": {
          "base_uri": "https://localhost:8080/",
          "height": 35
        },
        "outputId": "d256f3f8-41e4-43e1-bcda-15a9b36f0279"
      },
      "source": [
        "# loading pre-trained word vectors\n",
        "word2vec = {}\n",
        "with open('glove.6B.%sd.txt'%EMBEDDING_DIM) as f:\n",
        "  for line in f:\n",
        "    values = line.split()\n",
        "    word = values[0]\n",
        "    vec = np.asarray(values[1:],dtype='float32')\n",
        "    word2vec[word] = vec\n",
        "print('Found %s word vectors.'%len(word2vec))"
      ],
      "execution_count": 34,
      "outputs": [
        {
          "output_type": "stream",
          "text": [
            "Found 400000 word vectors.\n"
          ],
          "name": "stdout"
        }
      ]
    },
    {
      "cell_type": "code",
      "metadata": {
        "id": "Mkc8Kg3R6vul",
        "colab_type": "code",
        "colab": {}
      },
      "source": [
        "# prepare embedding matrix\n",
        "num_words = min(MAX_NUM_WORDS, len(word2idx_inputs)+1)\n",
        "embedding_matrix = np.zeros((num_words, EMBEDDING_DIM))\n",
        "for word, i in word2idx_inputs.items():\n",
        "  if i < MAX_NUM_WORDS:\n",
        "    embedding_vector = word2vec.get(word)\n",
        "    if embedding_vector is not None:\n",
        "      embedding_matrix[i] = embedding_vector"
      ],
      "execution_count": 0,
      "outputs": []
    },
    {
      "cell_type": "code",
      "metadata": {
        "id": "01WNZsJX7e3w",
        "colab_type": "code",
        "colab": {}
      },
      "source": [
        "# creating embedding layer\n",
        "embedding_layer = Embedding(num_words,\n",
        "                            EMBEDDING_DIM,\n",
        "                            weights=[embedding_matrix],\n",
        "                            input_length=max_len_input,\n",
        "                            trainable=False)"
      ],
      "execution_count": 0,
      "outputs": []
    },
    {
      "cell_type": "code",
      "metadata": {
        "id": "u65V6fZjNYDZ",
        "colab_type": "code",
        "colab": {}
      },
      "source": [
        "decoder_targets_one_hot = np.zeros((len(input_texts),\n",
        "                                   max_len_target,\n",
        "                                   num_words_output),dtype='float32')\n",
        "for i,d in enumerate(decoder_targets):\n",
        "  for t,word in enumerate(d):\n",
        "    decoder_targets_one_hot[i, t, word] = 1"
      ],
      "execution_count": 0,
      "outputs": []
    },
    {
      "cell_type": "code",
      "metadata": {
        "id": "e0eBw1avOSc0",
        "colab_type": "code",
        "colab": {}
      },
      "source": [
        "# build the model\n",
        "encoder_inputs_placeholder = Input(shape=(max_len_input,))\n",
        "x = embedding_layer(encoder_inputs_placeholder)\n",
        "encoder = LSTM(LATENT_DIM, return_state=True, dropout=0.5)\n",
        "encoder_outputs, h, c = encoder(x)"
      ],
      "execution_count": 0,
      "outputs": []
    },
    {
      "cell_type": "code",
      "metadata": {
        "id": "KrZTLgppPb7L",
        "colab_type": "code",
        "colab": {}
      },
      "source": [
        "encoder_states = [h,c] # keeping state to pass into decoder"
      ],
      "execution_count": 0,
      "outputs": []
    },
    {
      "cell_type": "code",
      "metadata": {
        "id": "tncLr7gmPnxR",
        "colab_type": "code",
        "colab": {}
      },
      "source": [
        "decoder_inputs_placeholder = Input(shape=(max_len_target,))\n",
        "decoder_embedding = Embedding(num_words_output, LATENT_DIM)\n",
        "decoder_inputs_x = decoder_embedding(decoder_inputs_placeholder)"
      ],
      "execution_count": 0,
      "outputs": []
    },
    {
      "cell_type": "code",
      "metadata": {
        "id": "P1edTx3vQWc9",
        "colab_type": "code",
        "colab": {}
      },
      "source": [
        "decoder_lstm = LSTM(LATENT_DIM, return_sequences=True, return_state=True,\n",
        "                    dropout=0.5)\n",
        "decoder_outputs,_,_ = decoder_lstm(decoder_inputs_x,\n",
        "                                   initial_state=encoder_states)"
      ],
      "execution_count": 0,
      "outputs": []
    },
    {
      "cell_type": "code",
      "metadata": {
        "id": "tX_f-KsKVS8A",
        "colab_type": "code",
        "colab": {}
      },
      "source": [
        "decoder_dense = Dense(num_words_output,activation='softmax')\n",
        "decoder_outputs = decoder_dense(decoder_outputs)"
      ],
      "execution_count": 0,
      "outputs": []
    },
    {
      "cell_type": "code",
      "metadata": {
        "id": "DMHDtQOkVpH7",
        "colab_type": "code",
        "colab": {}
      },
      "source": [
        "model = Model([encoder_inputs_placeholder,decoder_inputs_placeholder],\n",
        "              decoder_outputs)\n",
        "model.compile(optimizer='rmsprop',\n",
        "              loss='categorical_crossentropy',\n",
        "              metrics=['accuracy'])"
      ],
      "execution_count": 0,
      "outputs": []
    },
    {
      "cell_type": "code",
      "metadata": {
        "id": "2aPGTYA8WJQe",
        "colab_type": "code",
        "colab": {
          "base_uri": "https://localhost:8080/",
          "height": 1000
        },
        "outputId": "db94bc4f-f51b-416d-c839-f4edcd4fcb70"
      },
      "source": [
        "r = model.fit([encoder_inputs, decoder_inputs],decoder_targets_one_hot,\n",
        "              batch_size=BATCH_SIZE,\n",
        "              epochs=EPOCHS,\n",
        "              validation_split=0.2)"
      ],
      "execution_count": 47,
      "outputs": [
        {
          "output_type": "stream",
          "text": [
            "W0809 17:14:26.067476 140686793947008 deprecation.py:323] From /usr/local/lib/python3.6/dist-packages/tensorflow/python/ops/math_grad.py:1250: add_dispatch_support.<locals>.wrapper (from tensorflow.python.ops.array_ops) is deprecated and will be removed in a future version.\n",
            "Instructions for updating:\n",
            "Use tf.where in 2.0, which has the same broadcast rule as np.where\n"
          ],
          "name": "stderr"
        },
        {
          "output_type": "stream",
          "text": [
            "Train on 2246 samples, validate on 562 samples\n",
            "Epoch 1/100\n",
            "2246/2246 [==============================] - 8s 3ms/step - loss: 2.4608 - acc: 0.7127 - val_loss: 3.0289 - val_acc: 0.5837\n",
            "Epoch 2/100\n",
            "2246/2246 [==============================] - 5s 2ms/step - loss: 1.6007 - acc: 0.7502 - val_loss: 2.8341 - val_acc: 0.5897\n",
            "Epoch 3/100\n",
            "2246/2246 [==============================] - 5s 2ms/step - loss: 1.4841 - acc: 0.7723 - val_loss: 2.7382 - val_acc: 0.6254\n",
            "Epoch 4/100\n",
            "2246/2246 [==============================] - 5s 2ms/step - loss: 1.4160 - acc: 0.7772 - val_loss: 2.6587 - val_acc: 0.6305\n",
            "Epoch 5/100\n",
            "2246/2246 [==============================] - 5s 2ms/step - loss: 1.3633 - acc: 0.7828 - val_loss: 2.6656 - val_acc: 0.6333\n",
            "Epoch 6/100\n",
            "2246/2246 [==============================] - 5s 2ms/step - loss: 1.3132 - acc: 0.7880 - val_loss: 2.6709 - val_acc: 0.6361\n",
            "Epoch 7/100\n",
            "2246/2246 [==============================] - 5s 2ms/step - loss: 1.2697 - acc: 0.7915 - val_loss: 2.6460 - val_acc: 0.6379\n",
            "Epoch 8/100\n",
            "2246/2246 [==============================] - 5s 2ms/step - loss: 1.2297 - acc: 0.7944 - val_loss: 2.6054 - val_acc: 0.6406\n",
            "Epoch 9/100\n",
            "2246/2246 [==============================] - 5s 2ms/step - loss: 1.1919 - acc: 0.7965 - val_loss: 2.5751 - val_acc: 0.6417\n",
            "Epoch 10/100\n",
            "2246/2246 [==============================] - 5s 2ms/step - loss: 1.1580 - acc: 0.7987 - val_loss: 2.5798 - val_acc: 0.6427\n",
            "Epoch 11/100\n",
            "2246/2246 [==============================] - 5s 2ms/step - loss: 1.1245 - acc: 0.8007 - val_loss: 2.5754 - val_acc: 0.6448\n",
            "Epoch 12/100\n",
            "2246/2246 [==============================] - 5s 2ms/step - loss: 1.0920 - acc: 0.8038 - val_loss: 2.6093 - val_acc: 0.6454\n",
            "Epoch 13/100\n",
            "2246/2246 [==============================] - 5s 2ms/step - loss: 1.0623 - acc: 0.8058 - val_loss: 2.5776 - val_acc: 0.6458\n",
            "Epoch 14/100\n",
            "2246/2246 [==============================] - 5s 2ms/step - loss: 1.0298 - acc: 0.8089 - val_loss: 2.5473 - val_acc: 0.6448\n",
            "Epoch 15/100\n",
            "2246/2246 [==============================] - 5s 2ms/step - loss: 1.0021 - acc: 0.8106 - val_loss: 2.5955 - val_acc: 0.6475\n",
            "Epoch 16/100\n",
            "2246/2246 [==============================] - 5s 2ms/step - loss: 0.9695 - acc: 0.8140 - val_loss: 2.5799 - val_acc: 0.6449\n",
            "Epoch 17/100\n",
            "2246/2246 [==============================] - 5s 2ms/step - loss: 0.9403 - acc: 0.8167 - val_loss: 2.6341 - val_acc: 0.6480\n",
            "Epoch 18/100\n",
            "2246/2246 [==============================] - 5s 2ms/step - loss: 0.9135 - acc: 0.8200 - val_loss: 2.5932 - val_acc: 0.6499\n",
            "Epoch 19/100\n",
            "2246/2246 [==============================] - 5s 2ms/step - loss: 0.8837 - acc: 0.8228 - val_loss: 2.5563 - val_acc: 0.6502\n",
            "Epoch 20/100\n",
            "2246/2246 [==============================] - 5s 2ms/step - loss: 0.8560 - acc: 0.8264 - val_loss: 2.5724 - val_acc: 0.6490\n",
            "Epoch 21/100\n",
            "2246/2246 [==============================] - 5s 2ms/step - loss: 0.8288 - acc: 0.8309 - val_loss: 2.5668 - val_acc: 0.6526\n",
            "Epoch 22/100\n",
            "2246/2246 [==============================] - 5s 2ms/step - loss: 0.8041 - acc: 0.8330 - val_loss: 2.6075 - val_acc: 0.6533\n",
            "Epoch 23/100\n",
            "2246/2246 [==============================] - 5s 2ms/step - loss: 0.7761 - acc: 0.8373 - val_loss: 2.5826 - val_acc: 0.6538\n",
            "Epoch 24/100\n",
            "2246/2246 [==============================] - 5s 2ms/step - loss: 0.7521 - acc: 0.8404 - val_loss: 2.5644 - val_acc: 0.6516\n",
            "Epoch 25/100\n",
            "2246/2246 [==============================] - 5s 2ms/step - loss: 0.7268 - acc: 0.8451 - val_loss: 2.6192 - val_acc: 0.6563\n",
            "Epoch 26/100\n",
            "2246/2246 [==============================] - 5s 2ms/step - loss: 0.7042 - acc: 0.8488 - val_loss: 2.5892 - val_acc: 0.6547\n",
            "Epoch 27/100\n",
            "2246/2246 [==============================] - 5s 2ms/step - loss: 0.6784 - acc: 0.8533 - val_loss: 2.5903 - val_acc: 0.6564\n",
            "Epoch 28/100\n",
            "2246/2246 [==============================] - 5s 2ms/step - loss: 0.6556 - acc: 0.8575 - val_loss: 2.5953 - val_acc: 0.6573\n",
            "Epoch 29/100\n",
            "2246/2246 [==============================] - 5s 2ms/step - loss: 0.6314 - acc: 0.8621 - val_loss: 2.6514 - val_acc: 0.6554\n",
            "Epoch 30/100\n",
            "2246/2246 [==============================] - 5s 2ms/step - loss: 0.6085 - acc: 0.8673 - val_loss: 2.6453 - val_acc: 0.6554\n",
            "Epoch 31/100\n",
            "2246/2246 [==============================] - 5s 2ms/step - loss: 0.5880 - acc: 0.8710 - val_loss: 2.6261 - val_acc: 0.6571\n",
            "Epoch 32/100\n",
            "2246/2246 [==============================] - 5s 2ms/step - loss: 0.5658 - acc: 0.8763 - val_loss: 2.6469 - val_acc: 0.6578\n",
            "Epoch 33/100\n",
            "2246/2246 [==============================] - 5s 2ms/step - loss: 0.5459 - acc: 0.8820 - val_loss: 2.6714 - val_acc: 0.6554\n",
            "Epoch 34/100\n",
            "2246/2246 [==============================] - 5s 2ms/step - loss: 0.5244 - acc: 0.8849 - val_loss: 2.6177 - val_acc: 0.6549\n",
            "Epoch 35/100\n",
            "2246/2246 [==============================] - 5s 2ms/step - loss: 0.5042 - acc: 0.8908 - val_loss: 2.6505 - val_acc: 0.6584\n",
            "Epoch 36/100\n",
            "2246/2246 [==============================] - 5s 2ms/step - loss: 0.4873 - acc: 0.8949 - val_loss: 2.6407 - val_acc: 0.6579\n",
            "Epoch 37/100\n",
            "2246/2246 [==============================] - 5s 2ms/step - loss: 0.4652 - acc: 0.8997 - val_loss: 2.6520 - val_acc: 0.6577\n",
            "Epoch 38/100\n",
            "2246/2246 [==============================] - 5s 2ms/step - loss: 0.4476 - acc: 0.9053 - val_loss: 2.6438 - val_acc: 0.6584\n",
            "Epoch 39/100\n",
            "2246/2246 [==============================] - 5s 2ms/step - loss: 0.4312 - acc: 0.9087 - val_loss: 2.6484 - val_acc: 0.6597\n",
            "Epoch 40/100\n",
            "2246/2246 [==============================] - 5s 2ms/step - loss: 0.4137 - acc: 0.9121 - val_loss: 2.6824 - val_acc: 0.6596\n",
            "Epoch 41/100\n",
            "2246/2246 [==============================] - 5s 2ms/step - loss: 0.3970 - acc: 0.9169 - val_loss: 2.6767 - val_acc: 0.6562\n",
            "Epoch 42/100\n",
            "2246/2246 [==============================] - 5s 2ms/step - loss: 0.3820 - acc: 0.9210 - val_loss: 2.6650 - val_acc: 0.6571\n",
            "Epoch 43/100\n",
            "2246/2246 [==============================] - 5s 2ms/step - loss: 0.3661 - acc: 0.9231 - val_loss: 2.7062 - val_acc: 0.6588\n",
            "Epoch 44/100\n",
            "2246/2246 [==============================] - 5s 2ms/step - loss: 0.3503 - acc: 0.9272 - val_loss: 2.7016 - val_acc: 0.6590\n",
            "Epoch 45/100\n",
            "2246/2246 [==============================] - 5s 2ms/step - loss: 0.3366 - acc: 0.9305 - val_loss: 2.7336 - val_acc: 0.6579\n",
            "Epoch 46/100\n",
            "2246/2246 [==============================] - 5s 2ms/step - loss: 0.3233 - acc: 0.9334 - val_loss: 2.7170 - val_acc: 0.6592\n",
            "Epoch 47/100\n",
            "2246/2246 [==============================] - 5s 2ms/step - loss: 0.3090 - acc: 0.9380 - val_loss: 2.7327 - val_acc: 0.6585\n",
            "Epoch 48/100\n",
            "2246/2246 [==============================] - 5s 2ms/step - loss: 0.2958 - acc: 0.9411 - val_loss: 2.7554 - val_acc: 0.6584\n",
            "Epoch 49/100\n",
            "2246/2246 [==============================] - 5s 2ms/step - loss: 0.2829 - acc: 0.9425 - val_loss: 2.7418 - val_acc: 0.6590\n",
            "Epoch 50/100\n",
            "2246/2246 [==============================] - 5s 2ms/step - loss: 0.2713 - acc: 0.9463 - val_loss: 2.7536 - val_acc: 0.6576\n",
            "Epoch 51/100\n",
            "2246/2246 [==============================] - 5s 2ms/step - loss: 0.2580 - acc: 0.9496 - val_loss: 2.7573 - val_acc: 0.6566\n",
            "Epoch 52/100\n",
            "2246/2246 [==============================] - 5s 2ms/step - loss: 0.2499 - acc: 0.9508 - val_loss: 2.7695 - val_acc: 0.6580\n",
            "Epoch 53/100\n",
            "2246/2246 [==============================] - 5s 2ms/step - loss: 0.2365 - acc: 0.9542 - val_loss: 2.7697 - val_acc: 0.6581\n",
            "Epoch 54/100\n",
            "2246/2246 [==============================] - 5s 2ms/step - loss: 0.2267 - acc: 0.9563 - val_loss: 2.7674 - val_acc: 0.6596\n",
            "Epoch 55/100\n",
            "2246/2246 [==============================] - 5s 2ms/step - loss: 0.2165 - acc: 0.9581 - val_loss: 2.7922 - val_acc: 0.6592\n",
            "Epoch 56/100\n",
            "2246/2246 [==============================] - 5s 2ms/step - loss: 0.2066 - acc: 0.9604 - val_loss: 2.8103 - val_acc: 0.6608\n",
            "Epoch 57/100\n",
            "2246/2246 [==============================] - 5s 2ms/step - loss: 0.1986 - acc: 0.9623 - val_loss: 2.8017 - val_acc: 0.6590\n",
            "Epoch 58/100\n",
            "2246/2246 [==============================] - 5s 2ms/step - loss: 0.1913 - acc: 0.9636 - val_loss: 2.8118 - val_acc: 0.6582\n",
            "Epoch 59/100\n",
            "2246/2246 [==============================] - 5s 2ms/step - loss: 0.1815 - acc: 0.9662 - val_loss: 2.8343 - val_acc: 0.6591\n",
            "Epoch 60/100\n",
            "2246/2246 [==============================] - 5s 2ms/step - loss: 0.1720 - acc: 0.9680 - val_loss: 2.8386 - val_acc: 0.6599\n",
            "Epoch 61/100\n",
            "2246/2246 [==============================] - 5s 2ms/step - loss: 0.1658 - acc: 0.9693 - val_loss: 2.8314 - val_acc: 0.6590\n",
            "Epoch 62/100\n",
            "2246/2246 [==============================] - 5s 2ms/step - loss: 0.1582 - acc: 0.9711 - val_loss: 2.8545 - val_acc: 0.6588\n",
            "Epoch 63/100\n",
            "2246/2246 [==============================] - 5s 2ms/step - loss: 0.1527 - acc: 0.9718 - val_loss: 2.8431 - val_acc: 0.6622\n",
            "Epoch 64/100\n",
            "2246/2246 [==============================] - 5s 2ms/step - loss: 0.1453 - acc: 0.9730 - val_loss: 2.8763 - val_acc: 0.6558\n",
            "Epoch 65/100\n",
            "2246/2246 [==============================] - 5s 2ms/step - loss: 0.1378 - acc: 0.9750 - val_loss: 2.8790 - val_acc: 0.6572\n",
            "Epoch 66/100\n",
            "2246/2246 [==============================] - 5s 2ms/step - loss: 0.1316 - acc: 0.9765 - val_loss: 2.9091 - val_acc: 0.6587\n",
            "Epoch 67/100\n",
            "2246/2246 [==============================] - 5s 2ms/step - loss: 0.1247 - acc: 0.9781 - val_loss: 2.8975 - val_acc: 0.6577\n",
            "Epoch 68/100\n",
            "2246/2246 [==============================] - 5s 2ms/step - loss: 0.1201 - acc: 0.9789 - val_loss: 2.8849 - val_acc: 0.6599\n",
            "Epoch 69/100\n",
            "2246/2246 [==============================] - 5s 2ms/step - loss: 0.1160 - acc: 0.9793 - val_loss: 2.9031 - val_acc: 0.6608\n",
            "Epoch 70/100\n",
            "2246/2246 [==============================] - 5s 2ms/step - loss: 0.1096 - acc: 0.9806 - val_loss: 2.9268 - val_acc: 0.6571\n",
            "Epoch 71/100\n",
            "2246/2246 [==============================] - 5s 2ms/step - loss: 0.1058 - acc: 0.9814 - val_loss: 2.9378 - val_acc: 0.6593\n",
            "Epoch 72/100\n",
            "2246/2246 [==============================] - 5s 2ms/step - loss: 0.0998 - acc: 0.9817 - val_loss: 2.9559 - val_acc: 0.6602\n",
            "Epoch 73/100\n",
            "2246/2246 [==============================] - 5s 2ms/step - loss: 0.0965 - acc: 0.9827 - val_loss: 2.9555 - val_acc: 0.6575\n",
            "Epoch 74/100\n",
            "2246/2246 [==============================] - 5s 2ms/step - loss: 0.0922 - acc: 0.9835 - val_loss: 2.9598 - val_acc: 0.6589\n",
            "Epoch 75/100\n",
            "2246/2246 [==============================] - 5s 2ms/step - loss: 0.0896 - acc: 0.9843 - val_loss: 2.9578 - val_acc: 0.6587\n",
            "Epoch 76/100\n",
            "2246/2246 [==============================] - 5s 2ms/step - loss: 0.0845 - acc: 0.9850 - val_loss: 2.9512 - val_acc: 0.6591\n",
            "Epoch 77/100\n",
            "2246/2246 [==============================] - 5s 2ms/step - loss: 0.0816 - acc: 0.9855 - val_loss: 2.9823 - val_acc: 0.6589\n",
            "Epoch 78/100\n",
            "2246/2246 [==============================] - 5s 2ms/step - loss: 0.0786 - acc: 0.9856 - val_loss: 2.9805 - val_acc: 0.6592\n",
            "Epoch 79/100\n",
            "2246/2246 [==============================] - 5s 2ms/step - loss: 0.0740 - acc: 0.9858 - val_loss: 3.0140 - val_acc: 0.6564\n",
            "Epoch 80/100\n",
            "2246/2246 [==============================] - 5s 2ms/step - loss: 0.0716 - acc: 0.9873 - val_loss: 3.0201 - val_acc: 0.6561\n",
            "Epoch 81/100\n",
            "2246/2246 [==============================] - 5s 2ms/step - loss: 0.0688 - acc: 0.9875 - val_loss: 2.9955 - val_acc: 0.6574\n",
            "Epoch 82/100\n",
            "2246/2246 [==============================] - 5s 2ms/step - loss: 0.0665 - acc: 0.9883 - val_loss: 3.0179 - val_acc: 0.6571\n",
            "Epoch 83/100\n",
            "2246/2246 [==============================] - 5s 2ms/step - loss: 0.0634 - acc: 0.9885 - val_loss: 3.0643 - val_acc: 0.6582\n",
            "Epoch 84/100\n",
            "2246/2246 [==============================] - 5s 2ms/step - loss: 0.0608 - acc: 0.9891 - val_loss: 3.0234 - val_acc: 0.6559\n",
            "Epoch 85/100\n",
            "2246/2246 [==============================] - 5s 2ms/step - loss: 0.0578 - acc: 0.9896 - val_loss: 3.0461 - val_acc: 0.6576\n",
            "Epoch 86/100\n",
            "2246/2246 [==============================] - 5s 2ms/step - loss: 0.0553 - acc: 0.9897 - val_loss: 3.0485 - val_acc: 0.6588\n",
            "Epoch 87/100\n",
            "2246/2246 [==============================] - 5s 2ms/step - loss: 0.0541 - acc: 0.9898 - val_loss: 3.0558 - val_acc: 0.6596\n",
            "Epoch 88/100\n",
            "2246/2246 [==============================] - 5s 2ms/step - loss: 0.0519 - acc: 0.9904 - val_loss: 3.0886 - val_acc: 0.6571\n",
            "Epoch 89/100\n",
            "2246/2246 [==============================] - 5s 2ms/step - loss: 0.0494 - acc: 0.9905 - val_loss: 3.0836 - val_acc: 0.6593\n",
            "Epoch 90/100\n",
            "2246/2246 [==============================] - 5s 2ms/step - loss: 0.0478 - acc: 0.9906 - val_loss: 3.0916 - val_acc: 0.6586\n",
            "Epoch 91/100\n",
            "2246/2246 [==============================] - 5s 2ms/step - loss: 0.0460 - acc: 0.9914 - val_loss: 3.0980 - val_acc: 0.6590\n",
            "Epoch 92/100\n",
            "2246/2246 [==============================] - 5s 2ms/step - loss: 0.0447 - acc: 0.9911 - val_loss: 3.0927 - val_acc: 0.6579\n",
            "Epoch 93/100\n",
            "2246/2246 [==============================] - 5s 2ms/step - loss: 0.0432 - acc: 0.9915 - val_loss: 3.0980 - val_acc: 0.6578\n",
            "Epoch 94/100\n",
            "2246/2246 [==============================] - 5s 2ms/step - loss: 0.0418 - acc: 0.9918 - val_loss: 3.1101 - val_acc: 0.6571\n",
            "Epoch 95/100\n",
            "2246/2246 [==============================] - 5s 2ms/step - loss: 0.0403 - acc: 0.9920 - val_loss: 3.1058 - val_acc: 0.6568\n",
            "Epoch 96/100\n",
            "2246/2246 [==============================] - 5s 2ms/step - loss: 0.0383 - acc: 0.9928 - val_loss: 3.1175 - val_acc: 0.6575\n",
            "Epoch 97/100\n",
            "2246/2246 [==============================] - 5s 2ms/step - loss: 0.0370 - acc: 0.9929 - val_loss: 3.1270 - val_acc: 0.6567\n",
            "Epoch 98/100\n",
            "2246/2246 [==============================] - 5s 2ms/step - loss: 0.0365 - acc: 0.9926 - val_loss: 3.1236 - val_acc: 0.6561\n",
            "Epoch 99/100\n",
            "2246/2246 [==============================] - 5s 2ms/step - loss: 0.0352 - acc: 0.9928 - val_loss: 3.1394 - val_acc: 0.6577\n",
            "Epoch 100/100\n",
            "2246/2246 [==============================] - 5s 2ms/step - loss: 0.0339 - acc: 0.9929 - val_loss: 3.1562 - val_acc: 0.6584\n"
          ],
          "name": "stdout"
        }
      ]
    },
    {
      "cell_type": "code",
      "metadata": {
        "id": "KOJhtyjyX9J7",
        "colab_type": "code",
        "colab": {
          "base_uri": "https://localhost:8080/",
          "height": 269
        },
        "outputId": "8e026ef5-94f1-4365-feb7-05cca0c6b871"
      },
      "source": [
        "# plot the results\n",
        "plt.plot(r.history['loss'],label='loss')\n",
        "plt.plot(r.history['val_loss'],label='val_loss')\n",
        "plt.legend()\n",
        "plt.show()"
      ],
      "execution_count": 48,
      "outputs": [
        {
          "output_type": "display_data",
          "data": {
            "image/png": "[encoded data removed]",
            "text/plain": [
              "<Figure size 432x288 with 1 Axes>"
            ]
          },
          "metadata": {
            "tags": []
          }
        }
      ]
    },
    {
      "cell_type": "code",
      "metadata": {
        "id": "10_ZdeuSaOck",
        "colab_type": "code",
        "colab": {
          "base_uri": "https://localhost:8080/",
          "height": 269
        },
        "outputId": "8e10f62b-0f21-432b-dfdb-635887d11d92"
      },
      "source": [
        "plt.plot(r.history['acc'],label='acc')\n",
        "plt.plot(r.history['val_acc'],label='val_acc')\n",
        "plt.legend()\n",
        "plt.show()"
      ],
      "execution_count": 49,
      "outputs": [
        {
          "output_type": "display_data",
          "data": {
            "image/png": "[encoded data removed]",
            "text/plain": [
              "<Figure size 432x288 with 1 Axes>"
            ]
          },
          "metadata": {
            "tags": []
          }
        }
      ]
    },
    {
      "cell_type": "code",
      "metadata": {
        "id": "6HtNlnCQacKO",
        "colab_type": "code",
        "colab": {}
      },
      "source": [
        "encoder_model = Model(encoder_inputs_placeholder, encoder_states)\n",
        "\n",
        "decoder_state_input_h = Input(shape=(LATENT_DIM,))\n",
        "decoder_state_input_c = Input(shape=(LATENT_DIM,))\n",
        "decoder_states_inputs = [decoder_state_input_h, decoder_state_input_c]"
      ],
      "execution_count": 0,
      "outputs": []
    },
    {
      "cell_type": "code",
      "metadata": {
        "id": "79UGKaMqd43c",
        "colab_type": "code",
        "colab": {}
      },
      "source": [
        "decoder_inputs_single = Input(shape=(1,))\n",
        "decoder_inputs_single_x = decoder_embedding(decoder_inputs_single)"
      ],
      "execution_count": 0,
      "outputs": []
    },
    {
      "cell_type": "code",
      "metadata": {
        "id": "NOwSoO2ReMW6",
        "colab_type": "code",
        "colab": {}
      },
      "source": [
        "decoder_outputs, h, c = decoder_lstm(decoder_inputs_single_x,\n",
        "                                     initial_state=decoder_states_inputs)"
      ],
      "execution_count": 0,
      "outputs": []
    },
    {
      "cell_type": "code",
      "metadata": {
        "id": "3ZSCFN41ekth",
        "colab_type": "code",
        "colab": {}
      },
      "source": [
        "decoder_states = [h, c]\n",
        "decoder_outputs = decoder_dense(decoder_outputs)"
      ],
      "execution_count": 0,
      "outputs": []
    },
    {
      "cell_type": "code",
      "metadata": {
        "id": "HIZWeBl7euZS",
        "colab_type": "code",
        "colab": {}
      },
      "source": [
        "decoder_model = Model([decoder_inputs_single]+decoder_states_inputs,\n",
        "                      [decoder_outputs]+decoder_states)"
      ],
      "execution_count": 0,
      "outputs": []
    },
    {
      "cell_type": "code",
      "metadata": {
        "id": "n8c4vMFofNE_",
        "colab_type": "code",
        "colab": {}
      },
      "source": [
        "# mapping indices back to words\n",
        "idx2word_eng = {v:k for k,v in word2idx_inputs.items()}\n",
        "idx2word_trans = {v:k for k,v in word2idx_outputs.items()}"
      ],
      "execution_count": 0,
      "outputs": []
    },
    {
      "cell_type": "code",
      "metadata": {
        "id": "YiQMlb-jffZ-",
        "colab_type": "code",
        "colab": {}
      },
      "source": [
        "def decode_sequence(input_seq):\n",
        "  states_value = encoder_model.predict(input_seq)\n",
        "  # generating empty target seq of len 1\n",
        "  target_seq = np.zeros((1,1))\n",
        "  target_seq[0,0] = word2idx_outputs['<sos>']\n",
        "  \n",
        "  eos = word2idx_outputs['<eos>']\n",
        "  output_sentence = []\n",
        "  for _ in range(max_len_target):\n",
        "    output_tokens,h,c = decoder_model.predict([target_seq]+states_value)\n",
        "    \n",
        "    idx = np.argmax(output_tokens[0,0,:])\n",
        "    if eos == idx:\n",
        "      break\n",
        "    \n",
        "    word = ''\n",
        "    if idx>0:\n",
        "      word = idx2word_trans[idx]\n",
        "      output_sentence.append(word)\n",
        "    \n",
        "    target_seq[0,0] = idx\n",
        "    states_value = [h,c]\n",
        "    \n",
        "  return ' '.join(output_sentence) "
      ],
      "execution_count": 0,
      "outputs": []
    },
    {
      "cell_type": "code",
      "metadata": {
        "id": "bmJ3qERUhfwF",
        "colab_type": "code",
        "colab": {
          "base_uri": "https://localhost:8080/",
          "height": 72
        },
        "outputId": "a746dcad-5226-4bc2-82eb-4e993bb1b491"
      },
      "source": [
        "i = np.random.choice(len(input_texts))\n",
        "input_seq = encoder_inputs[i:i+1]\n",
        "translation = decode_sequence(input_seq)\n",
        "print('Input:',input_texts[i])\n",
        "print('Translation:',translation)"
      ],
      "execution_count": 60,
      "outputs": [
        {
          "output_type": "stream",
          "text": [
            "Input: He rescued the child from the fire.\n",
            "Translation: उसने बच्चे को आग से बचाया।\n",
            "\n"
          ],
          "name": "stdout"
        }
      ]
    }
  ]
}