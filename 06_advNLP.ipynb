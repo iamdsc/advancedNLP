{
  "nbformat": 4,
  "nbformat_minor": 0,
  "metadata": {
    "colab": {
      "name": "06_advNLP.ipynb",
      "version": "0.3.2",
      "provenance": [],
      "collapsed_sections": []
    },
    "kernelspec": {
      "name": "python3",
      "display_name": "Python 3"
    },
    "accelerator": "GPU"
  },
  "cells": [
    {
      "cell_type": "markdown",
      "metadata": {
        "id": "aLQQ-WLfTRzB",
        "colab_type": "text"
      },
      "source": [
        "### Neural Machine Translation using Attention"
      ]
    },
    {
      "cell_type": "code",
      "metadata": {
        "id": "QkYJ5snBS2cE",
        "colab_type": "code",
        "colab": {
          "base_uri": "https://localhost:8080/",
          "height": 35
        },
        "outputId": "96b0850e-3e05-4e49-fe6e-b27a6068320d"
      },
      "source": [
        "import os, sys\n",
        "import numpy as np\n",
        "import matplotlib.pyplot as plt\n",
        "from keras.models import Model\n",
        "from keras.layers import (Input,LSTM,GRU,Dense,\n",
        "                          Embedding,Bidirectional,RepeatVector,\n",
        "                          Concatenate,Activation,Dot,Lambda)\n",
        "from keras.preprocessing.text import Tokenizer\n",
        "from keras.preprocessing.sequence import pad_sequences\n",
        "import keras.backend as K"
      ],
      "execution_count": 2,
      "outputs": [
        {
          "output_type": "stream",
          "text": [
            "Using TensorFlow backend.\n"
          ],
          "name": "stderr"
        }
      ]
    },
    {
      "cell_type": "code",
      "metadata": {
        "id": "U375mCZTTX-x",
        "colab_type": "code",
        "colab": {}
      },
      "source": [
        "# function to do softmax over time\n",
        "def softmax_over_time(x):\n",
        "  assert(K.ndim(x) > 2)\n",
        "  e = K.exp(x - K.max(x, axis=1, keepdims=True))\n",
        "  s = K.sum(e, axis=1, keepdims=True)\n",
        "  return e/s"
      ],
      "execution_count": 0,
      "outputs": []
    },
    {
      "cell_type": "code",
      "metadata": {
        "id": "7lHUQxAcUsYy",
        "colab_type": "code",
        "colab": {}
      },
      "source": [
        "# config variables\n",
        "BATCH_SIZE = 64\n",
        "EPOCHS = 100\n",
        "LATENT_DIM = 256\n",
        "LATENT_DIM_DECODER = 256\n",
        "NUM_SAMPLES = 10000\n",
        "MAX_SEQUENCE_LENGTH = 100\n",
        "MAX_NUM_WORDS = 20000\n",
        "EMBEDDING_DIM = 100"
      ],
      "execution_count": 0,
      "outputs": []
    },
    {
      "cell_type": "code",
      "metadata": {
        "id": "da1kQMSZVQy9",
        "colab_type": "code",
        "colab": {}
      },
      "source": [
        "input_texts = [] # sentence in original language\n",
        "target_texts = [] # sentence in target language\n",
        "target_texts_inputs = [] # sentence in target language offset by 1"
      ],
      "execution_count": 0,
      "outputs": []
    },
    {
      "cell_type": "code",
      "metadata": {
        "id": "wAOS5AsrVXIN",
        "colab_type": "code",
        "colab": {
          "base_uri": "https://localhost:8080/",
          "height": 35
        },
        "outputId": "d23fda02-ee24-4d8f-9b4e-6cae7b4753e4"
      },
      "source": [
        "# load in the data\n",
        "t = 0\n",
        "for line in open('hin.txt'):\n",
        "  t+=1\n",
        "  if t>NUM_SAMPLES:\n",
        "    break\n",
        "  # input and target are seperated by '\\t'\n",
        "  if '\\t' not in line:\n",
        "    continue\n",
        "  input_text, translation = line.split('\\t')\n",
        "  target_text = translation + ' <eos>'\n",
        "  target_text_input = '<sos> ' + translation\n",
        "  input_texts.append(input_text)\n",
        "  target_texts.append(target_text)\n",
        "  target_texts_inputs.append(target_text_input)\n",
        "print('num samples:',len(input_texts))"
      ],
      "execution_count": 7,
      "outputs": [
        {
          "output_type": "stream",
          "text": [
            "num samples: 2808\n"
          ],
          "name": "stdout"
        }
      ]
    },
    {
      "cell_type": "code",
      "metadata": {
        "id": "OSiCip5bVz-F",
        "colab_type": "code",
        "colab": {}
      },
      "source": [
        "tokenizer_inputs = Tokenizer(num_words=MAX_NUM_WORDS)\n",
        "tokenizer_inputs.fit_on_texts(input_texts)\n",
        "input_sequences = tokenizer_inputs.texts_to_sequences(input_texts)"
      ],
      "execution_count": 0,
      "outputs": []
    },
    {
      "cell_type": "code",
      "metadata": {
        "id": "J_IvjfRyV_PJ",
        "colab_type": "code",
        "colab": {
          "base_uri": "https://localhost:8080/",
          "height": 35
        },
        "outputId": "79a6ea54-ac11-42b7-de8c-2e03ea932cca"
      },
      "source": [
        "# word to index mapping for input language\n",
        "word2idx_inputs = tokenizer_inputs.word_index\n",
        "print('Found %s unique input tokens.'%len(word2idx_inputs))"
      ],
      "execution_count": 9,
      "outputs": [
        {
          "output_type": "stream",
          "text": [
            "Found 2388 unique input tokens.\n"
          ],
          "name": "stdout"
        }
      ]
    },
    {
      "cell_type": "code",
      "metadata": {
        "id": "1Tf9YwGRWhkp",
        "colab_type": "code",
        "colab": {}
      },
      "source": [
        "# max length input seq\n",
        "max_len_input = max(len(s) for s in input_sequences)"
      ],
      "execution_count": 0,
      "outputs": []
    },
    {
      "cell_type": "code",
      "metadata": {
        "id": "kYGKvDM7WCTn",
        "colab_type": "code",
        "colab": {}
      },
      "source": [
        "# tokenize the outputs\n",
        "tokenizer_outputs = Tokenizer(num_words=MAX_NUM_WORDS, filters='')\n",
        "tokenizer_outputs.fit_on_texts(target_texts + target_texts_inputs)\n",
        "target_sequences = tokenizer_outputs.texts_to_sequences(target_texts)\n",
        "target_sequences_inputs = tokenizer_outputs.texts_to_sequences(target_texts_inputs)"
      ],
      "execution_count": 0,
      "outputs": []
    },
    {
      "cell_type": "code",
      "metadata": {
        "id": "9Ic4lx7_WHWx",
        "colab_type": "code",
        "colab": {
          "base_uri": "https://localhost:8080/",
          "height": 35
        },
        "outputId": "2a267fcc-7059-4d55-8ef6-f84c2caa2647"
      },
      "source": [
        "# word to index mapping for output language\n",
        "word2idx_outputs = tokenizer_outputs.word_index\n",
        "print('Found %s unique output tokens.'%len(word2idx_outputs))"
      ],
      "execution_count": 11,
      "outputs": [
        {
          "output_type": "stream",
          "text": [
            "Found 3150 unique output tokens.\n"
          ],
          "name": "stdout"
        }
      ]
    },
    {
      "cell_type": "code",
      "metadata": {
        "id": "W0QuvS2EWKNi",
        "colab_type": "code",
        "colab": {}
      },
      "source": [
        "num_words_output = len(word2idx_outputs)+1\n",
        "# max length output seq\n",
        "max_len_target = max(len(s) for s in target_sequences)"
      ],
      "execution_count": 0,
      "outputs": []
    },
    {
      "cell_type": "code",
      "metadata": {
        "id": "u69mBx5CWUfZ",
        "colab_type": "code",
        "colab": {
          "base_uri": "https://localhost:8080/",
          "height": 54
        },
        "outputId": "2c5b6afe-edec-4ebf-8387-1ce560c62626"
      },
      "source": [
        "# padding the sequences\n",
        "encoder_inputs = pad_sequences(input_sequences, maxlen=max_len_input)\n",
        "print('Encoder data shape:',encoder_inputs.shape)\n",
        "\n",
        "decoder_inputs = pad_sequences(target_sequences_inputs, maxlen=max_len_target, padding='post')\n",
        "print('Decoder data shape:',decoder_inputs.shape)\n",
        "\n",
        "decoder_targets = pad_sequences(target_sequences, maxlen=max_len_target, padding='post')"
      ],
      "execution_count": 15,
      "outputs": [
        {
          "output_type": "stream",
          "text": [
            "Encoder data shape: (2808, 22)\n",
            "Decoder data shape: (2808, 26)\n"
          ],
          "name": "stdout"
        }
      ]
    },
    {
      "cell_type": "code",
      "metadata": {
        "id": "NaBGBku0WbC9",
        "colab_type": "code",
        "colab": {
          "base_uri": "https://localhost:8080/",
          "height": 387
        },
        "outputId": "9f7ccddd-498a-44c2-ddcc-bc038dc81845"
      },
      "source": [
        "!wget http://nlp.stanford.edu/data/glove.6B.zip"
      ],
      "execution_count": 16,
      "outputs": [
        {
          "output_type": "stream",
          "text": [
            "--2019-08-10 16:26:46--  http://nlp.stanford.edu/data/glove.6B.zip\n",
            "Resolving nlp.stanford.edu (nlp.stanford.edu)... 171.64.67.140\n",
            "Connecting to nlp.stanford.edu (nlp.stanford.edu)|171.64.67.140|:80... connected.\n",
            "HTTP request sent, awaiting response... 302 Found\n",
            "Location: https://nlp.stanford.edu/data/glove.6B.zip [following]\n",
            "--2019-08-10 16:26:47--  https://nlp.stanford.edu/data/glove.6B.zip\n",
            "Connecting to nlp.stanford.edu (nlp.stanford.edu)|171.64.67.140|:443... connected.\n",
            "HTTP request sent, awaiting response... 301 Moved Permanently\n",
            "Location: http://downloads.cs.stanford.edu/nlp/data/glove.6B.zip [following]\n",
            "--2019-08-10 16:26:47--  http://downloads.cs.stanford.edu/nlp/data/glove.6B.zip\n",
            "Resolving downloads.cs.stanford.edu (downloads.cs.stanford.edu)... 171.64.64.22\n",
            "Connecting to downloads.cs.stanford.edu (downloads.cs.stanford.edu)|171.64.64.22|:80... connected.\n",
            "HTTP request sent, awaiting response... 200 OK\n",
            "Length: 862182613 (822M) [application/zip]\n",
            "Saving to: ‘glove.6B.zip’\n",
            "\n",
            "glove.6B.zip        100%[===================>] 822.24M  38.0MB/s    in 22s     \n",
            "\n",
            "2019-08-10 16:27:09 (37.2 MB/s) - ‘glove.6B.zip’ saved [862182613/862182613]\n",
            "\n"
          ],
          "name": "stdout"
        }
      ]
    },
    {
      "cell_type": "code",
      "metadata": {
        "id": "-4iaFwxWWpUC",
        "colab_type": "code",
        "colab": {
          "base_uri": "https://localhost:8080/",
          "height": 109
        },
        "outputId": "fe304e6c-10b5-4302-9d03-c29a9190285a"
      },
      "source": [
        "!unzip glove.6B.zip"
      ],
      "execution_count": 17,
      "outputs": [
        {
          "output_type": "stream",
          "text": [
            "Archive:  glove.6B.zip\n",
            "  inflating: glove.6B.50d.txt        \n",
            "  inflating: glove.6B.100d.txt       \n",
            "  inflating: glove.6B.200d.txt       \n",
            "  inflating: glove.6B.300d.txt       \n"
          ],
          "name": "stdout"
        }
      ]
    },
    {
      "cell_type": "code",
      "metadata": {
        "id": "qA0cyMi0WrMr",
        "colab_type": "code",
        "colab": {
          "base_uri": "https://localhost:8080/",
          "height": 35
        },
        "outputId": "dd0f8d73-9040-4fdb-d28a-ba38777d5163"
      },
      "source": [
        "# loading pre-trained word vectors\n",
        "word2vec = {}\n",
        "with open('glove.6B.%sd.txt'%EMBEDDING_DIM) as f:\n",
        "  for line in f:\n",
        "    values = line.split()\n",
        "    word = values[0]\n",
        "    vec = np.asarray(values[1:],dtype='float32')\n",
        "    word2vec[word] = vec\n",
        "print('Found %s word vectors.'%len(word2vec))"
      ],
      "execution_count": 18,
      "outputs": [
        {
          "output_type": "stream",
          "text": [
            "Found 400000 word vectors.\n"
          ],
          "name": "stdout"
        }
      ]
    },
    {
      "cell_type": "code",
      "metadata": {
        "id": "NromsHVNWtO9",
        "colab_type": "code",
        "colab": {}
      },
      "source": [
        "# prepare embedding matrix\n",
        "num_words = min(MAX_NUM_WORDS, len(word2idx_inputs)+1)\n",
        "embedding_matrix = np.zeros((num_words, EMBEDDING_DIM))\n",
        "for word, i in word2idx_inputs.items():\n",
        "  if i < MAX_NUM_WORDS:\n",
        "    embedding_vector = word2vec.get(word)\n",
        "    if embedding_vector is not None:\n",
        "      embedding_matrix[i] = embedding_vector"
      ],
      "execution_count": 0,
      "outputs": []
    },
    {
      "cell_type": "code",
      "metadata": {
        "id": "FtseteWjWvRV",
        "colab_type": "code",
        "colab": {}
      },
      "source": [
        "# creating embedding layer\n",
        "embedding_layer = Embedding(num_words,\n",
        "                            EMBEDDING_DIM,\n",
        "                            weights=[embedding_matrix],\n",
        "                            input_length=max_len_input,\n",
        "                            trainable=False)"
      ],
      "execution_count": 0,
      "outputs": []
    },
    {
      "cell_type": "code",
      "metadata": {
        "id": "ytyd1E-5W-pM",
        "colab_type": "code",
        "colab": {}
      },
      "source": [
        "decoder_targets_one_hot = np.zeros((len(input_texts),\n",
        "                                   max_len_target,\n",
        "                                   num_words_output),dtype='float32')\n",
        "for i,d in enumerate(decoder_targets):\n",
        "  for t,word in enumerate(d):\n",
        "    decoder_targets_one_hot[i, t, word] = 1"
      ],
      "execution_count": 0,
      "outputs": []
    },
    {
      "cell_type": "code",
      "metadata": {
        "id": "tN-hJRNBXK55",
        "colab_type": "code",
        "colab": {}
      },
      "source": [
        "# build the model\n",
        "# setup the encoder\n",
        "encoder_inputs_placeholder = Input(shape=(max_len_input,))\n",
        "x = embedding_layer(encoder_inputs_placeholder)\n",
        "encoder = Bidirectional(LSTM(LATENT_DIM, return_sequences=True, dropout=0.5))\n",
        "encoder_outputs = encoder(x)"
      ],
      "execution_count": 0,
      "outputs": []
    },
    {
      "cell_type": "code",
      "metadata": {
        "id": "ArYt6BpJYDIE",
        "colab_type": "code",
        "colab": {}
      },
      "source": [
        "# setup the decoder\n",
        "decoder_inputs_placeholder = Input(shape=(max_len_target,))\n",
        "decoder_embedding = Embedding(num_words_output, EMBEDDING_DIM)\n",
        "decoder_inputs_x = decoder_embedding(decoder_inputs_placeholder)"
      ],
      "execution_count": 0,
      "outputs": []
    },
    {
      "cell_type": "code",
      "metadata": {
        "id": "k279HGgRYviP",
        "colab_type": "code",
        "colab": {}
      },
      "source": [
        "# Attention layer\n",
        "attn_repeat_layer = RepeatVector(max_len_input)\n",
        "attn_concat_layer = Concatenate(axis=-1)\n",
        "attn_dense1 = Dense(10, activation='tanh')\n",
        "attn_dense2 = Dense(1, activation=softmax_over_time)\n",
        "attn_dot = Dot(axes=1)"
      ],
      "execution_count": 0,
      "outputs": []
    },
    {
      "cell_type": "code",
      "metadata": {
        "id": "NOjtFMZkZfnQ",
        "colab_type": "code",
        "colab": {}
      },
      "source": [
        "def one_step_attention(h, st_1):\n",
        "  # h = h(1), ..., h(Tx), shape = (Tx, LATENT_DIM * 2)\n",
        "  # st_1 = s(t-1), shape = (LATENT_DIM_DECODER,)\n",
        " \n",
        "  # copy s(t-1) Tx times\n",
        "  # now shape = (Tx, LATENT_DIM_DECODER)\n",
        "  st_1 = attn_repeat_layer(st_1)\n",
        "\n",
        "  # Concatenate all h(t)'s with s(t-1)\n",
        "  # Now of shape (Tx, LATENT_DIM_DECODER + LATENT_DIM * 2)\n",
        "  x = attn_concat_layer([h, st_1])\n",
        "\n",
        "  # Neural net first layer\n",
        "  x = attn_dense1(x)\n",
        "\n",
        "  # Neural net second layer with special softmax over time\n",
        "  alphas = attn_dense2(x)\n",
        "\n",
        "  # \"Dot\" the alphas and the h's\n",
        "  # Remember a.dot(b) = sum over a[t] * b[t]\n",
        "  context = attn_dot([alphas, h])\n",
        "\n",
        "  return context"
      ],
      "execution_count": 0,
      "outputs": []
    },
    {
      "cell_type": "code",
      "metadata": {
        "id": "7ZMlCt7LbK2Q",
        "colab_type": "code",
        "colab": {}
      },
      "source": [
        "# decoder after attention\n",
        "decoder_lstm = LSTM(LATENT_DIM_DECODER, return_state=True)\n",
        "decoder_dense = Dense(num_words_output, activation='softmax')"
      ],
      "execution_count": 0,
      "outputs": []
    },
    {
      "cell_type": "code",
      "metadata": {
        "id": "Auai03zdb_ns",
        "colab_type": "code",
        "colab": {}
      },
      "source": [
        "initial_s = Input(shape=(LATENT_DIM_DECODER,), name='s0')\n",
        "initial_c = Input(shape=(LATENT_DIM_DECODER,), name='c0')\n",
        "context_last_word_concat_layer = Concatenate(axis=2)"
      ],
      "execution_count": 0,
      "outputs": []
    },
    {
      "cell_type": "code",
      "metadata": {
        "id": "KClaJ0HMcd6n",
        "colab_type": "code",
        "colab": {}
      },
      "source": [
        "# s, c will be re-assigned in each iteration of the loop\n",
        "s = initial_s\n",
        "c = initial_c\n",
        "\n",
        "# collect outputs in a list at first\n",
        "outputs = []\n",
        "for t in range(max_len_target): # Ty times\n",
        "  # get the context using attention\n",
        "  context = one_step_attention(encoder_outputs, s)\n",
        "\n",
        "  # we need a different layer for each time step\n",
        "  selector = Lambda(lambda x: x[:, t:t+1])\n",
        "  xt = selector(decoder_inputs_x)\n",
        "  \n",
        "  # combine \n",
        "  decoder_lstm_input = context_last_word_concat_layer([context, xt])\n",
        "\n",
        "  # pass the combined [context, last word] into the LSTM\n",
        "  # along with [s, c]\n",
        "  # get the new [s, c] and output\n",
        "  o, s, c = decoder_lstm(decoder_lstm_input, initial_state=[s, c])\n",
        "\n",
        "  # final dense layer to get next word prediction\n",
        "  decoder_outputs = decoder_dense(o)\n",
        "  outputs.append(decoder_outputs)"
      ],
      "execution_count": 0,
      "outputs": []
    },
    {
      "cell_type": "code",
      "metadata": {
        "id": "MsGmlxp3d_95",
        "colab_type": "code",
        "colab": {}
      },
      "source": [
        "# 'outputs' is now a list of length Ty\n",
        "# each element is of shape [batch_size, output_vocab_size]\n",
        "# therefore if we simply stack all the outputs into 1 tensor\n",
        "# it would be of shape TxNxD\n",
        "# we would like it to be of shape NxTxD\n",
        "\n",
        "# so we stack and transpose\n",
        "def stack_and_transpose(x):\n",
        "  x = K.stack(x)\n",
        "  x = K.permute_dimensions(x, pattern=(1, 0, 2))\n",
        "  return x"
      ],
      "execution_count": 0,
      "outputs": []
    },
    {
      "cell_type": "code",
      "metadata": {
        "id": "BamvKMJ1hh0G",
        "colab_type": "code",
        "colab": {}
      },
      "source": [
        "# making it a layer\n",
        "stacker = Lambda(stack_and_transpose)\n",
        "outputs = stacker(outputs)"
      ],
      "execution_count": 0,
      "outputs": []
    },
    {
      "cell_type": "code",
      "metadata": {
        "id": "aB1tfVUyhsin",
        "colab_type": "code",
        "colab": {}
      },
      "source": [
        "# create the model\n",
        "model = Model(inputs=[encoder_inputs_placeholder,\n",
        "                      decoder_inputs_placeholder,\n",
        "                      initial_s,\n",
        "                      initial_c],\n",
        "              outputs=outputs)"
      ],
      "execution_count": 0,
      "outputs": []
    },
    {
      "cell_type": "code",
      "metadata": {
        "id": "caxYrtTUh-i9",
        "colab_type": "code",
        "colab": {}
      },
      "source": [
        "# compile the model\n",
        "model.compile(optimizer='rmsprop',loss='categorical_crossentropy',\n",
        "              metrics=['accuracy'])"
      ],
      "execution_count": 0,
      "outputs": []
    },
    {
      "cell_type": "code",
      "metadata": {
        "id": "v9IC1ildigpW",
        "colab_type": "code",
        "colab": {
          "base_uri": "https://localhost:8080/",
          "height": 1000
        },
        "outputId": "fa183879-9516-413f-9b84-c6b88792462c"
      },
      "source": [
        "z = np.zeros((len(encoder_inputs), LATENT_DIM_DECODER)) # initial [s, c]\n",
        "r = model.fit(\n",
        "  [encoder_inputs, decoder_inputs, z, z], decoder_targets_one_hot,\n",
        "  batch_size=BATCH_SIZE,\n",
        "  epochs=EPOCHS,\n",
        "  validation_split=0.2\n",
        ")"
      ],
      "execution_count": 59,
      "outputs": [
        {
          "output_type": "stream",
          "text": [
            "Train on 2246 samples, validate on 562 samples\n",
            "Epoch 1/100\n",
            "2246/2246 [==============================] - 45s 20ms/step - loss: 1.0327 - acc: 0.8094 - val_loss: 2.5511 - val_acc: 0.6458\n",
            "Epoch 2/100\n",
            "2246/2246 [==============================] - 11s 5ms/step - loss: 0.9837 - acc: 0.8128 - val_loss: 2.5119 - val_acc: 0.6482\n",
            "Epoch 3/100\n",
            "2246/2246 [==============================] - 11s 5ms/step - loss: 0.9544 - acc: 0.8161 - val_loss: 2.5399 - val_acc: 0.6471\n",
            "Epoch 4/100\n",
            "2246/2246 [==============================] - 11s 5ms/step - loss: 0.9247 - acc: 0.8184 - val_loss: 2.5919 - val_acc: 0.6488\n",
            "Epoch 5/100\n",
            "2246/2246 [==============================] - 11s 5ms/step - loss: 0.8977 - acc: 0.8206 - val_loss: 2.5595 - val_acc: 0.6497\n",
            "Epoch 6/100\n",
            "2246/2246 [==============================] - 11s 5ms/step - loss: 0.8702 - acc: 0.8241 - val_loss: 2.5636 - val_acc: 0.6506\n",
            "Epoch 7/100\n",
            "2246/2246 [==============================] - 11s 5ms/step - loss: 0.8455 - acc: 0.8265 - val_loss: 2.5711 - val_acc: 0.6524\n",
            "Epoch 8/100\n",
            "2246/2246 [==============================] - 11s 5ms/step - loss: 0.8202 - acc: 0.8305 - val_loss: 2.5758 - val_acc: 0.6530\n",
            "Epoch 9/100\n",
            "2246/2246 [==============================] - 11s 5ms/step - loss: 0.7950 - acc: 0.8336 - val_loss: 2.5542 - val_acc: 0.6535\n",
            "Epoch 10/100\n",
            "2246/2246 [==============================] - 11s 5ms/step - loss: 0.7695 - acc: 0.8373 - val_loss: 2.5769 - val_acc: 0.6508\n",
            "Epoch 11/100\n",
            "2246/2246 [==============================] - 11s 5ms/step - loss: 0.7471 - acc: 0.8406 - val_loss: 2.5841 - val_acc: 0.6508\n",
            "Epoch 12/100\n",
            "2246/2246 [==============================] - 11s 5ms/step - loss: 0.7221 - acc: 0.8463 - val_loss: 2.6028 - val_acc: 0.6534\n",
            "Epoch 13/100\n",
            "2246/2246 [==============================] - 11s 5ms/step - loss: 0.6989 - acc: 0.8500 - val_loss: 2.6196 - val_acc: 0.6504\n",
            "Epoch 14/100\n",
            "2246/2246 [==============================] - 11s 5ms/step - loss: 0.6758 - acc: 0.8538 - val_loss: 2.6009 - val_acc: 0.6523\n",
            "Epoch 15/100\n",
            "2246/2246 [==============================] - 11s 5ms/step - loss: 0.6539 - acc: 0.8588 - val_loss: 2.6346 - val_acc: 0.6539\n",
            "Epoch 16/100\n",
            "2246/2246 [==============================] - 11s 5ms/step - loss: 0.6309 - acc: 0.8630 - val_loss: 2.6263 - val_acc: 0.6523\n",
            "Epoch 17/100\n",
            "2246/2246 [==============================] - 11s 5ms/step - loss: 0.6114 - acc: 0.8676 - val_loss: 2.6211 - val_acc: 0.6554\n",
            "Epoch 18/100\n",
            "2246/2246 [==============================] - 11s 5ms/step - loss: 0.5885 - acc: 0.8718 - val_loss: 2.6327 - val_acc: 0.6556\n",
            "Epoch 19/100\n",
            "2246/2246 [==============================] - 11s 5ms/step - loss: 0.5690 - acc: 0.8772 - val_loss: 2.6660 - val_acc: 0.6519\n",
            "Epoch 20/100\n",
            "2246/2246 [==============================] - 11s 5ms/step - loss: 0.5492 - acc: 0.8812 - val_loss: 2.6395 - val_acc: 0.6536\n",
            "Epoch 21/100\n",
            "2246/2246 [==============================] - 11s 5ms/step - loss: 0.5300 - acc: 0.8860 - val_loss: 2.6652 - val_acc: 0.6558\n",
            "Epoch 22/100\n",
            "2246/2246 [==============================] - 11s 5ms/step - loss: 0.5134 - acc: 0.8888 - val_loss: 2.6710 - val_acc: 0.6540\n",
            "Epoch 23/100\n",
            "2246/2246 [==============================] - 11s 5ms/step - loss: 0.4933 - acc: 0.8937 - val_loss: 2.6630 - val_acc: 0.6534\n",
            "Epoch 24/100\n",
            "2246/2246 [==============================] - 11s 5ms/step - loss: 0.4735 - acc: 0.8985 - val_loss: 2.6509 - val_acc: 0.6555\n",
            "Epoch 25/100\n",
            "2246/2246 [==============================] - 11s 5ms/step - loss: 0.4587 - acc: 0.9025 - val_loss: 2.6653 - val_acc: 0.6567\n",
            "Epoch 26/100\n",
            "2246/2246 [==============================] - 11s 5ms/step - loss: 0.4403 - acc: 0.9068 - val_loss: 2.6955 - val_acc: 0.6540\n",
            "Epoch 27/100\n",
            "2246/2246 [==============================] - 11s 5ms/step - loss: 0.4240 - acc: 0.9090 - val_loss: 2.7004 - val_acc: 0.6541\n",
            "Epoch 28/100\n",
            "2246/2246 [==============================] - 11s 5ms/step - loss: 0.4063 - acc: 0.9137 - val_loss: 2.6765 - val_acc: 0.6548\n",
            "Epoch 29/100\n",
            "2246/2246 [==============================] - 11s 5ms/step - loss: 0.3898 - acc: 0.9183 - val_loss: 2.7023 - val_acc: 0.6567\n",
            "Epoch 30/100\n",
            "2246/2246 [==============================] - 11s 5ms/step - loss: 0.3753 - acc: 0.9221 - val_loss: 2.7051 - val_acc: 0.6534\n",
            "Epoch 31/100\n",
            "2246/2246 [==============================] - 11s 5ms/step - loss: 0.3591 - acc: 0.9260 - val_loss: 2.7284 - val_acc: 0.6549\n",
            "Epoch 32/100\n",
            "2246/2246 [==============================] - 11s 5ms/step - loss: 0.3447 - acc: 0.9285 - val_loss: 2.7165 - val_acc: 0.6518\n",
            "Epoch 33/100\n",
            "2246/2246 [==============================] - 11s 5ms/step - loss: 0.3290 - acc: 0.9328 - val_loss: 2.7281 - val_acc: 0.6550\n",
            "Epoch 34/100\n",
            "2246/2246 [==============================] - 11s 5ms/step - loss: 0.3164 - acc: 0.9344 - val_loss: 2.7510 - val_acc: 0.6559\n",
            "Epoch 35/100\n",
            "2246/2246 [==============================] - 11s 5ms/step - loss: 0.3033 - acc: 0.9386 - val_loss: 2.7485 - val_acc: 0.6551\n",
            "Epoch 36/100\n",
            "2246/2246 [==============================] - 11s 5ms/step - loss: 0.2911 - acc: 0.9409 - val_loss: 2.7450 - val_acc: 0.6540\n",
            "Epoch 37/100\n",
            "2246/2246 [==============================] - 11s 5ms/step - loss: 0.2765 - acc: 0.9447 - val_loss: 2.7480 - val_acc: 0.6563\n",
            "Epoch 38/100\n",
            "2246/2246 [==============================] - 11s 5ms/step - loss: 0.2649 - acc: 0.9474 - val_loss: 2.7487 - val_acc: 0.6553\n",
            "Epoch 39/100\n",
            "2246/2246 [==============================] - 11s 5ms/step - loss: 0.2536 - acc: 0.9496 - val_loss: 2.7545 - val_acc: 0.6547\n",
            "Epoch 40/100\n",
            "2246/2246 [==============================] - 11s 5ms/step - loss: 0.2417 - acc: 0.9531 - val_loss: 2.7791 - val_acc: 0.6561\n",
            "Epoch 41/100\n",
            "2246/2246 [==============================] - 11s 5ms/step - loss: 0.2312 - acc: 0.9547 - val_loss: 2.7568 - val_acc: 0.6549\n",
            "Epoch 42/100\n",
            "2246/2246 [==============================] - 11s 5ms/step - loss: 0.2211 - acc: 0.9572 - val_loss: 2.7911 - val_acc: 0.6558\n",
            "Epoch 43/100\n",
            "2246/2246 [==============================] - 11s 5ms/step - loss: 0.2129 - acc: 0.9586 - val_loss: 2.7964 - val_acc: 0.6558\n",
            "Epoch 44/100\n",
            "2246/2246 [==============================] - 11s 5ms/step - loss: 0.2005 - acc: 0.9616 - val_loss: 2.8227 - val_acc: 0.6562\n",
            "Epoch 45/100\n",
            "2246/2246 [==============================] - 11s 5ms/step - loss: 0.1914 - acc: 0.9635 - val_loss: 2.8059 - val_acc: 0.6554\n",
            "Epoch 46/100\n",
            "2246/2246 [==============================] - 11s 5ms/step - loss: 0.1819 - acc: 0.9661 - val_loss: 2.8171 - val_acc: 0.6562\n",
            "Epoch 47/100\n",
            "2246/2246 [==============================] - 11s 5ms/step - loss: 0.1742 - acc: 0.9675 - val_loss: 2.8235 - val_acc: 0.6540\n",
            "Epoch 48/100\n",
            "2246/2246 [==============================] - 11s 5ms/step - loss: 0.1659 - acc: 0.9700 - val_loss: 2.8365 - val_acc: 0.6564\n",
            "Epoch 49/100\n",
            "2246/2246 [==============================] - 11s 5ms/step - loss: 0.1557 - acc: 0.9723 - val_loss: 2.8390 - val_acc: 0.6523\n",
            "Epoch 50/100\n",
            "2246/2246 [==============================] - 11s 5ms/step - loss: 0.1496 - acc: 0.9734 - val_loss: 2.8180 - val_acc: 0.6547\n",
            "Epoch 51/100\n",
            "2246/2246 [==============================] - 11s 5ms/step - loss: 0.1420 - acc: 0.9747 - val_loss: 2.8469 - val_acc: 0.6556\n",
            "Epoch 52/100\n",
            "2246/2246 [==============================] - 11s 5ms/step - loss: 0.1347 - acc: 0.9758 - val_loss: 2.8578 - val_acc: 0.6536\n",
            "Epoch 53/100\n",
            "2246/2246 [==============================] - 11s 5ms/step - loss: 0.1281 - acc: 0.9779 - val_loss: 2.8658 - val_acc: 0.6547\n",
            "Epoch 54/100\n",
            "2246/2246 [==============================] - 11s 5ms/step - loss: 0.1214 - acc: 0.9785 - val_loss: 2.8883 - val_acc: 0.6535\n",
            "Epoch 55/100\n",
            "2246/2246 [==============================] - 11s 5ms/step - loss: 0.1162 - acc: 0.9795 - val_loss: 2.8813 - val_acc: 0.6558\n",
            "Epoch 56/100\n",
            "2246/2246 [==============================] - 11s 5ms/step - loss: 0.1113 - acc: 0.9805 - val_loss: 2.8882 - val_acc: 0.6564\n",
            "Epoch 57/100\n",
            "2246/2246 [==============================] - 11s 5ms/step - loss: 0.1053 - acc: 0.9821 - val_loss: 2.9034 - val_acc: 0.6549\n",
            "Epoch 58/100\n",
            "2246/2246 [==============================] - 11s 5ms/step - loss: 0.0987 - acc: 0.9836 - val_loss: 2.9122 - val_acc: 0.6570\n",
            "Epoch 59/100\n",
            "2246/2246 [==============================] - 11s 5ms/step - loss: 0.0942 - acc: 0.9835 - val_loss: 2.9348 - val_acc: 0.6541\n",
            "Epoch 60/100\n",
            "2246/2246 [==============================] - 11s 5ms/step - loss: 0.0902 - acc: 0.9841 - val_loss: 2.9409 - val_acc: 0.6541\n",
            "Epoch 61/100\n",
            "2246/2246 [==============================] - 11s 5ms/step - loss: 0.0851 - acc: 0.9853 - val_loss: 2.9430 - val_acc: 0.6564\n",
            "Epoch 62/100\n",
            "2246/2246 [==============================] - 11s 5ms/step - loss: 0.0823 - acc: 0.9856 - val_loss: 2.9518 - val_acc: 0.6560\n",
            "Epoch 63/100\n",
            "2246/2246 [==============================] - 11s 5ms/step - loss: 0.0774 - acc: 0.9866 - val_loss: 2.9469 - val_acc: 0.6551\n",
            "Epoch 64/100\n",
            "2246/2246 [==============================] - 11s 5ms/step - loss: 0.0736 - acc: 0.9875 - val_loss: 2.9575 - val_acc: 0.6554\n",
            "Epoch 65/100\n",
            "2246/2246 [==============================] - 11s 5ms/step - loss: 0.0693 - acc: 0.9884 - val_loss: 2.9680 - val_acc: 0.6545\n",
            "Epoch 66/100\n",
            "2246/2246 [==============================] - 11s 5ms/step - loss: 0.0660 - acc: 0.9889 - val_loss: 2.9646 - val_acc: 0.6547\n",
            "Epoch 67/100\n",
            "2246/2246 [==============================] - 11s 5ms/step - loss: 0.0625 - acc: 0.9894 - val_loss: 2.9994 - val_acc: 0.6562\n",
            "Epoch 68/100\n",
            "2246/2246 [==============================] - 11s 5ms/step - loss: 0.0598 - acc: 0.9894 - val_loss: 2.9811 - val_acc: 0.6545\n",
            "Epoch 69/100\n",
            "2246/2246 [==============================] - 11s 5ms/step - loss: 0.0574 - acc: 0.9900 - val_loss: 3.0523 - val_acc: 0.6550\n",
            "Epoch 70/100\n",
            "2246/2246 [==============================] - 11s 5ms/step - loss: 0.0540 - acc: 0.9900 - val_loss: 3.0040 - val_acc: 0.6578\n",
            "Epoch 71/100\n",
            "2246/2246 [==============================] - 11s 5ms/step - loss: 0.0524 - acc: 0.9903 - val_loss: 3.0178 - val_acc: 0.6552\n",
            "Epoch 72/100\n",
            "2246/2246 [==============================] - 11s 5ms/step - loss: 0.0491 - acc: 0.9912 - val_loss: 3.0685 - val_acc: 0.6537\n",
            "Epoch 73/100\n",
            "2246/2246 [==============================] - 10s 5ms/step - loss: 0.0472 - acc: 0.9915 - val_loss: 3.0210 - val_acc: 0.6564\n",
            "Epoch 74/100\n",
            "2246/2246 [==============================] - 11s 5ms/step - loss: 0.0439 - acc: 0.9918 - val_loss: 3.0319 - val_acc: 0.6545\n",
            "Epoch 75/100\n",
            "2246/2246 [==============================] - 11s 5ms/step - loss: 0.0420 - acc: 0.9924 - val_loss: 3.0513 - val_acc: 0.6559\n",
            "Epoch 76/100\n",
            "2246/2246 [==============================] - 11s 5ms/step - loss: 0.0404 - acc: 0.9923 - val_loss: 3.0685 - val_acc: 0.6559\n",
            "Epoch 77/100\n",
            "2246/2246 [==============================] - 11s 5ms/step - loss: 0.0381 - acc: 0.9929 - val_loss: 3.0504 - val_acc: 0.6536\n",
            "Epoch 78/100\n",
            "2246/2246 [==============================] - 11s 5ms/step - loss: 0.0377 - acc: 0.9930 - val_loss: 3.0729 - val_acc: 0.6547\n",
            "Epoch 79/100\n",
            "2246/2246 [==============================] - 11s 5ms/step - loss: 0.0349 - acc: 0.9931 - val_loss: 3.0859 - val_acc: 0.6564\n",
            "Epoch 80/100\n",
            "2246/2246 [==============================] - 11s 5ms/step - loss: 0.0337 - acc: 0.9932 - val_loss: 3.1204 - val_acc: 0.6547\n",
            "Epoch 81/100\n",
            "2246/2246 [==============================] - 11s 5ms/step - loss: 0.0325 - acc: 0.9938 - val_loss: 3.1260 - val_acc: 0.6521\n",
            "Epoch 82/100\n",
            "2246/2246 [==============================] - 11s 5ms/step - loss: 0.0319 - acc: 0.9935 - val_loss: 3.1107 - val_acc: 0.6560\n",
            "Epoch 83/100\n",
            "2246/2246 [==============================] - 11s 5ms/step - loss: 0.0304 - acc: 0.9936 - val_loss: 3.1153 - val_acc: 0.6558\n",
            "Epoch 84/100\n",
            "2246/2246 [==============================] - 11s 5ms/step - loss: 0.0294 - acc: 0.9936 - val_loss: 3.1522 - val_acc: 0.6558\n",
            "Epoch 85/100\n",
            "2246/2246 [==============================] - 11s 5ms/step - loss: 0.0276 - acc: 0.9941 - val_loss: 3.1322 - val_acc: 0.6562\n",
            "Epoch 86/100\n",
            "2246/2246 [==============================] - 11s 5ms/step - loss: 0.0277 - acc: 0.9934 - val_loss: 3.1281 - val_acc: 0.6556\n",
            "Epoch 87/100\n",
            "2246/2246 [==============================] - 11s 5ms/step - loss: 0.0258 - acc: 0.9938 - val_loss: 3.1293 - val_acc: 0.6554\n",
            "Epoch 88/100\n",
            "2246/2246 [==============================] - 11s 5ms/step - loss: 0.0251 - acc: 0.9939 - val_loss: 3.1566 - val_acc: 0.6551\n",
            "Epoch 89/100\n",
            "2246/2246 [==============================] - 11s 5ms/step - loss: 0.0237 - acc: 0.9944 - val_loss: 3.1418 - val_acc: 0.6533\n",
            "Epoch 90/100\n",
            "2246/2246 [==============================] - 11s 5ms/step - loss: 0.0238 - acc: 0.9945 - val_loss: 3.1694 - val_acc: 0.6564\n",
            "Epoch 91/100\n",
            "2246/2246 [==============================] - 11s 5ms/step - loss: 0.0225 - acc: 0.9945 - val_loss: 3.1711 - val_acc: 0.6554\n",
            "Epoch 92/100\n",
            "2246/2246 [==============================] - 11s 5ms/step - loss: 0.0221 - acc: 0.9946 - val_loss: 3.1787 - val_acc: 0.6554\n",
            "Epoch 93/100\n",
            "2246/2246 [==============================] - 11s 5ms/step - loss: 0.0221 - acc: 0.9942 - val_loss: 3.1826 - val_acc: 0.6580\n",
            "Epoch 94/100\n",
            "2246/2246 [==============================] - 11s 5ms/step - loss: 0.0208 - acc: 0.9945 - val_loss: 3.1905 - val_acc: 0.6556\n",
            "Epoch 95/100\n",
            "2246/2246 [==============================] - 11s 5ms/step - loss: 0.0204 - acc: 0.9945 - val_loss: 3.1844 - val_acc: 0.6552\n",
            "Epoch 96/100\n",
            "2246/2246 [==============================] - 11s 5ms/step - loss: 0.0195 - acc: 0.9947 - val_loss: 3.1861 - val_acc: 0.6570\n",
            "Epoch 97/100\n",
            "2246/2246 [==============================] - 11s 5ms/step - loss: 0.0194 - acc: 0.9948 - val_loss: 3.2040 - val_acc: 0.6540\n",
            "Epoch 98/100\n",
            "2246/2246 [==============================] - 11s 5ms/step - loss: 0.0186 - acc: 0.9947 - val_loss: 3.2180 - val_acc: 0.6549\n",
            "Epoch 99/100\n",
            "2246/2246 [==============================] - 11s 5ms/step - loss: 0.0176 - acc: 0.9949 - val_loss: 3.2136 - val_acc: 0.6548\n",
            "Epoch 100/100\n",
            "2246/2246 [==============================] - 11s 5ms/step - loss: 0.0183 - acc: 0.9947 - val_loss: 3.2316 - val_acc: 0.6545\n"
          ],
          "name": "stdout"
        }
      ]
    },
    {
      "cell_type": "code",
      "metadata": {
        "id": "CDCaDTUJi5e5",
        "colab_type": "code",
        "colab": {
          "base_uri": "https://localhost:8080/",
          "height": 521
        },
        "outputId": "53900300-3640-4965-884b-aba9c6613df9"
      },
      "source": [
        "# plot the results\n",
        "plt.plot(r.history['loss'],label='loss')\n",
        "plt.plot(r.history['val_loss'],label='val_loss')\n",
        "plt.legend()\n",
        "plt.show()\n",
        "\n",
        "plt.plot(r.history['acc'],label='acc')\n",
        "plt.plot(r.history['val_acc'],label='val_acc')\n",
        "plt.legend()\n",
        "plt.show()"
      ],
      "execution_count": 61,
      "outputs": [
        {
          "output_type": "display_data",
          "data": {
            "image/png": "[encoded data removed]",
            "text/plain": [
              "<Figure size 432x288 with 1 Axes>"
            ]
          },
          "metadata": {
            "tags": []
          }
        },
        {
          "output_type": "display_data",
          "data": {
            "image/png": "[encoded data removed]",
            "text/plain": [
              "<Figure size 432x288 with 1 Axes>"
            ]
          },
          "metadata": {
            "tags": []
          }
        }
      ]
    },
    {
      "cell_type": "code",
      "metadata": {
        "id": "iPC35tYpl0Oo",
        "colab_type": "code",
        "colab": {}
      },
      "source": [
        "## Make predictions\n",
        "encoder_model = Model(encoder_inputs_placeholder, encoder_outputs)\n",
        "\n",
        "# T=1 decoder model\n",
        "encoder_outputs_as_input = Input(shape=(max_len_input, LATENT_DIM*2))\n",
        "decoder_inputs_single = Input(shape=(1,))\n",
        "decoder_inputs_single_x = decoder_embedding(decoder_inputs_single)"
      ],
      "execution_count": 0,
      "outputs": []
    },
    {
      "cell_type": "code",
      "metadata": {
        "id": "pRXpj1GZnwTG",
        "colab_type": "code",
        "colab": {}
      },
      "source": [
        "context = one_step_attention(encoder_outputs_as_input, initial_s)\n",
        "decoder_lstm_input = context_last_word_concat_layer([context,decoder_inputs_single_x])"
      ],
      "execution_count": 0,
      "outputs": []
    },
    {
      "cell_type": "code",
      "metadata": {
        "id": "4Wr-uGFfoV5v",
        "colab_type": "code",
        "colab": {}
      },
      "source": [
        "o,s,c = decoder_lstm(decoder_lstm_input, initial_state=[initial_s,initial_c])\n",
        "decoder_outputs = decoder_dense(o)"
      ],
      "execution_count": 0,
      "outputs": []
    },
    {
      "cell_type": "code",
      "metadata": {
        "id": "D3JXMX35otjZ",
        "colab_type": "code",
        "colab": {}
      },
      "source": [
        "decoder_model = Model(inputs=[decoder_inputs_single,\n",
        "                              encoder_outputs_as_input,\n",
        "                              initial_s,\n",
        "                              initial_c],\n",
        "                      outputs=[decoder_outputs, s, c])"
      ],
      "execution_count": 0,
      "outputs": []
    },
    {
      "cell_type": "code",
      "metadata": {
        "id": "ktXoraJdpGvI",
        "colab_type": "code",
        "colab": {}
      },
      "source": [
        "# map indices back to real words\n",
        "idx2word_eng = {v:k for k,v in word2idx_inputs.items()}\n",
        "idx2word_trans = {v:k for k,v in word2idx_outputs.items()}"
      ],
      "execution_count": 0,
      "outputs": []
    },
    {
      "cell_type": "code",
      "metadata": {
        "id": "RJ0bezeipmAB",
        "colab_type": "code",
        "colab": {}
      },
      "source": [
        "def decode_sequence(input_seq):\n",
        "  enc_out = encoder_model.predict(input_seq)\n",
        "  \n",
        "  target_seq = np.zeros((1,1))\n",
        "  target_seq[0,0] = word2idx_outputs['<sos>']\n",
        "  \n",
        "  eos = word2idx_outputs['<eos>']\n",
        "  \n",
        "  s = np.zeros((1, LATENT_DIM_DECODER))\n",
        "  c = np.zeros((1, LATENT_DIM_DECODER))\n",
        "  \n",
        "  # creating the translation\n",
        "  output_sentence = []\n",
        "  for _ in range(max_len_target):\n",
        "    o,s,c = decoder_model.predict([target_seq, enc_out, s, c])\n",
        "    \n",
        "    idx = np.argmax(o.flatten())\n",
        "    \n",
        "    if eos==idx:\n",
        "      break\n",
        "      \n",
        "    word = ''\n",
        "    \n",
        "    if idx>0:\n",
        "      word = idx2word_trans[idx]\n",
        "      output_sentence.append(word)\n",
        "    \n",
        "    target_seq[0,0] = idx\n",
        "  \n",
        "  return ' '.join(output_sentence)"
      ],
      "execution_count": 0,
      "outputs": []
    },
    {
      "cell_type": "code",
      "metadata": {
        "id": "2liYiYbGrNBE",
        "colab_type": "code",
        "colab": {
          "base_uri": "https://localhost:8080/",
          "height": 72
        },
        "outputId": "b7dd37ca-7a27-4342-e539-975e5ae152d9"
      },
      "source": [
        "i = np.random.choice(len(input_texts))\n",
        "input_seq = encoder_inputs[i:i+1]\n",
        "translation = decode_sequence(input_seq)\n",
        "print('Input Sentence:',input_texts[i])\n",
        "print('Predicted Translation:',translation)"
      ],
      "execution_count": 73,
      "outputs": [
        {
          "output_type": "stream",
          "text": [
            "Input Sentence: I have a headache.\n",
            "Predicted Translation: मेरे सिर में दर्द हो रहा है।\n",
            "\n"
          ],
          "name": "stdout"
        }
      ]
    }
  ]
}