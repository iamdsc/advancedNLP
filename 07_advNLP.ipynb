{
  "nbformat": 4,
  "nbformat_minor": 0,
  "metadata": {
    "colab": {
      "name": "07_advNLP",
      "version": "0.3.2",
      "provenance": [],
      "collapsed_sections": [],
      "toc_visible": true,
      "machine_shape": "hm"
    },
    "kernelspec": {
      "name": "python3",
      "display_name": "Python 3"
    },
    "accelerator": "GPU"
  },
  "cells": [
    {
      "cell_type": "markdown",
      "metadata": {
        "id": "aLQQ-WLfTRzB",
        "colab_type": "text"
      },
      "source": [
        "### Twitter ChatBot using Attention"
      ]
    },
    {
      "cell_type": "code",
      "metadata": {
        "id": "QkYJ5snBS2cE",
        "colab_type": "code",
        "outputId": "462cbb77-ba3b-4e02-bb30-abe7c402dfbe",
        "colab": {
          "base_uri": "https://localhost:8080/",
          "height": 35
        }
      },
      "source": [
        "import os, sys\n",
        "import numpy as np\n",
        "import matplotlib.pyplot as plt\n",
        "from keras.models import Model\n",
        "from keras.layers import (Input,LSTM,GRU,Dense,\n",
        "                          Embedding,Bidirectional,RepeatVector,\n",
        "                          Concatenate,Activation,Dot,Lambda)\n",
        "from keras.preprocessing.text import Tokenizer\n",
        "from keras.preprocessing.sequence import pad_sequences\n",
        "import keras.backend as K"
      ],
      "execution_count": 1,
      "outputs": [
        {
          "output_type": "stream",
          "text": [
            "Using TensorFlow backend.\n"
          ],
          "name": "stderr"
        }
      ]
    },
    {
      "cell_type": "code",
      "metadata": {
        "id": "U375mCZTTX-x",
        "colab_type": "code",
        "colab": {}
      },
      "source": [
        "# function to do softmax over time\n",
        "def softmax_over_time(x):\n",
        "  assert(K.ndim(x) > 2)\n",
        "  e = K.exp(x - K.max(x, axis=1, keepdims=True))\n",
        "  s = K.sum(e, axis=1, keepdims=True)\n",
        "  return e/s"
      ],
      "execution_count": 0,
      "outputs": []
    },
    {
      "cell_type": "code",
      "metadata": {
        "id": "7lHUQxAcUsYy",
        "colab_type": "code",
        "colab": {}
      },
      "source": [
        "# config variables\n",
        "BATCH_SIZE = 64\n",
        "EPOCHS = 100\n",
        "LATENT_DIM = 256\n",
        "LATENT_DIM_DECODER = 256\n",
        "NUM_SAMPLES = 10000\n",
        "MAX_SEQUENCE_LENGTH = 100\n",
        "MAX_NUM_WORDS = 20000\n",
        "EMBEDDING_DIM = 100"
      ],
      "execution_count": 0,
      "outputs": []
    },
    {
      "cell_type": "code",
      "metadata": {
        "id": "da1kQMSZVQy9",
        "colab_type": "code",
        "colab": {}
      },
      "source": [
        "input_texts = [] # sentence in original language\n",
        "target_texts = [] # sentence in target language\n",
        "target_texts_inputs = [] # sentence in target language offset by 1"
      ],
      "execution_count": 0,
      "outputs": []
    },
    {
      "cell_type": "code",
      "metadata": {
        "id": "wAOS5AsrVXIN",
        "colab_type": "code",
        "outputId": "2f88b86e-cd61-42f1-f4c6-26db27964d1e",
        "colab": {
          "base_uri": "https://localhost:8080/",
          "height": 35
        }
      },
      "source": [
        "# load in the data\n",
        "t = 0\n",
        "for line in open('twitter_tab_format.txt'):\n",
        "  t+=1\n",
        "  if t>NUM_SAMPLES:\n",
        "    break\n",
        "  # input and target are seperated by '\\t'\n",
        "  if '\\t' not in line:\n",
        "    continue\n",
        "  input_text, translation = line.split('\\t')\n",
        "  target_text = translation + ' <eos>'\n",
        "  target_text_input = '<sos> ' + translation\n",
        "  input_texts.append(input_text)\n",
        "  target_texts.append(target_text)\n",
        "  target_texts_inputs.append(target_text_input)\n",
        "print('num samples:',len(input_texts))"
      ],
      "execution_count": 5,
      "outputs": [
        {
          "output_type": "stream",
          "text": [
            "num samples: 8490\n"
          ],
          "name": "stdout"
        }
      ]
    },
    {
      "cell_type": "code",
      "metadata": {
        "id": "OSiCip5bVz-F",
        "colab_type": "code",
        "colab": {}
      },
      "source": [
        "tokenizer_inputs = Tokenizer(num_words=MAX_NUM_WORDS)\n",
        "tokenizer_inputs.fit_on_texts(input_texts)\n",
        "input_sequences = tokenizer_inputs.texts_to_sequences(input_texts)"
      ],
      "execution_count": 0,
      "outputs": []
    },
    {
      "cell_type": "code",
      "metadata": {
        "id": "J_IvjfRyV_PJ",
        "colab_type": "code",
        "outputId": "7769496c-a3c3-43af-9f7b-511aef90026e",
        "colab": {
          "base_uri": "https://localhost:8080/",
          "height": 35
        }
      },
      "source": [
        "# word to index mapping for input language\n",
        "word2idx_inputs = tokenizer_inputs.word_index\n",
        "print('Found %s unique input tokens.'%len(word2idx_inputs))"
      ],
      "execution_count": 7,
      "outputs": [
        {
          "output_type": "stream",
          "text": [
            "Found 9908 unique input tokens.\n"
          ],
          "name": "stdout"
        }
      ]
    },
    {
      "cell_type": "code",
      "metadata": {
        "id": "1Tf9YwGRWhkp",
        "colab_type": "code",
        "colab": {}
      },
      "source": [
        "# max length input seq\n",
        "max_len_input = max(len(s) for s in input_sequences)"
      ],
      "execution_count": 0,
      "outputs": []
    },
    {
      "cell_type": "code",
      "metadata": {
        "id": "kYGKvDM7WCTn",
        "colab_type": "code",
        "colab": {}
      },
      "source": [
        "# tokenize the outputs\n",
        "tokenizer_outputs = Tokenizer(num_words=MAX_NUM_WORDS, filters='')\n",
        "tokenizer_outputs.fit_on_texts(target_texts + target_texts_inputs)\n",
        "target_sequences = tokenizer_outputs.texts_to_sequences(target_texts)\n",
        "target_sequences_inputs = tokenizer_outputs.texts_to_sequences(target_texts_inputs)"
      ],
      "execution_count": 0,
      "outputs": []
    },
    {
      "cell_type": "code",
      "metadata": {
        "id": "9Ic4lx7_WHWx",
        "colab_type": "code",
        "outputId": "b5c5e5c8-622f-415a-a0ff-e8cc8b90c5c6",
        "colab": {
          "base_uri": "https://localhost:8080/",
          "height": 35
        }
      },
      "source": [
        "# word to index mapping for output language\n",
        "word2idx_outputs = tokenizer_outputs.word_index\n",
        "print('Found %s unique output tokens.'%len(word2idx_outputs))"
      ],
      "execution_count": 10,
      "outputs": [
        {
          "output_type": "stream",
          "text": [
            "Found 14710 unique output tokens.\n"
          ],
          "name": "stdout"
        }
      ]
    },
    {
      "cell_type": "code",
      "metadata": {
        "id": "W0QuvS2EWKNi",
        "colab_type": "code",
        "colab": {}
      },
      "source": [
        "num_words_output = len(word2idx_outputs)+1\n",
        "# max length output seq\n",
        "max_len_target = max(len(s) for s in target_sequences)"
      ],
      "execution_count": 0,
      "outputs": []
    },
    {
      "cell_type": "code",
      "metadata": {
        "id": "u69mBx5CWUfZ",
        "colab_type": "code",
        "outputId": "05dc9de5-2c0b-4819-dfc8-c85e33bfa386",
        "colab": {
          "base_uri": "https://localhost:8080/",
          "height": 54
        }
      },
      "source": [
        "# padding the sequences\n",
        "encoder_inputs = pad_sequences(input_sequences, maxlen=max_len_input)\n",
        "print('Encoder data shape:',encoder_inputs.shape)\n",
        "\n",
        "decoder_inputs = pad_sequences(target_sequences_inputs, maxlen=max_len_target, padding='post')\n",
        "print('Decoder data shape:',decoder_inputs.shape)\n",
        "\n",
        "decoder_targets = pad_sequences(target_sequences, maxlen=max_len_target, padding='post')"
      ],
      "execution_count": 12,
      "outputs": [
        {
          "output_type": "stream",
          "text": [
            "Encoder data shape: (8490, 34)\n",
            "Decoder data shape: (8490, 33)\n"
          ],
          "name": "stdout"
        }
      ]
    },
    {
      "cell_type": "code",
      "metadata": {
        "id": "NaBGBku0WbC9",
        "colab_type": "code",
        "outputId": "e2ede2da-0428-4b18-8981-92db07171166",
        "colab": {
          "base_uri": "https://localhost:8080/",
          "height": 387
        }
      },
      "source": [
        "!wget http://nlp.stanford.edu/data/glove.6B.zip"
      ],
      "execution_count": 13,
      "outputs": [
        {
          "output_type": "stream",
          "text": [
            "--2019-08-11 05:50:26--  http://nlp.stanford.edu/data/glove.6B.zip\n",
            "Resolving nlp.stanford.edu (nlp.stanford.edu)... 171.64.67.140\n",
            "Connecting to nlp.stanford.edu (nlp.stanford.edu)|171.64.67.140|:80... connected.\n",
            "HTTP request sent, awaiting response... 302 Found\n",
            "Location: https://nlp.stanford.edu/data/glove.6B.zip [following]\n",
            "--2019-08-11 05:50:26--  https://nlp.stanford.edu/data/glove.6B.zip\n",
            "Connecting to nlp.stanford.edu (nlp.stanford.edu)|171.64.67.140|:443... connected.\n",
            "HTTP request sent, awaiting response... 301 Moved Permanently\n",
            "Location: http://downloads.cs.stanford.edu/nlp/data/glove.6B.zip [following]\n",
            "--2019-08-11 05:50:26--  http://downloads.cs.stanford.edu/nlp/data/glove.6B.zip\n",
            "Resolving downloads.cs.stanford.edu (downloads.cs.stanford.edu)... 171.64.64.22\n",
            "Connecting to downloads.cs.stanford.edu (downloads.cs.stanford.edu)|171.64.64.22|:80... connected.\n",
            "HTTP request sent, awaiting response... 200 OK\n",
            "Length: 862182613 (822M) [application/zip]\n",
            "Saving to: ‘glove.6B.zip’\n",
            "\n",
            "glove.6B.zip        100%[===================>] 822.24M  38.7MB/s    in 22s     \n",
            "\n",
            "2019-08-11 05:50:49 (36.7 MB/s) - ‘glove.6B.zip’ saved [862182613/862182613]\n",
            "\n"
          ],
          "name": "stdout"
        }
      ]
    },
    {
      "cell_type": "code",
      "metadata": {
        "id": "-4iaFwxWWpUC",
        "colab_type": "code",
        "outputId": "cd5d8ec3-f997-487d-eaa5-ee8419cb8718",
        "colab": {
          "base_uri": "https://localhost:8080/",
          "height": 109
        }
      },
      "source": [
        "!unzip glove.6B.zip"
      ],
      "execution_count": 14,
      "outputs": [
        {
          "output_type": "stream",
          "text": [
            "Archive:  glove.6B.zip\n",
            "  inflating: glove.6B.50d.txt        \n",
            "  inflating: glove.6B.100d.txt       \n",
            "  inflating: glove.6B.200d.txt       \n",
            "  inflating: glove.6B.300d.txt       \n"
          ],
          "name": "stdout"
        }
      ]
    },
    {
      "cell_type": "code",
      "metadata": {
        "id": "qA0cyMi0WrMr",
        "colab_type": "code",
        "outputId": "deb0c3bf-7dec-46d9-d02b-30a8ef4eee10",
        "colab": {
          "base_uri": "https://localhost:8080/",
          "height": 35
        }
      },
      "source": [
        "# loading pre-trained word vectors\n",
        "word2vec = {}\n",
        "with open('glove.6B.%sd.txt'%EMBEDDING_DIM) as f:\n",
        "  for line in f:\n",
        "    values = line.split()\n",
        "    word = values[0]\n",
        "    vec = np.asarray(values[1:],dtype='float32')\n",
        "    word2vec[word] = vec\n",
        "print('Found %s word vectors.'%len(word2vec))"
      ],
      "execution_count": 15,
      "outputs": [
        {
          "output_type": "stream",
          "text": [
            "Found 400000 word vectors.\n"
          ],
          "name": "stdout"
        }
      ]
    },
    {
      "cell_type": "code",
      "metadata": {
        "id": "NromsHVNWtO9",
        "colab_type": "code",
        "colab": {}
      },
      "source": [
        "# prepare embedding matrix\n",
        "num_words = min(MAX_NUM_WORDS, len(word2idx_inputs)+1)\n",
        "embedding_matrix = np.zeros((num_words, EMBEDDING_DIM))\n",
        "for word, i in word2idx_inputs.items():\n",
        "  if i < MAX_NUM_WORDS:\n",
        "    embedding_vector = word2vec.get(word)\n",
        "    if embedding_vector is not None:\n",
        "      embedding_matrix[i] = embedding_vector"
      ],
      "execution_count": 0,
      "outputs": []
    },
    {
      "cell_type": "code",
      "metadata": {
        "id": "FtseteWjWvRV",
        "colab_type": "code",
        "colab": {}
      },
      "source": [
        "# creating embedding layer\n",
        "embedding_layer = Embedding(num_words,\n",
        "                            EMBEDDING_DIM,\n",
        "                            weights=[embedding_matrix],\n",
        "                            input_length=max_len_input,\n",
        "                            trainable=False)"
      ],
      "execution_count": 0,
      "outputs": []
    },
    {
      "cell_type": "code",
      "metadata": {
        "id": "ytyd1E-5W-pM",
        "colab_type": "code",
        "colab": {}
      },
      "source": [
        "decoder_targets_one_hot = np.zeros((len(input_texts),\n",
        "                                   max_len_target,\n",
        "                                   num_words_output),dtype='float32')\n",
        "for i,d in enumerate(decoder_targets):\n",
        "  for t,word in enumerate(d):\n",
        "    decoder_targets_one_hot[i, t, word] = 1"
      ],
      "execution_count": 0,
      "outputs": []
    },
    {
      "cell_type": "code",
      "metadata": {
        "id": "tN-hJRNBXK55",
        "colab_type": "code",
        "colab": {}
      },
      "source": [
        "# build the model\n",
        "# setup the encoder\n",
        "encoder_inputs_placeholder = Input(shape=(max_len_input,))\n",
        "x = embedding_layer(encoder_inputs_placeholder)\n",
        "encoder = Bidirectional(LSTM(LATENT_DIM, return_sequences=True, dropout=0.5))\n",
        "encoder_outputs = encoder(x)"
      ],
      "execution_count": 0,
      "outputs": []
    },
    {
      "cell_type": "code",
      "metadata": {
        "id": "ArYt6BpJYDIE",
        "colab_type": "code",
        "colab": {}
      },
      "source": [
        "# setup the decoder\n",
        "decoder_inputs_placeholder = Input(shape=(max_len_target,))\n",
        "decoder_embedding = Embedding(num_words_output, EMBEDDING_DIM)\n",
        "decoder_inputs_x = decoder_embedding(decoder_inputs_placeholder)"
      ],
      "execution_count": 0,
      "outputs": []
    },
    {
      "cell_type": "code",
      "metadata": {
        "id": "k279HGgRYviP",
        "colab_type": "code",
        "colab": {}
      },
      "source": [
        "# Attention layer\n",
        "attn_repeat_layer = RepeatVector(max_len_input)\n",
        "attn_concat_layer = Concatenate(axis=-1)\n",
        "attn_dense1 = Dense(10, activation='tanh')\n",
        "attn_dense2 = Dense(1, activation=softmax_over_time)\n",
        "attn_dot = Dot(axes=1)"
      ],
      "execution_count": 0,
      "outputs": []
    },
    {
      "cell_type": "code",
      "metadata": {
        "id": "NOjtFMZkZfnQ",
        "colab_type": "code",
        "colab": {}
      },
      "source": [
        "def one_step_attention(h, st_1):\n",
        "  # h = h(1), ..., h(Tx), shape = (Tx, LATENT_DIM * 2)\n",
        "  # st_1 = s(t-1), shape = (LATENT_DIM_DECODER,)\n",
        " \n",
        "  # copy s(t-1) Tx times\n",
        "  # now shape = (Tx, LATENT_DIM_DECODER)\n",
        "  st_1 = attn_repeat_layer(st_1)\n",
        "\n",
        "  # Concatenate all h(t)'s with s(t-1)\n",
        "  # Now of shape (Tx, LATENT_DIM_DECODER + LATENT_DIM * 2)\n",
        "  x = attn_concat_layer([h, st_1])\n",
        "\n",
        "  # Neural net first layer\n",
        "  x = attn_dense1(x)\n",
        "\n",
        "  # Neural net second layer with special softmax over time\n",
        "  alphas = attn_dense2(x)\n",
        "\n",
        "  # \"Dot\" the alphas and the h's\n",
        "  # Remember a.dot(b) = sum over a[t] * b[t]\n",
        "  context = attn_dot([alphas, h])\n",
        "\n",
        "  return context"
      ],
      "execution_count": 0,
      "outputs": []
    },
    {
      "cell_type": "code",
      "metadata": {
        "id": "7ZMlCt7LbK2Q",
        "colab_type": "code",
        "colab": {}
      },
      "source": [
        "# decoder after attention\n",
        "decoder_lstm = LSTM(LATENT_DIM_DECODER, return_state=True)\n",
        "decoder_dense = Dense(num_words_output, activation='softmax')"
      ],
      "execution_count": 0,
      "outputs": []
    },
    {
      "cell_type": "code",
      "metadata": {
        "id": "Auai03zdb_ns",
        "colab_type": "code",
        "colab": {}
      },
      "source": [
        "initial_s = Input(shape=(LATENT_DIM_DECODER,), name='s0')\n",
        "initial_c = Input(shape=(LATENT_DIM_DECODER,), name='c0')\n",
        "context_last_word_concat_layer = Concatenate(axis=2)"
      ],
      "execution_count": 0,
      "outputs": []
    },
    {
      "cell_type": "code",
      "metadata": {
        "id": "KClaJ0HMcd6n",
        "colab_type": "code",
        "colab": {}
      },
      "source": [
        "# s, c will be re-assigned in each iteration of the loop\n",
        "s = initial_s\n",
        "c = initial_c\n",
        "\n",
        "# collect outputs in a list at first\n",
        "outputs = []\n",
        "for t in range(max_len_target): # Ty times\n",
        "  # get the context using attention\n",
        "  context = one_step_attention(encoder_outputs, s)\n",
        "\n",
        "  # we need a different layer for each time step\n",
        "  selector = Lambda(lambda x: x[:, t:t+1])\n",
        "  xt = selector(decoder_inputs_x)\n",
        "  \n",
        "  # combine \n",
        "  decoder_lstm_input = context_last_word_concat_layer([context, xt])\n",
        "\n",
        "  # pass the combined [context, last word] into the LSTM\n",
        "  # along with [s, c]\n",
        "  # get the new [s, c] and output\n",
        "  o, s, c = decoder_lstm(decoder_lstm_input, initial_state=[s, c])\n",
        "\n",
        "  # final dense layer to get next word prediction\n",
        "  decoder_outputs = decoder_dense(o)\n",
        "  outputs.append(decoder_outputs)"
      ],
      "execution_count": 0,
      "outputs": []
    },
    {
      "cell_type": "code",
      "metadata": {
        "id": "MsGmlxp3d_95",
        "colab_type": "code",
        "colab": {}
      },
      "source": [
        "# 'outputs' is now a list of length Ty\n",
        "# each element is of shape [batch_size, output_vocab_size]\n",
        "# therefore if we simply stack all the outputs into 1 tensor\n",
        "# it would be of shape TxNxD\n",
        "# we would like it to be of shape NxTxD\n",
        "\n",
        "# so we stack and transpose\n",
        "def stack_and_transpose(x):\n",
        "  x = K.stack(x)\n",
        "  x = K.permute_dimensions(x, pattern=(1, 0, 2))\n",
        "  return x"
      ],
      "execution_count": 0,
      "outputs": []
    },
    {
      "cell_type": "code",
      "metadata": {
        "id": "BamvKMJ1hh0G",
        "colab_type": "code",
        "colab": {}
      },
      "source": [
        "# making it a layer\n",
        "stacker = Lambda(stack_and_transpose)\n",
        "outputs = stacker(outputs)"
      ],
      "execution_count": 0,
      "outputs": []
    },
    {
      "cell_type": "code",
      "metadata": {
        "id": "aB1tfVUyhsin",
        "colab_type": "code",
        "colab": {}
      },
      "source": [
        "# create the model\n",
        "model = Model(inputs=[encoder_inputs_placeholder,\n",
        "                      decoder_inputs_placeholder,\n",
        "                      initial_s,\n",
        "                      initial_c],\n",
        "              outputs=outputs)"
      ],
      "execution_count": 0,
      "outputs": []
    },
    {
      "cell_type": "code",
      "metadata": {
        "id": "caxYrtTUh-i9",
        "colab_type": "code",
        "colab": {}
      },
      "source": [
        "# compile the model\n",
        "model.compile(optimizer='rmsprop',loss='categorical_crossentropy',\n",
        "              metrics=['accuracy'])"
      ],
      "execution_count": 0,
      "outputs": []
    },
    {
      "cell_type": "code",
      "metadata": {
        "id": "v9IC1ildigpW",
        "colab_type": "code",
        "outputId": "596892a2-d578-44b7-d837-fba00d3b3ed9",
        "colab": {
          "base_uri": "https://localhost:8080/",
          "height": 1000
        }
      },
      "source": [
        "z = np.zeros((len(encoder_inputs), LATENT_DIM_DECODER)) # initial [s, c]\n",
        "r = model.fit(\n",
        "  [encoder_inputs, decoder_inputs, z, z], decoder_targets_one_hot,\n",
        "  batch_size=BATCH_SIZE,\n",
        "  epochs=EPOCHS,\n",
        "  validation_split=0.2\n",
        ")"
      ],
      "execution_count": 30,
      "outputs": [
        {
          "output_type": "stream",
          "text": [
            "W0811 05:51:44.933322 139707741038464 deprecation.py:323] From /usr/local/lib/python3.6/dist-packages/tensorflow/python/ops/math_grad.py:1250: add_dispatch_support.<locals>.wrapper (from tensorflow.python.ops.array_ops) is deprecated and will be removed in a future version.\n",
            "Instructions for updating:\n",
            "Use tf.where in 2.0, which has the same broadcast rule as np.where\n"
          ],
          "name": "stderr"
        },
        {
          "output_type": "stream",
          "text": [
            "Train on 6792 samples, validate on 1698 samples\n",
            "Epoch 1/100\n",
            "6792/6792 [==============================] - 87s 13ms/step - loss: 3.0437 - acc: 0.6590 - val_loss: 2.6211 - val_acc: 0.6495\n",
            "Epoch 2/100\n",
            "6792/6792 [==============================] - 58s 9ms/step - loss: 2.3126 - acc: 0.6971 - val_loss: 2.5146 - val_acc: 0.6830\n",
            "Epoch 3/100\n",
            "6792/6792 [==============================] - 58s 8ms/step - loss: 2.1893 - acc: 0.7059 - val_loss: 2.4055 - val_acc: 0.6892\n",
            "Epoch 4/100\n",
            "6792/6792 [==============================] - 57s 8ms/step - loss: 2.1154 - acc: 0.7099 - val_loss: 2.3708 - val_acc: 0.6897\n",
            "Epoch 5/100\n",
            "6792/6792 [==============================] - 57s 8ms/step - loss: 2.0628 - acc: 0.7128 - val_loss: 2.3622 - val_acc: 0.6918\n",
            "Epoch 6/100\n",
            "6792/6792 [==============================] - 57s 8ms/step - loss: 2.0171 - acc: 0.7152 - val_loss: 2.3410 - val_acc: 0.6923\n",
            "Epoch 7/100\n",
            "6792/6792 [==============================] - 57s 8ms/step - loss: 1.9743 - acc: 0.7173 - val_loss: 2.3487 - val_acc: 0.6936\n",
            "Epoch 8/100\n",
            "6792/6792 [==============================] - 57s 8ms/step - loss: 1.9344 - acc: 0.7189 - val_loss: 2.3261 - val_acc: 0.6948\n",
            "Epoch 9/100\n",
            "6792/6792 [==============================] - 57s 8ms/step - loss: 1.8949 - acc: 0.7206 - val_loss: 2.3266 - val_acc: 0.6940\n",
            "Epoch 10/100\n",
            "6792/6792 [==============================] - 57s 8ms/step - loss: 1.8538 - acc: 0.7223 - val_loss: 2.3203 - val_acc: 0.6930\n",
            "Epoch 11/100\n",
            "6792/6792 [==============================] - 57s 8ms/step - loss: 1.8126 - acc: 0.7238 - val_loss: 2.3172 - val_acc: 0.6949\n",
            "Epoch 12/100\n",
            "6792/6792 [==============================] - 57s 8ms/step - loss: 1.7724 - acc: 0.7256 - val_loss: 2.3080 - val_acc: 0.6953\n",
            "Epoch 13/100\n",
            "6792/6792 [==============================] - 57s 8ms/step - loss: 1.7310 - acc: 0.7280 - val_loss: 2.3139 - val_acc: 0.6933\n",
            "Epoch 14/100\n",
            "6792/6792 [==============================] - 57s 8ms/step - loss: 1.6954 - acc: 0.7298 - val_loss: 2.3227 - val_acc: 0.6936\n",
            "Epoch 15/100\n",
            "6792/6792 [==============================] - 57s 8ms/step - loss: 1.6634 - acc: 0.7323 - val_loss: 2.3281 - val_acc: 0.6931\n",
            "Epoch 16/100\n",
            "6792/6792 [==============================] - 57s 8ms/step - loss: 1.6332 - acc: 0.7348 - val_loss: 2.3268 - val_acc: 0.6935\n",
            "Epoch 17/100\n",
            "6792/6792 [==============================] - 57s 8ms/step - loss: 1.6039 - acc: 0.7376 - val_loss: 2.3190 - val_acc: 0.6937\n",
            "Epoch 18/100\n",
            "6792/6792 [==============================] - 57s 8ms/step - loss: 1.5730 - acc: 0.7403 - val_loss: 2.3355 - val_acc: 0.6939\n",
            "Epoch 19/100\n",
            "6792/6792 [==============================] - 57s 8ms/step - loss: 1.5456 - acc: 0.7429 - val_loss: 2.3344 - val_acc: 0.6936\n",
            "Epoch 20/100\n",
            "6792/6792 [==============================] - 57s 8ms/step - loss: 1.5167 - acc: 0.7454 - val_loss: 2.3565 - val_acc: 0.6927\n",
            "Epoch 21/100\n",
            "6792/6792 [==============================] - 57s 8ms/step - loss: 1.4869 - acc: 0.7488 - val_loss: 2.3491 - val_acc: 0.6937\n",
            "Epoch 22/100\n",
            "6792/6792 [==============================] - 57s 8ms/step - loss: 1.4601 - acc: 0.7518 - val_loss: 2.3503 - val_acc: 0.6940\n",
            "Epoch 23/100\n",
            "6792/6792 [==============================] - 57s 8ms/step - loss: 1.4302 - acc: 0.7554 - val_loss: 2.3597 - val_acc: 0.6950\n",
            "Epoch 24/100\n",
            "6792/6792 [==============================] - 57s 8ms/step - loss: 1.4001 - acc: 0.7588 - val_loss: 2.3500 - val_acc: 0.6968\n",
            "Epoch 25/100\n",
            "6792/6792 [==============================] - 56s 8ms/step - loss: 1.3701 - acc: 0.7621 - val_loss: 2.3658 - val_acc: 0.6964\n",
            "Epoch 26/100\n",
            "6792/6792 [==============================] - 57s 8ms/step - loss: 1.3415 - acc: 0.7659 - val_loss: 2.3557 - val_acc: 0.6972\n",
            "Epoch 27/100\n",
            "6792/6792 [==============================] - 56s 8ms/step - loss: 1.3161 - acc: 0.7684 - val_loss: 2.3686 - val_acc: 0.6978\n",
            "Epoch 28/100\n",
            "6792/6792 [==============================] - 57s 8ms/step - loss: 1.2926 - acc: 0.7723 - val_loss: 2.3638 - val_acc: 0.6987\n",
            "Epoch 29/100\n",
            "6792/6792 [==============================] - 56s 8ms/step - loss: 1.2694 - acc: 0.7752 - val_loss: 2.3872 - val_acc: 0.6991\n",
            "Epoch 30/100\n",
            "6792/6792 [==============================] - 56s 8ms/step - loss: 1.2463 - acc: 0.7783 - val_loss: 2.3876 - val_acc: 0.6982\n",
            "Epoch 31/100\n",
            "6792/6792 [==============================] - 56s 8ms/step - loss: 1.2234 - acc: 0.7815 - val_loss: 2.3947 - val_acc: 0.6990\n",
            "Epoch 32/100\n",
            "6792/6792 [==============================] - 56s 8ms/step - loss: 1.2002 - acc: 0.7846 - val_loss: 2.3963 - val_acc: 0.7002\n",
            "Epoch 33/100\n",
            "6792/6792 [==============================] - 56s 8ms/step - loss: 1.1737 - acc: 0.7885 - val_loss: 2.3992 - val_acc: 0.7013\n",
            "Epoch 34/100\n",
            "6792/6792 [==============================] - 57s 8ms/step - loss: 1.1449 - acc: 0.7930 - val_loss: 2.4222 - val_acc: 0.7009\n",
            "Epoch 35/100\n",
            "6792/6792 [==============================] - 56s 8ms/step - loss: 1.1232 - acc: 0.7960 - val_loss: 2.4257 - val_acc: 0.7018\n",
            "Epoch 36/100\n",
            "6792/6792 [==============================] - 56s 8ms/step - loss: 1.1018 - acc: 0.7996 - val_loss: 2.4205 - val_acc: 0.7034\n",
            "Epoch 37/100\n",
            "6792/6792 [==============================] - 56s 8ms/step - loss: 1.0738 - acc: 0.8041 - val_loss: 2.4420 - val_acc: 0.7025\n",
            "Epoch 38/100\n",
            "6792/6792 [==============================] - 56s 8ms/step - loss: 1.0489 - acc: 0.8088 - val_loss: 2.4348 - val_acc: 0.7043\n",
            "Epoch 39/100\n",
            "6792/6792 [==============================] - 56s 8ms/step - loss: 1.0277 - acc: 0.8122 - val_loss: 2.4377 - val_acc: 0.7052\n",
            "Epoch 40/100\n",
            "6792/6792 [==============================] - 56s 8ms/step - loss: 1.0070 - acc: 0.8160 - val_loss: 2.4448 - val_acc: 0.7057\n",
            "Epoch 41/100\n",
            "6792/6792 [==============================] - 55s 8ms/step - loss: 0.9903 - acc: 0.8187 - val_loss: 2.4497 - val_acc: 0.7067\n",
            "Epoch 42/100\n",
            "6792/6792 [==============================] - 56s 8ms/step - loss: 0.9708 - acc: 0.8226 - val_loss: 2.4674 - val_acc: 0.7055\n",
            "Epoch 43/100\n",
            "6792/6792 [==============================] - 56s 8ms/step - loss: 0.9546 - acc: 0.8248 - val_loss: 2.4679 - val_acc: 0.7071\n",
            "Epoch 44/100\n",
            "6792/6792 [==============================] - 56s 8ms/step - loss: 0.9367 - acc: 0.8276 - val_loss: 2.4666 - val_acc: 0.7083\n",
            "Epoch 45/100\n",
            "6792/6792 [==============================] - 56s 8ms/step - loss: 0.9195 - acc: 0.8312 - val_loss: 2.4725 - val_acc: 0.7074\n",
            "Epoch 46/100\n",
            "6792/6792 [==============================] - 56s 8ms/step - loss: 0.8964 - acc: 0.8357 - val_loss: 2.4859 - val_acc: 0.7107\n",
            "Epoch 47/100\n",
            "6792/6792 [==============================] - 56s 8ms/step - loss: 0.8739 - acc: 0.8401 - val_loss: 2.4866 - val_acc: 0.7107\n",
            "Epoch 48/100\n",
            "6792/6792 [==============================] - 56s 8ms/step - loss: 0.8547 - acc: 0.8434 - val_loss: 2.4908 - val_acc: 0.7124\n",
            "Epoch 49/100\n",
            "6792/6792 [==============================] - 56s 8ms/step - loss: 0.8366 - acc: 0.8473 - val_loss: 2.4913 - val_acc: 0.7118\n",
            "Epoch 50/100\n",
            "6792/6792 [==============================] - 56s 8ms/step - loss: 0.8194 - acc: 0.8506 - val_loss: 2.5050 - val_acc: 0.7143\n",
            "Epoch 51/100\n",
            "6792/6792 [==============================] - 56s 8ms/step - loss: 0.8031 - acc: 0.8537 - val_loss: 2.5032 - val_acc: 0.7143\n",
            "Epoch 52/100\n",
            "6792/6792 [==============================] - 56s 8ms/step - loss: 0.7871 - acc: 0.8571 - val_loss: 2.5176 - val_acc: 0.7149\n",
            "Epoch 53/100\n",
            "6792/6792 [==============================] - 55s 8ms/step - loss: 0.7713 - acc: 0.8604 - val_loss: 2.5207 - val_acc: 0.7147\n",
            "Epoch 54/100\n",
            "6792/6792 [==============================] - 56s 8ms/step - loss: 0.7571 - acc: 0.8638 - val_loss: 2.5199 - val_acc: 0.7142\n",
            "Epoch 55/100\n",
            "6792/6792 [==============================] - 56s 8ms/step - loss: 0.7402 - acc: 0.8670 - val_loss: 2.5207 - val_acc: 0.7165\n",
            "Epoch 56/100\n",
            "6792/6792 [==============================] - 56s 8ms/step - loss: 0.7214 - acc: 0.8712 - val_loss: 2.5330 - val_acc: 0.7158\n",
            "Epoch 57/100\n",
            "6792/6792 [==============================] - 56s 8ms/step - loss: 0.7068 - acc: 0.8743 - val_loss: 2.5285 - val_acc: 0.7165\n",
            "Epoch 58/100\n",
            "6792/6792 [==============================] - 55s 8ms/step - loss: 0.6921 - acc: 0.8770 - val_loss: 2.5438 - val_acc: 0.7181\n",
            "Epoch 59/100\n",
            "6792/6792 [==============================] - 55s 8ms/step - loss: 0.6793 - acc: 0.8795 - val_loss: 2.5411 - val_acc: 0.7176\n",
            "Epoch 60/100\n",
            "6792/6792 [==============================] - 55s 8ms/step - loss: 0.6683 - acc: 0.8808 - val_loss: 2.5577 - val_acc: 0.7174\n",
            "Epoch 61/100\n",
            "6792/6792 [==============================] - 55s 8ms/step - loss: 0.6553 - acc: 0.8841 - val_loss: 2.5428 - val_acc: 0.7202\n",
            "Epoch 62/100\n",
            "6792/6792 [==============================] - 56s 8ms/step - loss: 0.6461 - acc: 0.8850 - val_loss: 2.5453 - val_acc: 0.7195\n",
            "Epoch 63/100\n",
            "6792/6792 [==============================] - 56s 8ms/step - loss: 0.6326 - acc: 0.8888 - val_loss: 2.5582 - val_acc: 0.7200\n",
            "Epoch 64/100\n",
            "6792/6792 [==============================] - 55s 8ms/step - loss: 0.6215 - acc: 0.8903 - val_loss: 2.5563 - val_acc: 0.7207\n",
            "Epoch 65/100\n",
            "6792/6792 [==============================] - 55s 8ms/step - loss: 0.6099 - acc: 0.8925 - val_loss: 2.5622 - val_acc: 0.7212\n",
            "Epoch 66/100\n",
            "6792/6792 [==============================] - 55s 8ms/step - loss: 0.5990 - acc: 0.8951 - val_loss: 2.5683 - val_acc: 0.7226\n",
            "Epoch 67/100\n",
            "6792/6792 [==============================] - 56s 8ms/step - loss: 0.5861 - acc: 0.8978 - val_loss: 2.5724 - val_acc: 0.7220\n",
            "Epoch 68/100\n",
            "6792/6792 [==============================] - 55s 8ms/step - loss: 0.5760 - acc: 0.9000 - val_loss: 2.5652 - val_acc: 0.7227\n",
            "Epoch 69/100\n",
            "6792/6792 [==============================] - 55s 8ms/step - loss: 0.5651 - acc: 0.9018 - val_loss: 2.5821 - val_acc: 0.7231\n",
            "Epoch 70/100\n",
            "6792/6792 [==============================] - 55s 8ms/step - loss: 0.5528 - acc: 0.9040 - val_loss: 2.5790 - val_acc: 0.7232\n",
            "Epoch 71/100\n",
            "6792/6792 [==============================] - 55s 8ms/step - loss: 0.5428 - acc: 0.9059 - val_loss: 2.5770 - val_acc: 0.7242\n",
            "Epoch 72/100\n",
            "6792/6792 [==============================] - 55s 8ms/step - loss: 0.5307 - acc: 0.9085 - val_loss: 2.5936 - val_acc: 0.7225\n",
            "Epoch 73/100\n",
            "6792/6792 [==============================] - 56s 8ms/step - loss: 0.5199 - acc: 0.9106 - val_loss: 2.5901 - val_acc: 0.7244\n",
            "Epoch 74/100\n",
            "6792/6792 [==============================] - 56s 8ms/step - loss: 0.5103 - acc: 0.9126 - val_loss: 2.5929 - val_acc: 0.7256\n",
            "Epoch 75/100\n",
            "6792/6792 [==============================] - 56s 8ms/step - loss: 0.4988 - acc: 0.9151 - val_loss: 2.5982 - val_acc: 0.7251\n",
            "Epoch 76/100\n",
            "6792/6792 [==============================] - 56s 8ms/step - loss: 0.4897 - acc: 0.9172 - val_loss: 2.6129 - val_acc: 0.7252\n",
            "Epoch 77/100\n",
            "6792/6792 [==============================] - 56s 8ms/step - loss: 0.4773 - acc: 0.9198 - val_loss: 2.6091 - val_acc: 0.7263\n",
            "Epoch 78/100\n",
            "6792/6792 [==============================] - 56s 8ms/step - loss: 0.4663 - acc: 0.9215 - val_loss: 2.6115 - val_acc: 0.7262\n",
            "Epoch 79/100\n",
            "6792/6792 [==============================] - 56s 8ms/step - loss: 0.4523 - acc: 0.9248 - val_loss: 2.6140 - val_acc: 0.7265\n",
            "Epoch 80/100\n",
            "6792/6792 [==============================] - 56s 8ms/step - loss: 0.4439 - acc: 0.9262 - val_loss: 2.6203 - val_acc: 0.7283\n",
            "Epoch 81/100\n",
            "6792/6792 [==============================] - 55s 8ms/step - loss: 0.4319 - acc: 0.9289 - val_loss: 2.6347 - val_acc: 0.7277\n",
            "Epoch 82/100\n",
            "6792/6792 [==============================] - 55s 8ms/step - loss: 0.4241 - acc: 0.9304 - val_loss: 2.6317 - val_acc: 0.7279\n",
            "Epoch 83/100\n",
            "6792/6792 [==============================] - 55s 8ms/step - loss: 0.4144 - acc: 0.9320 - val_loss: 2.6372 - val_acc: 0.7287\n",
            "Epoch 84/100\n",
            "6792/6792 [==============================] - 55s 8ms/step - loss: 0.4057 - acc: 0.9340 - val_loss: 2.6379 - val_acc: 0.7281\n",
            "Epoch 85/100\n",
            "6792/6792 [==============================] - 55s 8ms/step - loss: 0.3972 - acc: 0.9354 - val_loss: 2.6396 - val_acc: 0.7292\n",
            "Epoch 86/100\n",
            "6792/6792 [==============================] - 55s 8ms/step - loss: 0.3893 - acc: 0.9370 - val_loss: 2.6446 - val_acc: 0.7292\n",
            "Epoch 87/100\n",
            "6792/6792 [==============================] - 55s 8ms/step - loss: 0.3803 - acc: 0.9386 - val_loss: 2.6379 - val_acc: 0.7298\n",
            "Epoch 88/100\n",
            "6792/6792 [==============================] - 55s 8ms/step - loss: 0.3736 - acc: 0.9404 - val_loss: 2.6573 - val_acc: 0.7299\n",
            "Epoch 89/100\n",
            "6792/6792 [==============================] - 55s 8ms/step - loss: 0.3662 - acc: 0.9413 - val_loss: 2.6549 - val_acc: 0.7300\n",
            "Epoch 90/100\n",
            "6792/6792 [==============================] - 56s 8ms/step - loss: 0.3590 - acc: 0.9427 - val_loss: 2.6678 - val_acc: 0.7301\n",
            "Epoch 91/100\n",
            "6792/6792 [==============================] - 55s 8ms/step - loss: 0.3517 - acc: 0.9443 - val_loss: 2.6681 - val_acc: 0.7298\n",
            "Epoch 92/100\n",
            "6792/6792 [==============================] - 55s 8ms/step - loss: 0.3438 - acc: 0.9454 - val_loss: 2.6776 - val_acc: 0.7307\n",
            "Epoch 93/100\n",
            "6792/6792 [==============================] - 55s 8ms/step - loss: 0.3363 - acc: 0.9474 - val_loss: 2.6786 - val_acc: 0.7307\n",
            "Epoch 94/100\n",
            "6792/6792 [==============================] - 55s 8ms/step - loss: 0.3302 - acc: 0.9484 - val_loss: 2.6763 - val_acc: 0.7309\n",
            "Epoch 95/100\n",
            "6792/6792 [==============================] - 55s 8ms/step - loss: 0.3227 - acc: 0.9495 - val_loss: 2.6728 - val_acc: 0.7317\n",
            "Epoch 96/100\n",
            "6792/6792 [==============================] - 55s 8ms/step - loss: 0.3175 - acc: 0.9502 - val_loss: 2.6904 - val_acc: 0.7310\n",
            "Epoch 97/100\n",
            "6792/6792 [==============================] - 55s 8ms/step - loss: 0.3099 - acc: 0.9521 - val_loss: 2.6978 - val_acc: 0.7308\n",
            "Epoch 98/100\n",
            "6792/6792 [==============================] - 55s 8ms/step - loss: 0.3031 - acc: 0.9531 - val_loss: 2.6991 - val_acc: 0.7318\n",
            "Epoch 99/100\n",
            "6792/6792 [==============================] - 55s 8ms/step - loss: 0.2960 - acc: 0.9541 - val_loss: 2.7035 - val_acc: 0.7321\n",
            "Epoch 100/100\n",
            "6792/6792 [==============================] - 55s 8ms/step - loss: 0.2904 - acc: 0.9556 - val_loss: 2.7117 - val_acc: 0.7319\n"
          ],
          "name": "stdout"
        }
      ]
    },
    {
      "cell_type": "code",
      "metadata": {
        "id": "CDCaDTUJi5e5",
        "colab_type": "code",
        "outputId": "759d4798-4a10-4114-d7fa-1ba17e05303b",
        "colab": {
          "base_uri": "https://localhost:8080/",
          "height": 521
        }
      },
      "source": [
        "# plot the results\n",
        "plt.plot(r.history['loss'],label='loss')\n",
        "plt.plot(r.history['val_loss'],label='val_loss')\n",
        "plt.legend()\n",
        "plt.show()\n",
        "\n",
        "plt.plot(r.history['acc'],label='acc')\n",
        "plt.plot(r.history['val_acc'],label='val_acc')\n",
        "plt.legend()\n",
        "plt.show()"
      ],
      "execution_count": 31,
      "outputs": [
        {
          "output_type": "display_data",
          "data": {
            "image/png": "[encoded data removed]",
            "text/plain": [
              "<Figure size 432x288 with 1 Axes>"
            ]
          },
          "metadata": {
            "tags": []
          }
        },
        {
          "output_type": "display_data",
          "data": {
            "image/png": "[encoded data removed]",
            "text/plain": [
              "<Figure size 432x288 with 1 Axes>"
            ]
          },
          "metadata": {
            "tags": []
          }
        }
      ]
    },
    {
      "cell_type": "code",
      "metadata": {
        "id": "iPC35tYpl0Oo",
        "colab_type": "code",
        "colab": {}
      },
      "source": [
        "## Make predictions\n",
        "encoder_model = Model(encoder_inputs_placeholder, encoder_outputs)\n",
        "\n",
        "# T=1 decoder model\n",
        "encoder_outputs_as_input = Input(shape=(max_len_input, LATENT_DIM*2))\n",
        "decoder_inputs_single = Input(shape=(1,))\n",
        "decoder_inputs_single_x = decoder_embedding(decoder_inputs_single)"
      ],
      "execution_count": 0,
      "outputs": []
    },
    {
      "cell_type": "code",
      "metadata": {
        "id": "pRXpj1GZnwTG",
        "colab_type": "code",
        "colab": {}
      },
      "source": [
        "context = one_step_attention(encoder_outputs_as_input, initial_s)\n",
        "decoder_lstm_input = context_last_word_concat_layer([context,decoder_inputs_single_x])"
      ],
      "execution_count": 0,
      "outputs": []
    },
    {
      "cell_type": "code",
      "metadata": {
        "id": "4Wr-uGFfoV5v",
        "colab_type": "code",
        "colab": {}
      },
      "source": [
        "o,s,c = decoder_lstm(decoder_lstm_input, initial_state=[initial_s,initial_c])\n",
        "decoder_outputs = decoder_dense(o)"
      ],
      "execution_count": 0,
      "outputs": []
    },
    {
      "cell_type": "code",
      "metadata": {
        "id": "D3JXMX35otjZ",
        "colab_type": "code",
        "colab": {}
      },
      "source": [
        "decoder_model = Model(inputs=[decoder_inputs_single,\n",
        "                              encoder_outputs_as_input,\n",
        "                              initial_s,\n",
        "                              initial_c],\n",
        "                      outputs=[decoder_outputs, s, c])"
      ],
      "execution_count": 0,
      "outputs": []
    },
    {
      "cell_type": "code",
      "metadata": {
        "id": "ktXoraJdpGvI",
        "colab_type": "code",
        "colab": {}
      },
      "source": [
        "# map indices back to real words\n",
        "idx2word_eng = {v:k for k,v in word2idx_inputs.items()}\n",
        "idx2word_trans = {v:k for k,v in word2idx_outputs.items()}"
      ],
      "execution_count": 0,
      "outputs": []
    },
    {
      "cell_type": "code",
      "metadata": {
        "id": "RJ0bezeipmAB",
        "colab_type": "code",
        "colab": {}
      },
      "source": [
        "def decode_sequence(input_seq):\n",
        "  enc_out = encoder_model.predict(input_seq)\n",
        "  \n",
        "  target_seq = np.zeros((1,1))\n",
        "  target_seq[0,0] = word2idx_outputs['<sos>']\n",
        "  \n",
        "  eos = word2idx_outputs['<eos>']\n",
        "  \n",
        "  s = np.zeros((1, LATENT_DIM_DECODER))\n",
        "  c = np.zeros((1, LATENT_DIM_DECODER))\n",
        "  \n",
        "  # creating the translation\n",
        "  output_sentence = []\n",
        "  for _ in range(max_len_target):\n",
        "    o,s,c = decoder_model.predict([target_seq, enc_out, s, c])\n",
        "    \n",
        "    idx = np.argmax(o.flatten())\n",
        "    \n",
        "    if eos==idx:\n",
        "      break\n",
        "      \n",
        "    word = ''\n",
        "    \n",
        "    if idx>0:\n",
        "      word = idx2word_trans[idx]\n",
        "      output_sentence.append(word)\n",
        "    \n",
        "    target_seq[0,0] = idx\n",
        "  \n",
        "  return ' '.join(output_sentence)"
      ],
      "execution_count": 0,
      "outputs": []
    },
    {
      "cell_type": "code",
      "metadata": {
        "id": "2liYiYbGrNBE",
        "colab_type": "code",
        "outputId": "31baf1c0-52ff-4f30-efe9-60f07ba6e5b8",
        "colab": {
          "base_uri": "https://localhost:8080/",
          "height": 92
        }
      },
      "source": [
        "i = np.random.choice(len(input_texts))\n",
        "input_seq = encoder_inputs[i:i+1]\n",
        "translation = decode_sequence(input_seq)\n",
        "print('Input Sentence:',input_texts[i])\n",
        "print('Predicted Translation:',translation)"
      ],
      "execution_count": 40,
      "outputs": [
        {
          "output_type": "stream",
          "text": [
            "Input Sentence: never thought i'd hear you say that since i feel you party all the time\n",
            "Predicted Translation: i do more than just party i actually live here...i have family here...i work a normal job here...it's not all partying\n",
            "\n"
          ],
          "name": "stdout"
        }
      ]
    },
    {
      "cell_type": "code",
      "metadata": {
        "id": "HESZAGYEkxHK",
        "colab_type": "code",
        "colab": {}
      },
      "source": [
        ""
      ],
      "execution_count": 0,
      "outputs": []
    }
  ]
}