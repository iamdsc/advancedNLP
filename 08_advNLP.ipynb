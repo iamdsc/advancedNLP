{
  "nbformat": 4,
  "nbformat_minor": 0,
  "metadata": {
    "colab": {
      "name": "08_advNLP.ipynb",
      "version": "0.3.2",
      "provenance": [],
      "collapsed_sections": []
    },
    "kernelspec": {
      "name": "python3",
      "display_name": "Python 3"
    },
    "accelerator": "GPU"
  },
  "cells": [
    {
      "cell_type": "markdown",
      "metadata": {
        "id": "vz-SmFxrI7W7",
        "colab_type": "text"
      },
      "source": [
        "### Memory Networks"
      ]
    },
    {
      "cell_type": "code",
      "metadata": {
        "id": "iv4ANXQcsPA0",
        "colab_type": "code",
        "outputId": "8e4f2912-fca8-479b-ab31-6d8ac4507586",
        "colab": {
          "base_uri": "https://localhost:8080/",
          "height": 35
        }
      },
      "source": [
        "import numpy as np\n",
        "import keras.backend as K\n",
        "import matplotlib.pyplot as plt\n",
        "import re\n",
        "import tarfile\n",
        "\n",
        "from keras.models import Model\n",
        "from keras.layers import Dense,Embedding,Input,Lambda,Reshape,add,dot,Activation\n",
        "from keras.preprocessing.sequence import pad_sequences\n",
        "from keras.optimizers import Adam,RMSprop\n",
        "from keras.utils.data_utils import get_file"
      ],
      "execution_count": 1,
      "outputs": [
        {
          "output_type": "stream",
          "text": [
            "Using TensorFlow backend.\n"
          ],
          "name": "stderr"
        }
      ]
    },
    {
      "cell_type": "code",
      "metadata": {
        "id": "v-79_nN1t3C3",
        "colab_type": "code",
        "outputId": "c68244a8-0b4a-4bc7-d130-00fbd621d1aa",
        "colab": {
          "base_uri": "https://localhost:8080/",
          "height": 220
        }
      },
      "source": [
        "# get the data and open compressed file\n",
        "# path = get_file('babi-tasks-v1-2.tar.gz',\n",
        "#                 origin='https://s3.amazonaws.com/text-datasets/babi_tasks_1-20_v1-2.tar.gz')\n",
        "!wget https://s3.amazonaws.com/text-datasets/babi_tasks_1-20_v1-2.tar.gz"
      ],
      "execution_count": 2,
      "outputs": [
        {
          "output_type": "stream",
          "text": [
            "--2019-08-12 09:00:20--  https://s3.amazonaws.com/text-datasets/babi_tasks_1-20_v1-2.tar.gz\n",
            "Resolving s3.amazonaws.com (s3.amazonaws.com)... 52.216.144.61\n",
            "Connecting to s3.amazonaws.com (s3.amazonaws.com)|52.216.144.61|:443... connected.\n",
            "HTTP request sent, awaiting response... 200 OK\n",
            "Length: 11745123 (11M) [application/x-gzip]\n",
            "Saving to: ‘babi_tasks_1-20_v1-2.tar.gz.1’\n",
            "\n",
            "babi_tasks_1-20_v1- 100%[===================>]  11.20M  6.04MB/s    in 1.9s    \n",
            "\n",
            "2019-08-12 09:00:23 (6.04 MB/s) - ‘babi_tasks_1-20_v1-2.tar.gz.1’ saved [11745123/11745123]\n",
            "\n"
          ],
          "name": "stdout"
        }
      ]
    },
    {
      "cell_type": "code",
      "metadata": {
        "id": "r4wNi53lfSN-",
        "colab_type": "code",
        "colab": {}
      },
      "source": [
        "tar = tarfile.open('babi_tasks_1-20_v1-2.tar.gz')\n",
        "tar.extractall()"
      ],
      "execution_count": 0,
      "outputs": []
    },
    {
      "cell_type": "code",
      "metadata": {
        "id": "Q94_8KHCua_q",
        "colab_type": "code",
        "colab": {}
      },
      "source": [
        "# dict to get relevant data from tar file\n",
        "challenges = {\n",
        "    'single_supporting_fact_10k':'tasks_1-20_v1-2/en-10k/qa1_single-supporting-fact_{}.txt',\n",
        "    'two_supporting_facts_10k':'tasks_1-20_v1-2/en-10k/qa2_two-supporting-facts_{}.txt'\n",
        "}"
      ],
      "execution_count": 0,
      "outputs": []
    },
    {
      "cell_type": "code",
      "metadata": {
        "id": "bSiiuMPOv6CH",
        "colab_type": "code",
        "colab": {}
      },
      "source": [
        "def tokenize(sent):\n",
        "  # returns the tokens of a sentence including punctuation\n",
        "  return [x.strip() for x in re.split('(\\W+)?',sent) if x.strip()]"
      ],
      "execution_count": 0,
      "outputs": []
    },
    {
      "cell_type": "code",
      "metadata": {
        "id": "AzkHsquGGcH5",
        "colab_type": "code",
        "colab": {}
      },
      "source": [
        "def get_stories(f):\n",
        "  # data will return a list of triples\n",
        "  # each triple contains:\n",
        "  # 1. a story\n",
        "  # 2. a question about the story\n",
        "  # 3. the answer to the question\n",
        "  data = []\n",
        "  story = []\n",
        "  \n",
        "  for line in f:\n",
        "    line = line.decode('utf-8').strip()\n",
        "    nid, line = line.split(' ',1)\n",
        "    \n",
        "    if int(nid) == 1: # begin a new story\n",
        "      story = []\n",
        "    \n",
        "    if '\\t' in line: # this line contains a ques and answer\n",
        "      q, a, _ = line.split('\\t')\n",
        "      q = tokenize(q)\n",
        "      story_so_far = [[str(i)]+s for i,s in enumerate(story) if s]\n",
        "      \n",
        "      data.append((story_so_far, q, a))\n",
        "      story.append('')\n",
        "    else:\n",
        "      story.append(tokenize(line))\n",
        "  print(len(data))\n",
        "    \n",
        "  return data"
      ],
      "execution_count": 0,
      "outputs": []
    },
    {
      "cell_type": "code",
      "metadata": {
        "id": "LhoU3qudKS5u",
        "colab_type": "code",
        "colab": {}
      },
      "source": [
        "# recursively flatten a list\n",
        "def should_flatten(el):\n",
        "  return not isinstance(el, (str,bytes))\n",
        "\n",
        "def flatten(l):\n",
        "  for el in l:\n",
        "    if should_flatten(el):\n",
        "      yield from flatten(el)\n",
        "    else:\n",
        "      yield el"
      ],
      "execution_count": 0,
      "outputs": []
    },
    {
      "cell_type": "code",
      "metadata": {
        "id": "bEJoZamwK6xg",
        "colab_type": "code",
        "colab": {}
      },
      "source": [
        "def vectorize_stories(data, word2idx, story_maxlen, query_maxlen):\n",
        "  inputs, queries, answers = [],[],[]\n",
        "  for story,query,answer in data:\n",
        "    inputs.append([[word2idx[w] for w in s] for s in story])\n",
        "    queries.append([word2idx[w] for w in query])\n",
        "    answers.append([word2idx[answer]])\n",
        "  \n",
        "  return ([pad_sequences(x,maxlen=story_maxlen) for x in inputs],\n",
        "          pad_sequences(queries,maxlen=query_maxlen),\n",
        "          np.array(answers))"
      ],
      "execution_count": 0,
      "outputs": []
    },
    {
      "cell_type": "code",
      "metadata": {
        "id": "OhO0s-6qMpcv",
        "colab_type": "code",
        "colab": {}
      },
      "source": [
        "# padding stories so that every story has same\n",
        "# no. of sentences\n",
        "def stack_inputs(inputs, story_maxsents, story_maxlen):\n",
        "  for i, story in enumerate(inputs):\n",
        "    inputs[i] = np.concatenate(\n",
        "      [\n",
        "        story, \n",
        "        np.zeros((story_maxsents - story.shape[0], story_maxlen), 'int')\n",
        "      ]\n",
        "    )\n",
        "  return np.stack(inputs)"
      ],
      "execution_count": 0,
      "outputs": []
    },
    {
      "cell_type": "code",
      "metadata": {
        "id": "SV2fxTxqY5G1",
        "colab_type": "code",
        "colab": {}
      },
      "source": [
        "def get_data(challenge_type):\n",
        "  # to laod both ssf and tsf data\n",
        "  challenge = challenges[challenge_type]\n",
        "  \n",
        "  train_stories = get_stories(tar.extractfile(challenge.format('train')))\n",
        "  test_stories = get_stories(tar.extractfile(challenge.format('test')))\n",
        "  \n",
        "  print(len(train_stories),len(test_stories))\n",
        "  stories = train_stories + test_stories\n",
        "  \n",
        "  story_maxlen = max((len(s) for x,_,_ in stories for s in x)) \n",
        "  story_maxsents = max((len(x) for x,_,_ in stories))\n",
        "  query_maxlen = max(len(x) for _,x,_ in stories)\n",
        "  \n",
        "  vocab = sorted(set(flatten(stories)))\n",
        "  vocab.insert(0, '<PAD>')\n",
        "  vocab_size = len(vocab)\n",
        "  \n",
        "  word2idx = {c:i for i,c in enumerate(vocab)}\n",
        "  \n",
        "  inputs_train, queries_train, answers_train = vectorize_stories(\n",
        "                                               train_stories,\n",
        "                                               word2idx,\n",
        "                                               story_maxlen,\n",
        "                                               query_maxlen)\n",
        "  inputs_test, queries_test, answers_test = vectorize_stories(\n",
        "                                               test_stories,\n",
        "                                               word2idx,\n",
        "                                               story_maxlen,\n",
        "                                               query_maxlen)\n",
        "\n",
        "  inputs_train = stack_inputs(inputs_train,story_maxsents,story_maxlen)\n",
        "  inputs_test = stack_inputs(inputs_test,story_maxsents,story_maxlen)\n",
        "  \n",
        "  print('Inputs Train shape, Inputs Test shape:',inputs_train.shape,\n",
        "                                                 inputs_test.shape)\n",
        "  \n",
        "  return (train_stories,test_stories,inputs_train,queries_train,\n",
        "          answers_train,inputs_test,queries_test,answers_test,\n",
        "          story_maxsents,story_maxlen,query_maxlen,vocab,vocab_size)"
      ],
      "execution_count": 0,
      "outputs": []
    },
    {
      "cell_type": "code",
      "metadata": {
        "id": "00uNVPeDc8Pq",
        "colab_type": "code",
        "outputId": "94fb277d-cb2e-4989-ba4c-a4cf225f04de",
        "colab": {
          "base_uri": "https://localhost:8080/",
          "height": 128
        }
      },
      "source": [
        "# get the ssf data\n",
        "train_stories, test_stories, \\\n",
        "  inputs_train, queries_train, answers_train, \\\n",
        "  inputs_test, queries_test, answers_test, \\\n",
        "  story_maxsents, story_maxlen, query_maxlen, \\\n",
        "  vocab, vocab_size = get_data('single_supporting_fact_10k')"
      ],
      "execution_count": 11,
      "outputs": [
        {
          "output_type": "stream",
          "text": [
            "/usr/lib/python3.6/re.py:212: FutureWarning: split() requires a non-empty pattern match.\n",
            "  return _compile(pattern, flags).split(string, maxsplit)\n"
          ],
          "name": "stderr"
        },
        {
          "output_type": "stream",
          "text": [
            "10000\n",
            "1000\n",
            "10000 1000\n",
            "Inputs Train shape, Inputs Test shape: (10000, 10, 8) (1000, 10, 8)\n"
          ],
          "name": "stdout"
        }
      ]
    },
    {
      "cell_type": "code",
      "metadata": {
        "id": "AWirlnQvddw_",
        "colab_type": "code",
        "outputId": "e7f119fb-3448-4081-acb0-8d504fd4daee",
        "colab": {
          "base_uri": "https://localhost:8080/",
          "height": 185
        }
      },
      "source": [
        "## create the model\n",
        "embedding_dim = 15\n",
        "\n",
        "input_story_ = Input((story_maxsents, story_maxlen))\n",
        "embedded_story = Embedding(vocab_size,embedding_dim)(input_story_)\n",
        "embedded_story = Lambda(lambda x:K.sum(x,axis=2))(embedded_story)\n",
        "print('Input Story shape, Embedded Story shape',input_story_.shape,\n",
        "                                                embedded_story.shape)"
      ],
      "execution_count": 12,
      "outputs": [
        {
          "output_type": "stream",
          "text": [
            "WARNING: Logging before flag parsing goes to stderr.\n",
            "W0812 09:00:28.034842 140134442682240 deprecation_wrapper.py:119] From /usr/local/lib/python3.6/dist-packages/keras/backend/tensorflow_backend.py:74: The name tf.get_default_graph is deprecated. Please use tf.compat.v1.get_default_graph instead.\n",
            "\n",
            "W0812 09:00:28.053388 140134442682240 deprecation_wrapper.py:119] From /usr/local/lib/python3.6/dist-packages/keras/backend/tensorflow_backend.py:517: The name tf.placeholder is deprecated. Please use tf.compat.v1.placeholder instead.\n",
            "\n",
            "W0812 09:00:28.058599 140134442682240 deprecation_wrapper.py:119] From /usr/local/lib/python3.6/dist-packages/keras/backend/tensorflow_backend.py:4138: The name tf.random_uniform is deprecated. Please use tf.random.uniform instead.\n",
            "\n"
          ],
          "name": "stderr"
        },
        {
          "output_type": "stream",
          "text": [
            "Input Story shape, Embedded Story shape (?, 10, 8) (?, 10, 15)\n"
          ],
          "name": "stdout"
        }
      ]
    },
    {
      "cell_type": "code",
      "metadata": {
        "id": "nficSuXJiF0k",
        "colab_type": "code",
        "colab": {}
      },
      "source": [
        "input_question_ = Input((query_maxlen,))\n",
        "embedded_question = Embedding(vocab_size,embedding_dim)(input_question_)\n",
        "embedded_question = Lambda(lambda x:K.sum(x,axis=1))(embedded_question)"
      ],
      "execution_count": 0,
      "outputs": []
    },
    {
      "cell_type": "code",
      "metadata": {
        "id": "CiRJGe0ciiLB",
        "colab_type": "code",
        "outputId": "7d0ec204-d311-483f-f145-79e7eec0edf4",
        "colab": {
          "base_uri": "https://localhost:8080/",
          "height": 35
        }
      },
      "source": [
        "# to dot with story we add a sequence length of 1 to ques\n",
        "embedded_question = Reshape((1,embedding_dim))(embedded_question)\n",
        "print('Input ques shape, Embedded ques shape',input_question_.shape,\n",
        "                                              embedded_question.shape)"
      ],
      "execution_count": 14,
      "outputs": [
        {
          "output_type": "stream",
          "text": [
            "Input ques shape, Embedded ques shape (?, 4) (?, 1, 15)\n"
          ],
          "name": "stdout"
        }
      ]
    },
    {
      "cell_type": "code",
      "metadata": {
        "id": "mg0z0rC_jG9h",
        "colab_type": "code",
        "outputId": "8071ea45-0c48-4752-cea5-190acad7043e",
        "colab": {
          "base_uri": "https://localhost:8080/",
          "height": 35
        }
      },
      "source": [
        "# calculate weights for each story line\n",
        "x = dot([embedded_story, embedded_question],2)\n",
        "x = Reshape((story_maxsents,))(x) # flatten\n",
        "x = Activation('softmax')(x)\n",
        "story_weights = Reshape((story_maxsents,1))(x) # unflatten to dot later\n",
        "print('Story weights shape',story_weights.shape)"
      ],
      "execution_count": 15,
      "outputs": [
        {
          "output_type": "stream",
          "text": [
            "Story weights shape (?, 10, 1)\n"
          ],
          "name": "stdout"
        }
      ]
    },
    {
      "cell_type": "code",
      "metadata": {
        "id": "PSlrPJdwj-Oa",
        "colab_type": "code",
        "colab": {}
      },
      "source": [
        "x = dot([story_weights,embedded_story], 1)\n",
        "x = Reshape((embedding_dim,))(x)\n",
        "ans = Dense(vocab_size,activation='softmax')(x)"
      ],
      "execution_count": 0,
      "outputs": []
    },
    {
      "cell_type": "code",
      "metadata": {
        "id": "ecpAMMPzkmQg",
        "colab_type": "code",
        "colab": {}
      },
      "source": [
        "# make the model\n",
        "model = Model([input_story_,input_question_],ans)"
      ],
      "execution_count": 0,
      "outputs": []
    },
    {
      "cell_type": "code",
      "metadata": {
        "id": "sbPX24pqku1h",
        "colab_type": "code",
        "colab": {}
      },
      "source": [
        "# compile the model\n",
        "model.compile(optimizer=RMSprop(lr=1e-2),\n",
        "                                loss='sparse_categorical_crossentropy',\n",
        "                                metrics=['accuracy'])"
      ],
      "execution_count": 0,
      "outputs": []
    },
    {
      "cell_type": "code",
      "metadata": {
        "id": "LIweqcElk-OA",
        "colab_type": "code",
        "outputId": "838d1260-aa01-4066-ab98-828b5961edf8",
        "colab": {
          "base_uri": "https://localhost:8080/",
          "height": 296
        }
      },
      "source": [
        "# train the model\n",
        "r = model.fit([inputs_train,queries_train],\n",
        "              answers_train,\n",
        "              epochs=4,\n",
        "              batch_size=32,\n",
        "              validation_data=([inputs_test,queries_test],answers_test))"
      ],
      "execution_count": 19,
      "outputs": [
        {
          "output_type": "stream",
          "text": [
            "W0812 09:00:28.407648 140134442682240 deprecation.py:323] From /usr/local/lib/python3.6/dist-packages/tensorflow/python/ops/math_grad.py:1250: add_dispatch_support.<locals>.wrapper (from tensorflow.python.ops.array_ops) is deprecated and will be removed in a future version.\n",
            "Instructions for updating:\n",
            "Use tf.where in 2.0, which has the same broadcast rule as np.where\n",
            "W0812 09:00:28.547237 140134442682240 deprecation_wrapper.py:119] From /usr/local/lib/python3.6/dist-packages/keras/backend/tensorflow_backend.py:986: The name tf.assign_add is deprecated. Please use tf.compat.v1.assign_add instead.\n",
            "\n"
          ],
          "name": "stderr"
        },
        {
          "output_type": "stream",
          "text": [
            "Train on 10000 samples, validate on 1000 samples\n",
            "Epoch 1/4\n",
            "10000/10000 [==============================] - 2s 239us/step - loss: 0.7161 - acc: 0.7532 - val_loss: 0.0222 - val_acc: 0.9940\n",
            "Epoch 2/4\n",
            "10000/10000 [==============================] - 1s 146us/step - loss: 0.0122 - acc: 0.9970 - val_loss: 0.0038 - val_acc: 0.9990\n",
            "Epoch 3/4\n",
            "10000/10000 [==============================] - 1s 147us/step - loss: 0.0055 - acc: 0.9988 - val_loss: 1.4598e-05 - val_acc: 1.0000\n",
            "Epoch 4/4\n",
            "10000/10000 [==============================] - 1s 146us/step - loss: 0.0064 - acc: 0.9984 - val_loss: 1.4428e-05 - val_acc: 1.0000\n"
          ],
          "name": "stdout"
        }
      ]
    },
    {
      "cell_type": "code",
      "metadata": {
        "id": "YlawQXpKlUPB",
        "colab_type": "code",
        "outputId": "4db94dfa-9e42-419e-ee2e-d0120aa2805a",
        "colab": {
          "base_uri": "https://localhost:8080/",
          "height": 183
        }
      },
      "source": [
        "# check how we weight each input sentence given a story and question\n",
        "debug_model = Model([input_story_,input_question_],story_weights)\n",
        "\n",
        "story_idx = np.random.choice(len(train_stories))\n",
        "\n",
        "# get weights from debug model\n",
        "i = inputs_train[story_idx:story_idx+1]\n",
        "q = queries_train[story_idx:story_idx+1]\n",
        "w = debug_model.predict([i,q]).flatten()\n",
        "\n",
        "story,question,ans = train_stories[story_idx]\n",
        "print('Story:')\n",
        "for i,line in enumerate(story):\n",
        "  print('{:1.5f}'.format(w[i]),' '.join(line))\n",
        "\n",
        "print('question:',' '.join(question))\n",
        "print('answer:',ans)"
      ],
      "execution_count": 20,
      "outputs": [
        {
          "output_type": "stream",
          "text": [
            "Story:\n",
            "0.00000 0 Daniel moved to the bedroom .\n",
            "0.00044 1 Mary moved to the office .\n",
            "0.00742 3 Mary travelled to the bedroom .\n",
            "0.00000 4 Sandra journeyed to the bathroom .\n",
            "0.99209 6 Mary journeyed to the hallway .\n",
            "0.00005 7 John moved to the hallway .\n",
            "question: Where is Mary ?\n",
            "answer: hallway\n"
          ],
          "name": "stdout"
        }
      ]
    },
    {
      "cell_type": "code",
      "metadata": {
        "id": "-HE8p02BqPI9",
        "colab_type": "code",
        "outputId": "d7835dd0-2542-4d05-da5e-0e05f20e886b",
        "colab": {
          "base_uri": "https://localhost:8080/",
          "height": 128
        }
      },
      "source": [
        "# get the tsf data\n",
        "train_stories, test_stories, \\\n",
        "  inputs_train, queries_train, answers_train, \\\n",
        "  inputs_test, queries_test, answers_test, \\\n",
        "  story_maxsents, story_maxlen, query_maxlen, \\\n",
        "  vocab, vocab_size = get_data('two_supporting_facts_10k')"
      ],
      "execution_count": 21,
      "outputs": [
        {
          "output_type": "stream",
          "text": [
            "/usr/lib/python3.6/re.py:212: FutureWarning: split() requires a non-empty pattern match.\n",
            "  return _compile(pattern, flags).split(string, maxsplit)\n"
          ],
          "name": "stderr"
        },
        {
          "output_type": "stream",
          "text": [
            "10000\n",
            "1000\n",
            "10000 1000\n",
            "Inputs Train shape, Inputs Test shape: (10000, 88, 8) (1000, 88, 8)\n"
          ],
          "name": "stdout"
        }
      ]
    },
    {
      "cell_type": "code",
      "metadata": {
        "id": "18et-5hY9w2L",
        "colab_type": "code",
        "colab": {}
      },
      "source": [
        "# create the model\n",
        "embedding_dim = 30"
      ],
      "execution_count": 0,
      "outputs": []
    },
    {
      "cell_type": "code",
      "metadata": {
        "id": "pyMYZuUa-No6",
        "colab_type": "code",
        "colab": {}
      },
      "source": [
        "def embed_and_sum(x,axis=2):\n",
        "  x = Embedding(vocab_size, embedding_dim)(x)\n",
        "  x = Lambda(lambda x:K.sum(x,axis))(x)\n",
        "  return x"
      ],
      "execution_count": 0,
      "outputs": []
    },
    {
      "cell_type": "code",
      "metadata": {
        "id": "0nexETfV-dXk",
        "colab_type": "code",
        "colab": {}
      },
      "source": [
        "input_story_ = Input((story_maxsents,story_maxlen))\n",
        "input_question_ = Input((query_maxlen,))"
      ],
      "execution_count": 0,
      "outputs": []
    },
    {
      "cell_type": "code",
      "metadata": {
        "id": "hBszKQ7e-usH",
        "colab_type": "code",
        "colab": {}
      },
      "source": [
        "# embed the inputs\n",
        "embedded_story = embed_and_sum(input_story_)\n",
        "embedded_question = embed_and_sum(input_question_, 1)"
      ],
      "execution_count": 0,
      "outputs": []
    },
    {
      "cell_type": "code",
      "metadata": {
        "id": "ec8WPlCaDE5w",
        "colab_type": "code",
        "colab": {}
      },
      "source": [
        "dense_layer = Dense(embedding_dim, activation='elu')"
      ],
      "execution_count": 0,
      "outputs": []
    },
    {
      "cell_type": "code",
      "metadata": {
        "id": "KIS5jLV2-86B",
        "colab_type": "code",
        "colab": {}
      },
      "source": [
        "# define one hop\n",
        "# the 'query' can be the ques, or ans from prev hop\n",
        "def hop(query, story):\n",
        "  # query shape = (embedding_dim,)\n",
        "  # story shape = (num_sentences, embedding_dim)\n",
        "  x = Reshape((1,embedding_dim))(query)\n",
        "  x = dot([story,x],2)\n",
        "  x = Reshape((story_maxsents,))(x)\n",
        "  x = Activation('softmax')(x)\n",
        "  story_weights = Reshape((story_maxsents,1))(x)\n",
        "  \n",
        "  # make a new embedding\n",
        "  story_embedding2 = embed_and_sum(input_story_)\n",
        "  x = dot([story_weights,story_embedding2],1)\n",
        "  x = Reshape((embedding_dim,))(x)\n",
        "  x = dense_layer(x)\n",
        "  return x, story_embedding2, story_weights"
      ],
      "execution_count": 0,
      "outputs": []
    },
    {
      "cell_type": "code",
      "metadata": {
        "id": "YOxJV3nEBF0a",
        "colab_type": "code",
        "colab": {}
      },
      "source": [
        "# do the hops\n",
        "ans1, embedded_story, story_weights1 = hop(embedded_question, embedded_story)\n",
        "ans2, _, story_weights2 = hop(ans1, embedded_story)"
      ],
      "execution_count": 0,
      "outputs": []
    },
    {
      "cell_type": "code",
      "metadata": {
        "id": "qejXovdeEZ0_",
        "colab_type": "code",
        "colab": {}
      },
      "source": [
        "# get the final answer\n",
        "ans = Dense(vocab_size, activation='softmax')(ans2)"
      ],
      "execution_count": 0,
      "outputs": []
    },
    {
      "cell_type": "code",
      "metadata": {
        "id": "_fz-UTyyEpnd",
        "colab_type": "code",
        "colab": {}
      },
      "source": [
        "# build the model\n",
        "model2 = Model([input_story_, input_question_], ans)\n",
        "\n",
        "# compile the model\n",
        "model2.compile(optimizer=RMSprop(lr=5e-3),\n",
        "               loss='sparse_categorical_crossentropy',\n",
        "               metrics=['accuracy'])"
      ],
      "execution_count": 0,
      "outputs": []
    },
    {
      "cell_type": "code",
      "metadata": {
        "id": "LIekYkGKFEgo",
        "colab_type": "code",
        "colab": {
          "base_uri": "https://localhost:8080/",
          "height": 1000
        },
        "outputId": "9ffbb6f1-b0da-420f-e198-3ada36512f88"
      },
      "source": [
        "# fit the model\n",
        "r = model2.fit([inputs_train, queries_train],\n",
        "               answers_train,\n",
        "               epochs=30,\n",
        "               batch_size=32,\n",
        "               validation_data=([inputs_test,queries_test],answers_test))"
      ],
      "execution_count": 32,
      "outputs": [
        {
          "output_type": "stream",
          "text": [
            "Train on 10000 samples, validate on 1000 samples\n",
            "Epoch 1/30\n",
            "10000/10000 [==============================] - 3s 347us/step - loss: 1.7549 - acc: 0.2542 - val_loss: 1.5495 - val_acc: 0.3530\n",
            "Epoch 2/30\n",
            "10000/10000 [==============================] - 3s 309us/step - loss: 0.9835 - acc: 0.6167 - val_loss: 0.7000 - val_acc: 0.7180\n",
            "Epoch 3/30\n",
            "10000/10000 [==============================] - 3s 306us/step - loss: 0.6382 - acc: 0.7551 - val_loss: 0.6111 - val_acc: 0.7520\n",
            "Epoch 4/30\n",
            "10000/10000 [==============================] - 3s 308us/step - loss: 0.5255 - acc: 0.8042 - val_loss: 0.5883 - val_acc: 0.7680\n",
            "Epoch 5/30\n",
            "10000/10000 [==============================] - 3s 306us/step - loss: 0.4303 - acc: 0.8458 - val_loss: 0.5429 - val_acc: 0.8200\n",
            "Epoch 6/30\n",
            "10000/10000 [==============================] - 3s 318us/step - loss: 0.3686 - acc: 0.8755 - val_loss: 0.3931 - val_acc: 0.8570\n",
            "Epoch 7/30\n",
            "10000/10000 [==============================] - 3s 307us/step - loss: 0.3162 - acc: 0.8909 - val_loss: 0.4039 - val_acc: 0.8660\n",
            "Epoch 8/30\n",
            "10000/10000 [==============================] - 3s 311us/step - loss: 0.2824 - acc: 0.9077 - val_loss: 0.3915 - val_acc: 0.8730\n",
            "Epoch 9/30\n",
            "10000/10000 [==============================] - 3s 306us/step - loss: 0.2627 - acc: 0.9203 - val_loss: 0.3693 - val_acc: 0.8790\n",
            "Epoch 10/30\n",
            "10000/10000 [==============================] - 3s 306us/step - loss: 0.2294 - acc: 0.9284 - val_loss: 0.3682 - val_acc: 0.8750\n",
            "Epoch 11/30\n",
            "10000/10000 [==============================] - 3s 310us/step - loss: 0.2142 - acc: 0.9347 - val_loss: 0.4176 - val_acc: 0.8720\n",
            "Epoch 12/30\n",
            "10000/10000 [==============================] - 3s 307us/step - loss: 0.2185 - acc: 0.9371 - val_loss: 0.4113 - val_acc: 0.8830\n",
            "Epoch 13/30\n",
            "10000/10000 [==============================] - 3s 304us/step - loss: 0.2014 - acc: 0.9424 - val_loss: 0.3517 - val_acc: 0.8960\n",
            "Epoch 14/30\n",
            "10000/10000 [==============================] - 3s 308us/step - loss: 0.1899 - acc: 0.9446 - val_loss: 0.3988 - val_acc: 0.8830\n",
            "Epoch 15/30\n",
            "10000/10000 [==============================] - 3s 309us/step - loss: 0.1825 - acc: 0.9491 - val_loss: 0.3181 - val_acc: 0.9020\n",
            "Epoch 16/30\n",
            "10000/10000 [==============================] - 3s 306us/step - loss: 0.1744 - acc: 0.9498 - val_loss: 0.3588 - val_acc: 0.8990\n",
            "Epoch 17/30\n",
            "10000/10000 [==============================] - 3s 305us/step - loss: 0.1676 - acc: 0.9526 - val_loss: 0.3532 - val_acc: 0.9020\n",
            "Epoch 18/30\n",
            "10000/10000 [==============================] - 3s 306us/step - loss: 0.1777 - acc: 0.9509 - val_loss: 0.3304 - val_acc: 0.8990\n",
            "Epoch 19/30\n",
            "10000/10000 [==============================] - 3s 322us/step - loss: 0.1582 - acc: 0.9552 - val_loss: 0.3563 - val_acc: 0.9030\n",
            "Epoch 20/30\n",
            "10000/10000 [==============================] - 3s 321us/step - loss: 0.1658 - acc: 0.9569 - val_loss: 0.3930 - val_acc: 0.9000\n",
            "Epoch 21/30\n",
            "10000/10000 [==============================] - 3s 316us/step - loss: 0.1735 - acc: 0.9535 - val_loss: 0.4649 - val_acc: 0.8820\n",
            "Epoch 22/30\n",
            "10000/10000 [==============================] - 3s 309us/step - loss: 0.1695 - acc: 0.9528 - val_loss: 0.3564 - val_acc: 0.9070\n",
            "Epoch 23/30\n",
            "10000/10000 [==============================] - 3s 307us/step - loss: 0.1642 - acc: 0.9558 - val_loss: 0.3744 - val_acc: 0.8950\n",
            "Epoch 24/30\n",
            "10000/10000 [==============================] - 3s 304us/step - loss: 0.1529 - acc: 0.9589 - val_loss: 0.3740 - val_acc: 0.8900\n",
            "Epoch 25/30\n",
            "10000/10000 [==============================] - 3s 305us/step - loss: 0.1524 - acc: 0.9580 - val_loss: 0.3210 - val_acc: 0.9070\n",
            "Epoch 26/30\n",
            "10000/10000 [==============================] - 3s 303us/step - loss: 0.1665 - acc: 0.9571 - val_loss: 0.3517 - val_acc: 0.9000\n",
            "Epoch 27/30\n",
            "10000/10000 [==============================] - 3s 302us/step - loss: 0.1489 - acc: 0.9621 - val_loss: 0.3326 - val_acc: 0.9080\n",
            "Epoch 28/30\n",
            "10000/10000 [==============================] - 3s 302us/step - loss: 0.1409 - acc: 0.9638 - val_loss: 0.3502 - val_acc: 0.9060\n",
            "Epoch 29/30\n",
            "10000/10000 [==============================] - 3s 304us/step - loss: 0.1448 - acc: 0.9625 - val_loss: 0.4034 - val_acc: 0.9140\n",
            "Epoch 30/30\n",
            "10000/10000 [==============================] - 3s 305us/step - loss: 0.1303 - acc: 0.9660 - val_loss: 0.3354 - val_acc: 0.9180\n"
          ],
          "name": "stdout"
        }
      ]
    },
    {
      "cell_type": "code",
      "metadata": {
        "id": "nAfSsa2TFf5S",
        "colab_type": "code",
        "colab": {}
      },
      "source": [
        "# print the story line weights again\n",
        "debug_model2 = Model([input_story_,input_question_],\n",
        "                     [story_weights1, story_weights2])"
      ],
      "execution_count": 0,
      "outputs": []
    },
    {
      "cell_type": "code",
      "metadata": {
        "id": "hW22KDr6Ga7P",
        "colab_type": "code",
        "colab": {}
      },
      "source": [
        "# choose a random story\n",
        "story_idx = np.random.choice(len(train_stories))\n",
        "\n",
        "# get weights from debug model\n",
        "i = inputs_train[story_idx:story_idx+1]\n",
        "q = queries_train[story_idx:story_idx+1]\n",
        "w1,w2 = debug_model2.predict([i,q])\n",
        "w1 = w1.flatten()\n",
        "w2 = w2.flatten()"
      ],
      "execution_count": 0,
      "outputs": []
    },
    {
      "cell_type": "code",
      "metadata": {
        "id": "__It5PjBG3Y7",
        "colab_type": "code",
        "colab": {
          "base_uri": "https://localhost:8080/",
          "height": 535
        },
        "outputId": "f4e03bb9-0afe-4e56-d4dd-01db211a04a6"
      },
      "source": [
        "story,question,ans = train_stories[story_idx]\n",
        "print('Story:')\n",
        "for j,line in enumerate(story):\n",
        "  print('{:1.5f}'.format(w1[j]),'{:1.5f}'.format(w2[j]),' '.join(line))\n",
        "\n",
        "print('question:',' '.join(question))\n",
        "print('answer:',ans)\n",
        "print('prediction:',vocab[np.argmax(model2.predict([i,q])[0])])"
      ],
      "execution_count": 41,
      "outputs": [
        {
          "output_type": "stream",
          "text": [
            "Story:\n",
            "0.00000 0.00000 0 Mary journeyed to the garden .\n",
            "0.00000 0.00000 1 Sandra went to the hallway .\n",
            "0.00000 0.00000 2 Mary went to the bathroom .\n",
            "0.00000 0.00000 3 John journeyed to the office .\n",
            "0.00000 0.00000 4 Sandra went back to the garden .\n",
            "0.00000 0.00000 5 Sandra journeyed to the bathroom .\n",
            "0.00000 0.00000 6 Mary moved to the office .\n",
            "0.00000 0.00000 7 Daniel moved to the garden .\n",
            "0.00000 0.00000 8 Daniel travelled to the bathroom .\n",
            "0.00000 0.00000 9 Mary travelled to the garden .\n",
            "0.00000 0.00000 10 John journeyed to the hallway .\n",
            "0.00000 0.00000 11 Sandra travelled to the kitchen .\n",
            "0.00000 0.00000 12 Sandra went back to the garden .\n",
            "0.00000 0.00000 13 Mary moved to the hallway .\n",
            "0.00000 0.00000 14 Sandra journeyed to the hallway .\n",
            "0.00000 0.00000 15 Mary journeyed to the bedroom .\n",
            "0.00000 0.00000 16 Mary moved to the hallway .\n",
            "0.00000 0.00019 17 Daniel went back to the kitchen .\n",
            "0.00000 0.00000 18 John travelled to the kitchen .\n",
            "0.00000 0.10124 19 Daniel went back to the bedroom .\n",
            "1.00000 0.00000 20 Daniel grabbed the milk there .\n",
            "0.00000 0.00000 21 Mary moved to the bathroom .\n",
            "0.00000 0.00000 22 Sandra travelled to the kitchen .\n",
            "0.00000 0.89857 23 Daniel journeyed to the office .\n",
            "question: Where is the milk ?\n",
            "answer: office\n",
            "prediction: office\n"
          ],
          "name": "stdout"
        }
      ]
    },
    {
      "cell_type": "code",
      "metadata": {
        "id": "bVbbOoqJHqJT",
        "colab_type": "code",
        "colab": {
          "base_uri": "https://localhost:8080/",
          "height": 521
        },
        "outputId": "83dadc58-944e-4fa2-92e2-4b69f9d83a7e"
      },
      "source": [
        "# plot the results\n",
        "plt.plot(r.history['loss'], label='loss')\n",
        "plt.plot(r.history['val_loss'], label='val_loss')\n",
        "plt.legend()\n",
        "plt.show()\n",
        "\n",
        "plt.plot(r.history['acc'], label='acc')\n",
        "plt.plot(r.history['val_acc'], label='val_acc')\n",
        "plt.legend()\n",
        "plt.show()"
      ],
      "execution_count": 42,
      "outputs": [
        {
          "output_type": "display_data",
          "data": {
            "image/png": "[encoded data removed]",
            "text/plain": [
              "<Figure size 432x288 with 1 Axes>"
            ]
          },
          "metadata": {
            "tags": []
          }
        },
        {
          "output_type": "display_data",
          "data": {
            "image/png": "[encoded data removed]",
            "text/plain": [
              "<Figure size 432x288 with 1 Axes>"
            ]
          },
          "metadata": {
            "tags": []
          }
        }
      ]
    },
    {
      "cell_type": "code",
      "metadata": {
        "id": "AQ-ZLFveIpcP",
        "colab_type": "code",
        "colab": {}
      },
      "source": [
        ""
      ],
      "execution_count": 0,
      "outputs": []
    }
  ]
}